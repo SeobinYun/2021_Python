{
  "nbformat": 4,
  "nbformat_minor": 0,
  "metadata": {
    "colab": {
      "name": "210112숭실대학교.ipynb",
      "provenance": [],
      "collapsed_sections": [],
      "authorship_tag": "ABX9TyPtSdYG3ljHxqvK66t5C997",
      "include_colab_link": true
    },
    "kernelspec": {
      "display_name": "Python 3",
      "name": "python3"
    }
  },
  "cells": [
    {
      "cell_type": "markdown",
      "metadata": {
        "id": "view-in-github",
        "colab_type": "text"
      },
      "source": [
        "<a href=\"https://colab.research.google.com/github/SeobinYun/2021_Python/blob/master/210112%EC%88%AD%EC%8B%A4%EB%8C%80%ED%95%99%EA%B5%90.ipynb\" target=\"_parent\"><img src=\"https://colab.research.google.com/assets/colab-badge.svg\" alt=\"Open In Colab\"/></a>"
      ]
    },
    {
      "cell_type": "code",
      "metadata": {
        "id": "5hv6Id4L75U_"
      },
      "source": [
        "# 함수\n",
        "\n",
        "def add(a,b):\n",
        "  return a+b"
      ],
      "execution_count": null,
      "outputs": []
    },
    {
      "cell_type": "code",
      "metadata": {
        "colab": {
          "base_uri": "https://localhost:8080/"
        },
        "id": "BadGLFzT8MCH",
        "outputId": "1db305fa-45ff-4f72-d79c-1d1941ea8787"
      },
      "source": [
        "a=add(3,7)\n",
        "a"
      ],
      "execution_count": null,
      "outputs": [
        {
          "data": {
            "text/plain": [
              "10"
            ]
          },
          "execution_count": 4,
          "metadata": {
            "tags": []
          },
          "output_type": "execute_result"
        }
      ]
    },
    {
      "cell_type": "code",
      "metadata": {
        "id": "OYOOrLg38PMC"
      },
      "source": [
        "def say():\n",
        "  return 'hello'"
      ],
      "execution_count": null,
      "outputs": []
    },
    {
      "cell_type": "code",
      "metadata": {
        "colab": {
          "base_uri": "https://localhost:8080/",
          "height": 35
        },
        "id": "Anr595sp8l_r",
        "outputId": "eba13cc5-e35c-414d-dea7-295f70f694fb"
      },
      "source": [
        "a=say()\n",
        "a"
      ],
      "execution_count": null,
      "outputs": [
        {
          "data": {
            "application/vnd.google.colaboratory.intrinsic+json": {
              "type": "string"
            },
            "text/plain": [
              "'hello'"
            ]
          },
          "execution_count": 6,
          "metadata": {
            "tags": []
          },
          "output_type": "execute_result"
        }
      ]
    },
    {
      "cell_type": "code",
      "metadata": {
        "id": "PlqYii0B8nOZ"
      },
      "source": [
        "def add(a,b):\n",
        "  print(a+b)"
      ],
      "execution_count": null,
      "outputs": []
    },
    {
      "cell_type": "code",
      "metadata": {
        "colab": {
          "base_uri": "https://localhost:8080/"
        },
        "id": "xBUJQn1x8tZU",
        "outputId": "95d0d0ca-5cc9-449f-c647-86b9c81dca24"
      },
      "source": [
        "a = add(3,7)\n",
        "print(a)"
      ],
      "execution_count": null,
      "outputs": [
        {
          "name": "stdout",
          "output_type": "stream",
          "text": [
            "10\n",
            "None\n"
          ]
        }
      ]
    },
    {
      "cell_type": "markdown",
      "metadata": {
        "id": "GxIbWwUM9Hqj"
      },
      "source": [
        "밑변, 높이의 길이를 넣어주면 빗변의 길이를 반환해주는 함수를 만들어보세요."
      ]
    },
    {
      "cell_type": "code",
      "metadata": {
        "id": "h7wG-x-L83WM"
      },
      "source": [
        "def pytha(a,b):\n",
        "  #t=a**2+b**2\n",
        "  #return t//2\n",
        "  return (a*a + b*b) ** 0.5"
      ],
      "execution_count": null,
      "outputs": []
    },
    {
      "cell_type": "code",
      "metadata": {
        "colab": {
          "base_uri": "https://localhost:8080/"
        },
        "id": "GD4VDkmV-CcL",
        "outputId": "4c74d585-2a2c-4bd1-b736-422cbc447b20"
      },
      "source": [
        "pytha(3,4)"
      ],
      "execution_count": null,
      "outputs": [
        {
          "data": {
            "text/plain": [
              "5.0"
            ]
          },
          "execution_count": 26,
          "metadata": {
            "tags": []
          },
          "output_type": "execute_result"
        }
      ]
    },
    {
      "cell_type": "code",
      "metadata": {
        "id": "O6eCQMok-Eu5"
      },
      "source": [
        "def intro(name, age, sex=True):\n",
        "  print('나의 이름은 {}입니다.'.format(name))\n",
        "  print('나의 이름은 {}입니다.'.format(age))\n",
        "  if sex==True:\n",
        "    print('나는 남자입니다.')\n",
        "  else:\n",
        "    print('나는 여자입니다.')"
      ],
      "execution_count": null,
      "outputs": []
    },
    {
      "cell_type": "code",
      "metadata": {
        "colab": {
          "base_uri": "https://localhost:8080/"
        },
        "id": "DQYZw9JR_s0e",
        "outputId": "aca834ec-21a7-4c4a-d11e-f2850168e910"
      },
      "source": [
        "intro('윤서빈',20)"
      ],
      "execution_count": null,
      "outputs": [
        {
          "name": "stdout",
          "output_type": "stream",
          "text": [
            "나의 이름은 윤서빈입니다.\n",
            "나의 이름은 20입니다.\n",
            "나는 남자입니다.\n"
          ]
        }
      ]
    },
    {
      "cell_type": "code",
      "metadata": {
        "colab": {
          "base_uri": "https://localhost:8080/"
        },
        "id": "_uuJfHq9_v8C",
        "outputId": "df169455-efdc-4aa6-fd54-ac82a599f2b3"
      },
      "source": [
        "intro('윤서빈', 20, False)"
      ],
      "execution_count": null,
      "outputs": [
        {
          "name": "stdout",
          "output_type": "stream",
          "text": [
            "나의 이름은 윤서빈입니다.\n",
            "나의 이름은 20입니다.\n",
            "나는 여자입니다.\n"
          ]
        }
      ]
    },
    {
      "cell_type": "code",
      "metadata": {
        "colab": {
          "base_uri": "https://localhost:8080/"
        },
        "id": "2NAJTnKQ_z5k",
        "outputId": "8fb79695-3347-4080-ab9c-4bd01eb67bdb"
      },
      "source": [
        "a=input()"
      ],
      "execution_count": null,
      "outputs": [
        {
          "name": "stdout",
          "output_type": "stream",
          "text": [
            "냠냠냠\n"
          ]
        }
      ]
    },
    {
      "cell_type": "code",
      "metadata": {
        "colab": {
          "base_uri": "https://localhost:8080/",
          "height": 35
        },
        "id": "hYTqxd8s_4dX",
        "outputId": "362480c3-4219-479f-8fb9-467d7be89a90"
      },
      "source": [
        "a"
      ],
      "execution_count": null,
      "outputs": [
        {
          "data": {
            "application/vnd.google.colaboratory.intrinsic+json": {
              "type": "string"
            },
            "text/plain": [
              "'냠냠냠'"
            ]
          },
          "execution_count": 33,
          "metadata": {
            "tags": []
          },
          "output_type": "execute_result"
        }
      ]
    },
    {
      "cell_type": "code",
      "metadata": {
        "colab": {
          "base_uri": "https://localhost:8080/"
        },
        "id": "6rCVD2KU__Zt",
        "outputId": "cef4ea71-fc27-4305-da3e-627c17eef050"
      },
      "source": [
        "a=int(input('숫자를 입력하세요 : ')) # input은 무조건 문자로 받음. 그래서 int를 써서 숫자로 받도록함\n",
        "a"
      ],
      "execution_count": null,
      "outputs": [
        {
          "name": "stdout",
          "output_type": "stream",
          "text": [
            "숫자를 입력하세요 : 7\n"
          ]
        },
        {
          "data": {
            "text/plain": [
              "7"
            ]
          },
          "execution_count": 37,
          "metadata": {
            "tags": []
          },
          "output_type": "execute_result"
        }
      ]
    },
    {
      "cell_type": "code",
      "metadata": {
        "id": "cBi2ZBcBACw4"
      },
      "source": [
        "f=open('test.txt','w')\n",
        "\n",
        "for i in range(1,11):\n",
        "  f.write('{}번째 줄입니다.\\n'.format(i))\n",
        "\n",
        "f.close()"
      ],
      "execution_count": null,
      "outputs": []
    },
    {
      "cell_type": "code",
      "metadata": {
        "colab": {
          "base_uri": "https://localhost:8080/"
        },
        "id": "mNZOMuDUA7g2",
        "outputId": "29ffa0e9-d3c6-4e3e-8259-ffb52420f2a9"
      },
      "source": [
        "f=open('test.txt','r')\n",
        "\n",
        "text=f.readlines()\n",
        "\n",
        "f.close()\n",
        "\n",
        "text"
      ],
      "execution_count": null,
      "outputs": [
        {
          "data": {
            "text/plain": [
              "['1번째 줄입니다.\\n',\n",
              " '2번째 줄입니다.\\n',\n",
              " '3번째 줄입니다.\\n',\n",
              " '4번째 줄입니다.\\n',\n",
              " '5번째 줄입니다.\\n',\n",
              " '6번째 줄입니다.\\n',\n",
              " '7번째 줄입니다.\\n',\n",
              " '8번째 줄입니다.\\n',\n",
              " '9번째 줄입니다.\\n',\n",
              " '10번째 줄입니다.\\n']"
            ]
          },
          "execution_count": 45,
          "metadata": {
            "tags": []
          },
          "output_type": "execute_result"
        }
      ]
    },
    {
      "cell_type": "code",
      "metadata": {
        "colab": {
          "base_uri": "https://localhost:8080/"
        },
        "id": "8Ao42BnZCQFp",
        "outputId": "e9eaf0ac-58e7-4a4f-c3f9-2b9de1fdb64a"
      },
      "source": [
        "for i in range(1,6): \n",
        "    print('*'*i)\n",
        "    "
      ],
      "execution_count": null,
      "outputs": [
        {
          "name": "stdout",
          "output_type": "stream",
          "text": [
            "*\n",
            "**\n",
            "***\n",
            "****\n",
            "*****\n"
          ]
        }
      ]
    },
    {
      "cell_type": "code",
      "metadata": {
        "colab": {
          "base_uri": "https://localhost:8080/"
        },
        "id": "dfX_sBM_DTMh",
        "outputId": "6a27bef8-cb66-428b-fda1-3e7a72c20caa"
      },
      "source": [
        "star()"
      ],
      "execution_count": null,
      "outputs": [
        {
          "name": "stdout",
          "output_type": "stream",
          "text": [
            "*\n",
            "**\n",
            "***\n",
            "****\n",
            "*****\n"
          ]
        }
      ]
    },
    {
      "cell_type": "code",
      "metadata": {
        "id": "mDoFmc4sDUGs"
      },
      "source": [
        "def cal(a):\n",
        "  if a%2==0:\n",
        "    print('짝수')\n",
        "  elif a%2!=0:\n",
        "    print('홀수')"
      ],
      "execution_count": null,
      "outputs": []
    },
    {
      "cell_type": "code",
      "metadata": {
        "colab": {
          "base_uri": "https://localhost:8080/"
        },
        "id": "34L8VhZmFGmU",
        "outputId": "6955705b-580a-4b97-cf91-9b868073980c"
      },
      "source": [
        "a=int(input('첫번째 숫자를 입력하세요 : '))\n",
        "b=int(input('두번째 숫자를 입력하세요 : '))\n",
        "print(a+b)"
      ],
      "execution_count": null,
      "outputs": [
        {
          "name": "stdout",
          "output_type": "stream",
          "text": [
            "첫번째 숫자를 입력하세요 : 3\n",
            "두번째 숫자를 입력하세요 : 6\n",
            "9\n"
          ]
        }
      ]
    },
    {
      "cell_type": "markdown",
      "metadata": {
        "id": "DWdnEGjAK5LL"
      },
      "source": [
        "1. 두 개의 수를 뽑아서 더해서 만들 수 있는 모든 수를 구하는 함수를 만들고, 재료로는 리스트를 넣어줘야합니다. (단, 같은 위치에 있는 수를 뽑을 수는 없습니다.)\n",
        "\n",
        "예를 들어 [2,1,3,4,1] 라는 리스트가 있다면 두 개를 뽑아서 만들 수 있는 모든 수를 구해서 [2,3,4,5,6,7]을 뽑아내야 합니다.\n",
        "\n",
        "---\n",
        "\n"
      ]
    },
    {
      "cell_type": "code",
      "metadata": {
        "id": "C65-QRMaKK8r"
      },
      "source": [
        "def hap(a=[]):\n",
        "  for i in range(1,6):\n",
        "    for j in range(i):\n",
        "      new.append(a[i]+a[j])\n",
        "\n",
        "  set.new\n"
      ],
      "execution_count": null,
      "outputs": []
    },
    {
      "cell_type": "code",
      "metadata": {
        "colab": {
          "base_uri": "https://localhost:8080/"
        },
        "id": "k3XOg55sMcNh",
        "outputId": "c0ec965a-135e-4fc6-aea0-fe05261f5720"
      },
      "source": [
        "n=10\n",
        "box=[True] *(n+1)\n",
        "box[0]=False\n",
        "box[1]=False\n",
        "\n",
        "for i in range(2,n+1):\n",
        "  for j in range(i,n+1,i):\n",
        "    if i==j:\n",
        "      continue\n",
        "    else:\n",
        "      box[j]=False\n",
        "\n",
        "box.count(True) \n",
        "#에라토스테네스의 체"
      ],
      "execution_count": null,
      "outputs": [
        {
          "data": {
            "text/plain": [
              "4"
            ]
          },
          "execution_count": 83,
          "metadata": {
            "tags": []
          },
          "output_type": "execute_result"
        }
      ]
    },
    {
      "cell_type": "code",
      "metadata": {
        "colab": {
          "base_uri": "https://localhost:8080/"
        },
        "id": "PHnB94XKO3Ev",
        "outputId": "e0e6912d-0a10-45c2-e830-07d0c96de224"
      },
      "source": [
        "box=[2,1,3,4,1]\n",
        "\n",
        "result = []\n",
        "for i in range(len(box)):\n",
        "  for j in range(i+1, len(box)):\n",
        "    result.append(box[i]+box[j])\n",
        "\n",
        "\n",
        "result=list(set(result))\n",
        "result"
      ],
      "execution_count": null,
      "outputs": [
        {
          "data": {
            "text/plain": [
              "[2, 3, 4, 5, 6, 7]"
            ]
          },
          "execution_count": 84,
          "metadata": {
            "tags": []
          },
          "output_type": "execute_result"
        }
      ]
    },
    {
      "cell_type": "code",
      "metadata": {
        "id": "MSdGqTnjRIK_"
      },
      "source": [
        "class bank: # class 함수들을 저장해놓은 주머니?\n",
        "\n",
        "  def func1(self, a):\n",
        "    self.money=a\n",
        "  "
      ],
      "execution_count": null,
      "outputs": []
    },
    {
      "cell_type": "code",
      "metadata": {
        "id": "M1yM_r1jTWs-"
      },
      "source": [
        "c1=bank()\n",
        "c1.func1(10000)"
      ],
      "execution_count": null,
      "outputs": []
    },
    {
      "cell_type": "code",
      "metadata": {
        "colab": {
          "base_uri": "https://localhost:8080/"
        },
        "id": "AGGLl9ukTcMl",
        "outputId": "1f15669b-cdec-415e-80e9-fcc7122e0748"
      },
      "source": [
        "c1.money"
      ],
      "execution_count": null,
      "outputs": [
        {
          "data": {
            "text/plain": [
              "10000"
            ]
          },
          "execution_count": 90,
          "metadata": {
            "tags": []
          },
          "output_type": "execute_result"
        }
      ]
    },
    {
      "cell_type": "code",
      "metadata": {
        "id": "4YoNqcpwTd56"
      },
      "source": [
        "c2=bank()\n",
        "c2.func1(100000)"
      ],
      "execution_count": null,
      "outputs": []
    },
    {
      "cell_type": "code",
      "metadata": {
        "colab": {
          "base_uri": "https://localhost:8080/"
        },
        "id": "4sdDP-URTqzl",
        "outputId": "62ab5923-f152-483a-c50c-2dfc2c866e83"
      },
      "source": [
        "c2.money"
      ],
      "execution_count": null,
      "outputs": [
        {
          "data": {
            "text/plain": [
              "100000"
            ]
          },
          "execution_count": 92,
          "metadata": {
            "tags": []
          },
          "output_type": "execute_result"
        }
      ]
    },
    {
      "cell_type": "code",
      "metadata": {
        "colab": {
          "base_uri": "https://localhost:8080/"
        },
        "id": "wkwN7gzXTrtK",
        "outputId": "c63b83e9-fca1-40f3-ab87-cf8dcb500e78"
      },
      "source": [
        "try:\n",
        "  print('hello')\n",
        "  5/0\n",
        "except:\n",
        "  print('오류가 났지만 무시합니다. ')\n",
        "\n",
        "\n",
        "print('계속 이어갑니다.')"
      ],
      "execution_count": null,
      "outputs": [
        {
          "name": "stdout",
          "output_type": "stream",
          "text": [
            "hello\n",
            "오류가 났지만 무시합니다. \n",
            "계속 이어갑니다.\n"
          ]
        }
      ]
    },
    {
      "cell_type": "code",
      "metadata": {
        "colab": {
          "base_uri": "https://localhost:8080/"
        },
        "id": "wgAeuA1wU4DV",
        "outputId": "31699cd0-e546-473d-ffdd-338f4d67fab6"
      },
      "source": [
        "abs(-5) #절댓값"
      ],
      "execution_count": null,
      "outputs": [
        {
          "data": {
            "text/plain": [
              "5"
            ]
          },
          "execution_count": 97,
          "metadata": {
            "tags": []
          },
          "output_type": "execute_result"
        }
      ]
    },
    {
      "cell_type": "code",
      "metadata": {
        "colab": {
          "base_uri": "https://localhost:8080/"
        },
        "id": "5TK7L452YYw-",
        "outputId": "1a499614-4b94-48a6-8895-e6175e0cc528"
      },
      "source": [
        "divmod(7,3) #몫과 나머지"
      ],
      "execution_count": null,
      "outputs": [
        {
          "data": {
            "text/plain": [
              "(2, 1)"
            ]
          },
          "execution_count": 99,
          "metadata": {
            "tags": []
          },
          "output_type": "execute_result"
        }
      ]
    },
    {
      "cell_type": "code",
      "metadata": {
        "colab": {
          "base_uri": "https://localhost:8080/"
        },
        "id": "C2une42vYckj",
        "outputId": "e9c40574-37f9-47d9-9ef8-c00a94b0bcad"
      },
      "source": [
        "int(3.4)"
      ],
      "execution_count": null,
      "outputs": [
        {
          "data": {
            "text/plain": [
              "3"
            ]
          },
          "execution_count": 100,
          "metadata": {
            "tags": []
          },
          "output_type": "execute_result"
        }
      ]
    },
    {
      "cell_type": "code",
      "metadata": {
        "colab": {
          "base_uri": "https://localhost:8080/"
        },
        "id": "9nmD2fDwYjDs",
        "outputId": "09b32890-204a-4525-e498-4286e5c44ffc"
      },
      "source": [
        "for n, i in enumerate(['one','two','three']):\n",
        "  print(n,i)"
      ],
      "execution_count": null,
      "outputs": [
        {
          "name": "stdout",
          "output_type": "stream",
          "text": [
            "0 one\n",
            "1 two\n",
            "2 three\n"
          ]
        }
      ]
    },
    {
      "cell_type": "code",
      "metadata": {
        "colab": {
          "base_uri": "https://localhost:8080/"
        },
        "id": "nETMVZ8VYrpP",
        "outputId": "e40aa654-d565-4e1b-d058-16cbfb7aa4b1"
      },
      "source": [
        "len('python')"
      ],
      "execution_count": null,
      "outputs": [
        {
          "data": {
            "text/plain": [
              "6"
            ]
          },
          "execution_count": 105,
          "metadata": {
            "tags": []
          },
          "output_type": "execute_result"
        }
      ]
    },
    {
      "cell_type": "code",
      "metadata": {
        "colab": {
          "base_uri": "https://localhost:8080/"
        },
        "id": "twC2U1yTY2kX",
        "outputId": "65d3e373-5377-4e5e-8814-84313f416ab4"
      },
      "source": [
        "len([1,2,3,])"
      ],
      "execution_count": null,
      "outputs": [
        {
          "data": {
            "text/plain": [
              "3"
            ]
          },
          "execution_count": 106,
          "metadata": {
            "tags": []
          },
          "output_type": "execute_result"
        }
      ]
    },
    {
      "cell_type": "code",
      "metadata": {
        "colab": {
          "base_uri": "https://localhost:8080/"
        },
        "id": "XlCh9dEEY3_x",
        "outputId": "8e3ac943-c186-44b1-d659-6ee9a064bddd"
      },
      "source": [
        "list('python')"
      ],
      "execution_count": null,
      "outputs": [
        {
          "data": {
            "text/plain": [
              "['p', 'y', 't', 'h', 'o', 'n']"
            ]
          },
          "execution_count": 107,
          "metadata": {
            "tags": []
          },
          "output_type": "execute_result"
        }
      ]
    },
    {
      "cell_type": "code",
      "metadata": {
        "colab": {
          "base_uri": "https://localhost:8080/"
        },
        "id": "ZwOE8WbSY92w",
        "outputId": "c85741f4-dae7-4455-908a-cb385f4a5cca"
      },
      "source": [
        "list(range(5))"
      ],
      "execution_count": null,
      "outputs": [
        {
          "data": {
            "text/plain": [
              "[0, 1, 2, 3, 4]"
            ]
          },
          "execution_count": 109,
          "metadata": {
            "tags": []
          },
          "output_type": "execute_result"
        }
      ]
    },
    {
      "cell_type": "code",
      "metadata": {
        "colab": {
          "base_uri": "https://localhost:8080/"
        },
        "id": "eYXEbsY8Y_Pf",
        "outputId": "a7fa5395-acf7-4959-eba2-7a2212d8400c"
      },
      "source": [
        "round(4.6)"
      ],
      "execution_count": null,
      "outputs": [
        {
          "data": {
            "text/plain": [
              "5"
            ]
          },
          "execution_count": 110,
          "metadata": {
            "tags": []
          },
          "output_type": "execute_result"
        }
      ]
    },
    {
      "cell_type": "code",
      "metadata": {
        "colab": {
          "base_uri": "https://localhost:8080/"
        },
        "id": "7HuPvcJVZF-g",
        "outputId": "31a9c895-9375-4a41-db77-9d9f5692be58"
      },
      "source": [
        "round(4.2)"
      ],
      "execution_count": null,
      "outputs": [
        {
          "data": {
            "text/plain": [
              "4"
            ]
          },
          "execution_count": 111,
          "metadata": {
            "tags": []
          },
          "output_type": "execute_result"
        }
      ]
    },
    {
      "cell_type": "code",
      "metadata": {
        "colab": {
          "base_uri": "https://localhost:8080/"
        },
        "id": "Z_Lsq-BqZHOu",
        "outputId": "8c0eefd0-2d3d-4d04-a2eb-e5fe9ce114fc"
      },
      "source": [
        "sorted([1,4,3,2])"
      ],
      "execution_count": null,
      "outputs": [
        {
          "data": {
            "text/plain": [
              "[1, 2, 3, 4]"
            ]
          },
          "execution_count": 113,
          "metadata": {
            "tags": []
          },
          "output_type": "execute_result"
        }
      ]
    },
    {
      "cell_type": "code",
      "metadata": {
        "colab": {
          "base_uri": "https://localhost:8080/",
          "height": 35
        },
        "id": "_h3CfRUPZKmf",
        "outputId": "1fb2d602-e4ad-44c3-a877-79844fedf88e"
      },
      "source": [
        "str(5)"
      ],
      "execution_count": null,
      "outputs": [
        {
          "data": {
            "application/vnd.google.colaboratory.intrinsic+json": {
              "type": "string"
            },
            "text/plain": [
              "'5'"
            ]
          },
          "execution_count": 114,
          "metadata": {
            "tags": []
          },
          "output_type": "execute_result"
        }
      ]
    },
    {
      "cell_type": "code",
      "metadata": {
        "colab": {
          "base_uri": "https://localhost:8080/"
        },
        "id": "nHeWBoQSZPTo",
        "outputId": "8c0b9cb0-961f-40c6-9f2f-5398dd30e4e9"
      },
      "source": [
        "max([1,2,3,4,5])"
      ],
      "execution_count": null,
      "outputs": [
        {
          "data": {
            "text/plain": [
              "5"
            ]
          },
          "execution_count": 115,
          "metadata": {
            "tags": []
          },
          "output_type": "execute_result"
        }
      ]
    },
    {
      "cell_type": "code",
      "metadata": {
        "colab": {
          "base_uri": "https://localhost:8080/"
        },
        "id": "hArFbyRQZS2V",
        "outputId": "a9b0c7b3-0593-4881-cf7a-3f8092d1543e"
      },
      "source": [
        "min([1,2,3,4,5])"
      ],
      "execution_count": null,
      "outputs": [
        {
          "data": {
            "text/plain": [
              "1"
            ]
          },
          "execution_count": 116,
          "metadata": {
            "tags": []
          },
          "output_type": "execute_result"
        }
      ]
    },
    {
      "cell_type": "code",
      "metadata": {
        "colab": {
          "base_uri": "https://localhost:8080/"
        },
        "id": "2BM4MouiZVSW",
        "outputId": "45402b27-88ca-434d-cce9-406e27733f0b"
      },
      "source": [
        "pow(2,40) #2의 40승"
      ],
      "execution_count": null,
      "outputs": [
        {
          "data": {
            "text/plain": [
              "1099511627776"
            ]
          },
          "execution_count": 117,
          "metadata": {
            "tags": []
          },
          "output_type": "execute_result"
        }
      ]
    },
    {
      "cell_type": "code",
      "metadata": {
        "colab": {
          "base_uri": "https://localhost:8080/"
        },
        "id": "VrvlNj0yZa28",
        "outputId": "3cd37863-5810-4164-b2ef-037751c584a4"
      },
      "source": [
        "sum([1,2,3,4,5])"
      ],
      "execution_count": null,
      "outputs": [
        {
          "data": {
            "text/plain": [
              "15"
            ]
          },
          "execution_count": 118,
          "metadata": {
            "tags": []
          },
          "output_type": "execute_result"
        }
      ]
    },
    {
      "cell_type": "code",
      "metadata": {
        "id": "37UfYZDRZdQ2"
      },
      "source": [
        "import time"
      ],
      "execution_count": null,
      "outputs": []
    },
    {
      "cell_type": "code",
      "metadata": {
        "colab": {
          "base_uri": "https://localhost:8080/"
        },
        "id": "KuMeAn__ZpGi",
        "outputId": "69fd5be6-e54b-4d10-d086-472e72f0ead4"
      },
      "source": [
        "time.time() #초 //1970년도 1월 1일 오전 0시부터 센 초..."
      ],
      "execution_count": null,
      "outputs": [
        {
          "data": {
            "text/plain": [
              "1610418236.3328063"
            ]
          },
          "execution_count": 124,
          "metadata": {
            "tags": []
          },
          "output_type": "execute_result"
        }
      ]
    },
    {
      "cell_type": "code",
      "metadata": {
        "colab": {
          "base_uri": "https://localhost:8080/"
        },
        "id": "kk4Sf3_zZyOC",
        "outputId": "b9d4e0bd-f740-4e7d-ac7f-a93ea7269c6d"
      },
      "source": [
        "time.localtime(0)"
      ],
      "execution_count": null,
      "outputs": [
        {
          "data": {
            "text/plain": [
              "time.struct_time(tm_year=1970, tm_mon=1, tm_mday=1, tm_hour=0, tm_min=0, tm_sec=0, tm_wday=3, tm_yday=1, tm_isdst=0)"
            ]
          },
          "execution_count": 125,
          "metadata": {
            "tags": []
          },
          "output_type": "execute_result"
        }
      ]
    },
    {
      "cell_type": "code",
      "metadata": {
        "colab": {
          "base_uri": "https://localhost:8080/"
        },
        "id": "hN0scDGAaCEG",
        "outputId": "cdea8801-95f7-4471-9f8c-84371370673f"
      },
      "source": [
        "list(time.localtime(time.time()))[0]"
      ],
      "execution_count": null,
      "outputs": [
        {
          "data": {
            "text/plain": [
              "2021"
            ]
          },
          "execution_count": 126,
          "metadata": {
            "tags": []
          },
          "output_type": "execute_result"
        }
      ]
    },
    {
      "cell_type": "code",
      "metadata": {
        "colab": {
          "base_uri": "https://localhost:8080/",
          "height": 35
        },
        "id": "k9c9Kkn1aejh",
        "outputId": "bc77cb7b-fa40-4fa1-c279-67b9461aa727"
      },
      "source": [
        "time.asctime(time.localtime(time.time()))"
      ],
      "execution_count": null,
      "outputs": [
        {
          "data": {
            "application/vnd.google.colaboratory.intrinsic+json": {
              "type": "string"
            },
            "text/plain": [
              "'Tue Jan 12 02:26:05 2021'"
            ]
          },
          "execution_count": 127,
          "metadata": {
            "tags": []
          },
          "output_type": "execute_result"
        }
      ]
    },
    {
      "cell_type": "code",
      "metadata": {
        "colab": {
          "base_uri": "https://localhost:8080/"
        },
        "id": "TQdV88VmajM2",
        "outputId": "bdfeae0a-9296-4bfe-bc2e-18d130aa6c20"
      },
      "source": [
        "for i in range(10):\n",
        "  print(i)\n",
        "  time.sleep(3)"
      ],
      "execution_count": null,
      "outputs": [
        {
          "name": "stdout",
          "output_type": "stream",
          "text": [
            "0\n",
            "1\n",
            "2\n",
            "3\n",
            "4\n",
            "5\n",
            "6\n",
            "7\n",
            "8\n",
            "9\n"
          ]
        }
      ]
    },
    {
      "cell_type": "code",
      "metadata": {
        "id": "6D4Kn5yFamAj"
      },
      "source": [
        "import calendar"
      ],
      "execution_count": null,
      "outputs": []
    },
    {
      "cell_type": "code",
      "metadata": {
        "colab": {
          "base_uri": "https://localhost:8080/"
        },
        "id": "WCVEeWv_bRry",
        "outputId": "b7f870aa-b333-4f7e-d616-b73da03cfe53"
      },
      "source": [
        "print(calendar.calendar(2021))"
      ],
      "execution_count": null,
      "outputs": [
        {
          "name": "stdout",
          "output_type": "stream",
          "text": [
            "                                  2021\n",
            "\n",
            "      January                   February                   March\n",
            "Mo Tu We Th Fr Sa Su      Mo Tu We Th Fr Sa Su      Mo Tu We Th Fr Sa Su\n",
            "             1  2  3       1  2  3  4  5  6  7       1  2  3  4  5  6  7\n",
            " 4  5  6  7  8  9 10       8  9 10 11 12 13 14       8  9 10 11 12 13 14\n",
            "11 12 13 14 15 16 17      15 16 17 18 19 20 21      15 16 17 18 19 20 21\n",
            "18 19 20 21 22 23 24      22 23 24 25 26 27 28      22 23 24 25 26 27 28\n",
            "25 26 27 28 29 30 31                                29 30 31\n",
            "\n",
            "       April                      May                       June\n",
            "Mo Tu We Th Fr Sa Su      Mo Tu We Th Fr Sa Su      Mo Tu We Th Fr Sa Su\n",
            "          1  2  3  4                      1  2          1  2  3  4  5  6\n",
            " 5  6  7  8  9 10 11       3  4  5  6  7  8  9       7  8  9 10 11 12 13\n",
            "12 13 14 15 16 17 18      10 11 12 13 14 15 16      14 15 16 17 18 19 20\n",
            "19 20 21 22 23 24 25      17 18 19 20 21 22 23      21 22 23 24 25 26 27\n",
            "26 27 28 29 30            24 25 26 27 28 29 30      28 29 30\n",
            "                          31\n",
            "\n",
            "        July                     August                  September\n",
            "Mo Tu We Th Fr Sa Su      Mo Tu We Th Fr Sa Su      Mo Tu We Th Fr Sa Su\n",
            "          1  2  3  4                         1             1  2  3  4  5\n",
            " 5  6  7  8  9 10 11       2  3  4  5  6  7  8       6  7  8  9 10 11 12\n",
            "12 13 14 15 16 17 18       9 10 11 12 13 14 15      13 14 15 16 17 18 19\n",
            "19 20 21 22 23 24 25      16 17 18 19 20 21 22      20 21 22 23 24 25 26\n",
            "26 27 28 29 30 31         23 24 25 26 27 28 29      27 28 29 30\n",
            "                          30 31\n",
            "\n",
            "      October                   November                  December\n",
            "Mo Tu We Th Fr Sa Su      Mo Tu We Th Fr Sa Su      Mo Tu We Th Fr Sa Su\n",
            "             1  2  3       1  2  3  4  5  6  7             1  2  3  4  5\n",
            " 4  5  6  7  8  9 10       8  9 10 11 12 13 14       6  7  8  9 10 11 12\n",
            "11 12 13 14 15 16 17      15 16 17 18 19 20 21      13 14 15 16 17 18 19\n",
            "18 19 20 21 22 23 24      22 23 24 25 26 27 28      20 21 22 23 24 25 26\n",
            "25 26 27 28 29 30 31      29 30                     27 28 29 30 31\n",
            "\n"
          ]
        }
      ]
    },
    {
      "cell_type": "code",
      "metadata": {
        "colab": {
          "base_uri": "https://localhost:8080/"
        },
        "id": "xV9fgUWcbYGa",
        "outputId": "3d69b2ee-0e32-4c37-8733-4d79fbe85dac"
      },
      "source": [
        "calendar.prmonth(2021,1)"
      ],
      "execution_count": null,
      "outputs": [
        {
          "name": "stdout",
          "output_type": "stream",
          "text": [
            "    January 2021\n",
            "Mo Tu We Th Fr Sa Su\n",
            "             1  2  3\n",
            " 4  5  6  7  8  9 10\n",
            "11 12 13 14 15 16 17\n",
            "18 19 20 21 22 23 24\n",
            "25 26 27 28 29 30 31\n"
          ]
        }
      ]
    },
    {
      "cell_type": "code",
      "metadata": {
        "colab": {
          "base_uri": "https://localhost:8080/"
        },
        "id": "7_PdpZ3JbiwL",
        "outputId": "4ec144d6-d403-4f8e-f342-486108a059b6"
      },
      "source": [
        "calendar.weekday(2021,1,12)"
      ],
      "execution_count": null,
      "outputs": [
        {
          "data": {
            "text/plain": [
              "1"
            ]
          },
          "execution_count": 133,
          "metadata": {
            "tags": []
          },
          "output_type": "execute_result"
        }
      ]
    },
    {
      "cell_type": "code",
      "metadata": {
        "colab": {
          "base_uri": "https://localhost:8080/"
        },
        "id": "wEhrm5N9bll8",
        "outputId": "5cc9a7ef-b08d-475c-a06e-bc06ef66b141"
      },
      "source": [
        "calendar.monthrange(2021,1)"
      ],
      "execution_count": null,
      "outputs": [
        {
          "data": {
            "text/plain": [
              "(4, 31)"
            ]
          },
          "execution_count": 134,
          "metadata": {
            "tags": []
          },
          "output_type": "execute_result"
        }
      ]
    },
    {
      "cell_type": "code",
      "metadata": {
        "id": "pOVbKx_Bbpia"
      },
      "source": [
        "import random"
      ],
      "execution_count": null,
      "outputs": []
    },
    {
      "cell_type": "code",
      "metadata": {
        "colab": {
          "base_uri": "https://localhost:8080/"
        },
        "id": "8O6d0oFybwmC",
        "outputId": "95761f5b-b559-48de-c69d-9306e5a8fe96"
      },
      "source": [
        "random.random()"
      ],
      "execution_count": null,
      "outputs": [
        {
          "data": {
            "text/plain": [
              "0.3540303691369532"
            ]
          },
          "execution_count": 136,
          "metadata": {
            "tags": []
          },
          "output_type": "execute_result"
        }
      ]
    },
    {
      "cell_type": "code",
      "metadata": {
        "colab": {
          "base_uri": "https://localhost:8080/"
        },
        "id": "YNAnA7Mab7sN",
        "outputId": "229e3057-5cd3-4d61-cd2e-687ed7eb6af1"
      },
      "source": [
        "random.randint(1,10)"
      ],
      "execution_count": null,
      "outputs": [
        {
          "data": {
            "text/plain": [
              "10"
            ]
          },
          "execution_count": 152,
          "metadata": {
            "tags": []
          },
          "output_type": "execute_result"
        }
      ]
    },
    {
      "cell_type": "code",
      "metadata": {
        "colab": {
          "base_uri": "https://localhost:8080/"
        },
        "id": "1sP-9H0Ab-lU",
        "outputId": "9b04c475-45c8-4111-a138-be0bdbbe6a6a"
      },
      "source": [
        "a=[1,2,3,4,5,6,7,8,9]\n",
        "random.shuffle(a)\n",
        "a"
      ],
      "execution_count": null,
      "outputs": [
        {
          "data": {
            "text/plain": [
              "[5, 7, 9, 4, 2, 8, 6, 1, 3]"
            ]
          },
          "execution_count": 150,
          "metadata": {
            "tags": []
          },
          "output_type": "execute_result"
        }
      ]
    },
    {
      "cell_type": "code",
      "metadata": {
        "colab": {
          "base_uri": "https://localhost:8080/"
        },
        "id": "jB6oMA6FcFJ-",
        "outputId": "c9704fc9-5a1a-4414-b5a8-2bb0f4212ef5"
      },
      "source": [
        "random.sample(a, 3)  #a에서 3개 랜덤"
      ],
      "execution_count": null,
      "outputs": [
        {
          "data": {
            "text/plain": [
              "[1, 8, 9]"
            ]
          },
          "execution_count": 145,
          "metadata": {
            "tags": []
          },
          "output_type": "execute_result"
        }
      ]
    },
    {
      "cell_type": "code",
      "metadata": {
        "colab": {
          "base_uri": "https://localhost:8080/"
        },
        "id": "1UviP-AmcLJN",
        "outputId": "d7a197f1-c957-4427-a069-96644974e691"
      },
      "source": [
        "box=[]\n",
        "\n",
        "for i in range(10):\n",
        "  box.append(i)\n",
        "\n",
        "box"
      ],
      "execution_count": null,
      "outputs": [
        {
          "data": {
            "text/plain": [
              "[0, 1, 2, 3, 4, 5, 6, 7, 8, 9]"
            ]
          },
          "execution_count": 146,
          "metadata": {
            "tags": []
          },
          "output_type": "execute_result"
        }
      ]
    },
    {
      "cell_type": "code",
      "metadata": {
        "colab": {
          "base_uri": "https://localhost:8080/"
        },
        "id": "Qfaqsgf-cW0o",
        "outputId": "141931d1-ef03-4220-e1a5-302283f6abaf"
      },
      "source": [
        "box=[x*10 for x in range(10)]\n",
        "box\n"
      ],
      "execution_count": null,
      "outputs": [
        {
          "data": {
            "text/plain": [
              "[0, 10, 20, 30, 40, 50, 60, 70, 80, 90]"
            ]
          },
          "execution_count": 147,
          "metadata": {
            "tags": []
          },
          "output_type": "execute_result"
        }
      ]
    },
    {
      "cell_type": "code",
      "metadata": {
        "id": "TP6oy7YWcsX0"
      },
      "source": [
        "# 로또번호 1~45번 // 로또 번호 6개를 출력해주는 프로그램 만들기 "
      ],
      "execution_count": null,
      "outputs": []
    },
    {
      "cell_type": "code",
      "metadata": {
        "colab": {
          "base_uri": "https://localhost:8080/"
        },
        "id": "lRGiZLKmc1sb",
        "outputId": "6783454d-03a8-4e85-c08b-87b0d0277f87"
      },
      "source": [
        "box=[]\n",
        "for i in range(1,7):\n",
        "  box.append(random.randint(1,45)) #randint는 중복이 있을 수 있음\n",
        "box"
      ],
      "execution_count": null,
      "outputs": [
        {
          "data": {
            "text/plain": [
              "[15, 25, 30, 18, 33, 21]"
            ]
          },
          "execution_count": 163,
          "metadata": {
            "tags": []
          },
          "output_type": "execute_result"
        }
      ]
    },
    {
      "cell_type": "code",
      "metadata": {
        "colab": {
          "base_uri": "https://localhost:8080/"
        },
        "id": "6MAaXua0dWhN",
        "outputId": "4f98488b-3cb6-42a2-b980-82da7e6a9640"
      },
      "source": [
        "lotto =list(range(1,46))\n",
        "sorted(random.sample(lotto,6))"
      ],
      "execution_count": null,
      "outputs": [
        {
          "data": {
            "text/plain": [
              "[8, 9, 17, 37, 38, 45]"
            ]
          },
          "execution_count": 164,
          "metadata": {
            "tags": []
          },
          "output_type": "execute_result"
        }
      ]
    },
    {
      "cell_type": "code",
      "metadata": {
        "id": "8709LBv6e-DC"
      },
      "source": [
        "from random import sample #랜덤 라이브러리에서 샘플함수만 가져와 사용하겠다. 메모리 면에서 효율적"
      ],
      "execution_count": null,
      "outputs": []
    },
    {
      "cell_type": "code",
      "metadata": {
        "colab": {
          "base_uri": "https://localhost:8080/"
        },
        "id": "MIccq0ybgphd",
        "outputId": "1132778d-5121-4a2c-f0d1-e29f0cb4dc3b"
      },
      "source": [
        "# 데이터 크롤링 시작\n",
        "\n",
        "from bs4 import BeautifulSoup # HTML을 다루는 라이브러리\n",
        "import requests # 요청하다. 엔터키 역할\n",
        "\n",
        "# 웹사이트 \n",
        "# HTML : 인터넷 구조\n",
        "# JSP : 버튼, 저장, 데이터베이스\n",
        "# CSS : 포토샵\n",
        "\n",
        "url = requests.get(\"https://search.naver.com/search.naver?where=nexearch&sm=top_hty&fbm=0&ie=utf8&query=%EB%A1%9C%EB%98%90\").text\n",
        "html = BeautifulSoup(url)\n",
        "\n",
        "current_number=int(html.find('a',attrs={'class':'_lotto-btn-current'}).find('em').text[:-1])\n",
        "current_number"
      ],
      "execution_count": null,
      "outputs": [
        {
          "data": {
            "text/plain": [
              "945"
            ]
          },
          "execution_count": 178,
          "metadata": {
            "tags": []
          },
          "output_type": "execute_result"
        }
      ]
    },
    {
      "cell_type": "code",
      "metadata": {
        "colab": {
          "base_uri": "https://localhost:8080/"
        },
        "id": "XrmE6ViAg0Ce",
        "outputId": "ac819a77-8969-4bf5-8d3b-943448aa5972"
      },
      "source": [
        "numbers=html.find('div',attrs={'class':'num_box'}).find_all('span')\n",
        "del numbers[6]\n",
        "\n",
        "box=[]\n",
        "\n",
        "for i in numbers:\n",
        "  box.append(int(i.text))\n",
        "\n",
        "box"
      ],
      "execution_count": null,
      "outputs": [
        {
          "data": {
            "text/plain": [
              "[9, 10, 15, 30, 33, 37, 26]"
            ]
          },
          "execution_count": 188,
          "metadata": {
            "tags": []
          },
          "output_type": "execute_result"
        }
      ]
    },
    {
      "cell_type": "code",
      "metadata": {
        "id": "FtEg5O71oe1-"
      },
      "source": [
        "total =[]\n",
        "for n in range(1, current_number+1):\n",
        "  url= requests.get(\"https://search.naver.com/search.naver?where=nexearch&sm=top_hty&fbm=1&ie=utf8&query=%EB%A1%9C%EB%98%90\".format(n)).text\n",
        "  html=BeautifulSoup(url)\n",
        "\n",
        "  numbers=html.find('div',attrs={'class':'num_box'}).find_all('span')\n",
        "  del numbers[6]\n",
        "\n",
        "  box=[]\n",
        "\n",
        "  for i in numbers:\n",
        "    box.append(int(i.text))\n",
        "\n",
        "  total.append(box)\n",
        "\n",
        "  print('{}회 로또 데이터 저장완료 : {}'.format(n,box))\n",
        "\n"
      ],
      "execution_count": null,
      "outputs": []
    },
    {
      "cell_type": "code",
      "metadata": {
        "colab": {
          "background_save": true,
          "base_uri": "https://localhost:8080/"
        },
        "id": "1aPSCHZYqRGA",
        "outputId": "1af7fb0e-8b55-4354-e6a6-fce41cd07415"
      },
      "source": [
        "from bs4 import BeautifulSoup # HTML을 다루는 라이브러리\n",
        "import requests # 요청하다. 엔터키 역할\n",
        "\n",
        "'''\n",
        "url = requests.get(\"https://search.naver.com/search.naver?where=nexearch&sm=top_hty&fbm=1&ie=utf8&query=%EB%A1%9C%EB%98%90\").text\n",
        "html = BeautifulSoup(url)\n",
        "\n",
        "current_number = int(html.find('a', attrs={'class':'_lotto-btn-current'}).find('em').text[:-1])\n",
        "current_number\n",
        "'''\n",
        "\n",
        "total = []\n",
        "\n",
        "for n in range(1, current_number + 1):\n",
        "  url = requests.get(\"https://search.naver.com/search.naver?where=nexearch&sm=top_hty&fbm=1&ie=utf8&query=%EB%A1%9C%EB%98%90+{}%ED%9A%8C\".format(n)).text\n",
        "  html = BeautifulSoup(url)\n",
        "\n",
        "  numbers = html.find('div', attrs={'class':'num_box'}).find_all('span')\n",
        "  del numbers[6]\n",
        "\n",
        "  box = []\n",
        "\n",
        "  for i in numbers:\n",
        "    box.append(int(i.text))\n",
        "\n",
        "  total.append(box)\n",
        "\n",
        "  print('{}회 로또 데이터 저장완료 : {}'.format(n, box))"
      ],
      "execution_count": null,
      "outputs": [
        {
          "name": "stdout",
          "output_type": "stream",
          "text": [
            "1회 로또 데이터 저장완료 : [10, 23, 29, 33, 37, 40, 16]\n",
            "2회 로또 데이터 저장완료 : [9, 13, 21, 25, 32, 42, 2]\n",
            "3회 로또 데이터 저장완료 : [11, 16, 19, 21, 27, 31, 30]\n",
            "4회 로또 데이터 저장완료 : [14, 27, 30, 31, 40, 42, 2]\n",
            "5회 로또 데이터 저장완료 : [16, 24, 29, 40, 41, 42, 3]\n",
            "6회 로또 데이터 저장완료 : [14, 15, 26, 27, 40, 42, 34]\n",
            "7회 로또 데이터 저장완료 : [2, 9, 16, 25, 26, 40, 42]\n",
            "8회 로또 데이터 저장완료 : [8, 19, 25, 34, 37, 39, 9]\n",
            "9회 로또 데이터 저장완료 : [2, 4, 16, 17, 36, 39, 14]\n",
            "10회 로또 데이터 저장완료 : [9, 25, 30, 33, 41, 44, 6]\n",
            "11회 로또 데이터 저장완료 : [1, 7, 36, 37, 41, 42, 14]\n",
            "12회 로또 데이터 저장완료 : [2, 11, 21, 25, 39, 45, 44]\n",
            "13회 로또 데이터 저장완료 : [22, 23, 25, 37, 38, 42, 26]\n",
            "14회 로또 데이터 저장완료 : [2, 6, 12, 31, 33, 40, 15]\n",
            "15회 로또 데이터 저장완료 : [3, 4, 16, 30, 31, 37, 13]\n",
            "16회 로또 데이터 저장완료 : [6, 7, 24, 37, 38, 40, 33]\n",
            "17회 로또 데이터 저장완료 : [3, 4, 9, 17, 32, 37, 1]\n",
            "18회 로또 데이터 저장완료 : [3, 12, 13, 19, 32, 35, 29]\n",
            "19회 로또 데이터 저장완료 : [6, 30, 38, 39, 40, 43, 26]\n",
            "20회 로또 데이터 저장완료 : [10, 14, 18, 20, 23, 30, 41]\n",
            "21회 로또 데이터 저장완료 : [6, 12, 17, 18, 31, 32, 21]\n",
            "22회 로또 데이터 저장완료 : [4, 5, 6, 8, 17, 39, 25]\n",
            "23회 로또 데이터 저장완료 : [5, 13, 17, 18, 33, 42, 44]\n",
            "24회 로또 데이터 저장완료 : [7, 8, 27, 29, 36, 43, 6]\n",
            "25회 로또 데이터 저장완료 : [2, 4, 21, 26, 43, 44, 16]\n",
            "26회 로또 데이터 저장완료 : [4, 5, 7, 18, 20, 25, 31]\n",
            "27회 로또 데이터 저장완료 : [1, 20, 26, 28, 37, 43, 27]\n",
            "28회 로또 데이터 저장완료 : [9, 18, 23, 25, 35, 37, 1]\n",
            "29회 로또 데이터 저장완료 : [1, 5, 13, 34, 39, 40, 11]\n",
            "30회 로또 데이터 저장완료 : [8, 17, 20, 35, 36, 44, 4]\n",
            "31회 로또 데이터 저장완료 : [7, 9, 18, 23, 28, 35, 32]\n",
            "32회 로또 데이터 저장완료 : [6, 14, 19, 25, 34, 44, 11]\n",
            "33회 로또 데이터 저장완료 : [4, 7, 32, 33, 40, 41, 9]\n",
            "34회 로또 데이터 저장완료 : [9, 26, 35, 37, 40, 42, 2]\n",
            "35회 로또 데이터 저장완료 : [2, 3, 11, 26, 37, 43, 39]\n",
            "36회 로또 데이터 저장완료 : [1, 10, 23, 26, 28, 40, 31]\n",
            "37회 로또 데이터 저장완료 : [7, 27, 30, 33, 35, 37, 42]\n",
            "38회 로또 데이터 저장완료 : [16, 17, 22, 30, 37, 43, 36]\n",
            "39회 로또 데이터 저장완료 : [6, 7, 13, 15, 21, 43, 8]\n",
            "40회 로또 데이터 저장완료 : [7, 13, 18, 19, 25, 26, 6]\n",
            "41회 로또 데이터 저장완료 : [13, 20, 23, 35, 38, 43, 34]\n",
            "42회 로또 데이터 저장완료 : [17, 18, 19, 21, 23, 32, 1]\n",
            "43회 로또 데이터 저장완료 : [6, 31, 35, 38, 39, 44, 1]\n",
            "44회 로또 데이터 저장완료 : [3, 11, 21, 30, 38, 45, 39]\n",
            "45회 로또 데이터 저장완료 : [1, 10, 20, 27, 33, 35, 17]\n",
            "46회 로또 데이터 저장완료 : [8, 13, 15, 23, 31, 38, 39]\n",
            "47회 로또 데이터 저장완료 : [14, 17, 26, 31, 36, 45, 27]\n",
            "48회 로또 데이터 저장완료 : [6, 10, 18, 26, 37, 38, 3]\n",
            "49회 로또 데이터 저장완료 : [4, 7, 16, 19, 33, 40, 30]\n",
            "50회 로또 데이터 저장완료 : [2, 10, 12, 15, 22, 44, 1]\n",
            "51회 로또 데이터 저장완료 : [2, 3, 11, 16, 26, 44, 35]\n",
            "52회 로또 데이터 저장완료 : [2, 4, 15, 16, 20, 29, 1]\n",
            "53회 로또 데이터 저장완료 : [7, 8, 14, 32, 33, 39, 42]\n",
            "54회 로또 데이터 저장완료 : [1, 8, 21, 27, 36, 39, 37]\n",
            "55회 로또 데이터 저장완료 : [17, 21, 31, 37, 40, 44, 7]\n",
            "56회 로또 데이터 저장완료 : [10, 14, 30, 31, 33, 37, 19]\n",
            "57회 로또 데이터 저장완료 : [7, 10, 16, 25, 29, 44, 6]\n",
            "58회 로또 데이터 저장완료 : [10, 24, 25, 33, 40, 44, 1]\n",
            "59회 로또 데이터 저장완료 : [6, 29, 36, 39, 41, 45, 13]\n",
            "60회 로또 데이터 저장완료 : [2, 8, 25, 36, 39, 42, 11]\n",
            "61회 로또 데이터 저장완료 : [14, 15, 19, 30, 38, 43, 8]\n",
            "62회 로또 데이터 저장완료 : [3, 8, 15, 27, 29, 35, 21]\n",
            "63회 로또 데이터 저장완료 : [3, 20, 23, 36, 38, 40, 5]\n",
            "64회 로또 데이터 저장완료 : [14, 15, 18, 21, 26, 36, 39]\n",
            "65회 로또 데이터 저장완료 : [4, 25, 33, 36, 40, 43, 39]\n",
            "66회 로또 데이터 저장완료 : [2, 3, 7, 17, 22, 24, 45]\n",
            "67회 로또 데이터 저장완료 : [3, 7, 10, 15, 36, 38, 33]\n",
            "68회 로또 데이터 저장완료 : [10, 12, 15, 16, 26, 39, 38]\n",
            "69회 로또 데이터 저장완료 : [5, 8, 14, 15, 19, 39, 35]\n",
            "70회 로또 데이터 저장완료 : [5, 19, 22, 25, 28, 43, 26]\n",
            "71회 로또 데이터 저장완료 : [5, 9, 12, 16, 29, 41, 21]\n",
            "72회 로또 데이터 저장완료 : [2, 4, 11, 17, 26, 27, 1]\n",
            "73회 로또 데이터 저장완료 : [3, 12, 18, 32, 40, 43, 38]\n",
            "74회 로또 데이터 저장완료 : [6, 15, 17, 18, 35, 40, 23]\n",
            "75회 로또 데이터 저장완료 : [2, 5, 24, 32, 34, 44, 28]\n",
            "76회 로또 데이터 저장완료 : [1, 3, 15, 22, 25, 37, 43]\n",
            "77회 로또 데이터 저장완료 : [2, 18, 29, 32, 43, 44, 37]\n",
            "78회 로또 데이터 저장완료 : [10, 13, 25, 29, 33, 35, 38]\n",
            "79회 로또 데이터 저장완료 : [3, 12, 24, 27, 30, 32, 14]\n",
            "80회 로또 데이터 저장완료 : [17, 18, 24, 25, 26, 30, 1]\n",
            "81회 로또 데이터 저장완료 : [5, 7, 11, 13, 20, 33, 6]\n",
            "82회 로또 데이터 저장완료 : [1, 2, 3, 14, 27, 42, 39]\n",
            "83회 로또 데이터 저장완료 : [6, 10, 15, 17, 19, 34, 14]\n",
            "84회 로또 데이터 저장완료 : [16, 23, 27, 34, 42, 45, 11]\n",
            "85회 로또 데이터 저장완료 : [6, 8, 13, 23, 31, 36, 21]\n",
            "86회 로또 데이터 저장완료 : [2, 12, 37, 39, 41, 45, 33]\n",
            "87회 로또 데이터 저장완료 : [4, 12, 16, 23, 34, 43, 26]\n",
            "88회 로또 데이터 저장완료 : [1, 17, 20, 24, 30, 41, 27]\n",
            "89회 로또 데이터 저장완료 : [4, 26, 28, 29, 33, 40, 37]\n",
            "90회 로또 데이터 저장완료 : [17, 20, 29, 35, 38, 44, 10]\n",
            "91회 로또 데이터 저장완료 : [1, 21, 24, 26, 29, 42, 27]\n",
            "92회 로또 데이터 저장완료 : [3, 14, 24, 33, 35, 36, 17]\n",
            "93회 로또 데이터 저장완료 : [6, 22, 24, 36, 38, 44, 19]\n",
            "94회 로또 데이터 저장완료 : [5, 32, 34, 40, 41, 45, 6]\n",
            "95회 로또 데이터 저장완료 : [8, 17, 27, 31, 34, 43, 14]\n",
            "96회 로또 데이터 저장완료 : [1, 3, 8, 21, 22, 31, 20]\n",
            "97회 로또 데이터 저장완료 : [6, 7, 14, 15, 20, 36, 3]\n",
            "98회 로또 데이터 저장완료 : [6, 9, 16, 23, 24, 32, 43]\n",
            "99회 로또 데이터 저장완료 : [1, 3, 10, 27, 29, 37, 11]\n",
            "100회 로또 데이터 저장완료 : [1, 7, 11, 23, 37, 42, 6]\n",
            "101회 로또 데이터 저장완료 : [1, 3, 17, 32, 35, 45, 8]\n",
            "102회 로또 데이터 저장완료 : [17, 22, 24, 26, 35, 40, 42]\n",
            "103회 로또 데이터 저장완료 : [5, 14, 15, 27, 30, 45, 10]\n",
            "104회 로또 데이터 저장완료 : [17, 32, 33, 34, 42, 44, 35]\n",
            "105회 로또 데이터 저장완료 : [8, 10, 20, 34, 41, 45, 28]\n",
            "106회 로또 데이터 저장완료 : [4, 10, 12, 22, 24, 33, 29]\n",
            "107회 로또 데이터 저장완료 : [1, 4, 5, 6, 9, 31, 17]\n",
            "108회 로또 데이터 저장완료 : [7, 18, 22, 23, 29, 44, 12]\n",
            "109회 로또 데이터 저장완료 : [1, 5, 34, 36, 42, 44, 33]\n",
            "110회 로또 데이터 저장완료 : [7, 20, 22, 23, 29, 43, 1]\n",
            "111회 로또 데이터 저장완료 : [7, 18, 31, 33, 36, 40, 27]\n",
            "112회 로또 데이터 저장완료 : [26, 29, 30, 33, 41, 42, 43]\n",
            "113회 로또 데이터 저장완료 : [4, 9, 28, 33, 36, 45, 26]\n",
            "114회 로또 데이터 저장완료 : [11, 14, 19, 26, 28, 41, 2]\n",
            "115회 로또 데이터 저장완료 : [1, 2, 6, 9, 25, 28, 31]\n",
            "116회 로또 데이터 저장완료 : [2, 4, 25, 31, 34, 37, 17]\n",
            "117회 로또 데이터 저장완료 : [5, 10, 22, 34, 36, 44, 35]\n",
            "118회 로또 데이터 저장완료 : [3, 4, 10, 17, 19, 22, 38]\n",
            "119회 로또 데이터 저장완료 : [3, 11, 13, 14, 17, 21, 38]\n",
            "120회 로또 데이터 저장완료 : [4, 6, 10, 11, 32, 37, 30]\n",
            "121회 로또 데이터 저장완료 : [12, 28, 30, 34, 38, 43, 9]\n",
            "122회 로또 데이터 저장완료 : [1, 11, 16, 17, 36, 40, 8]\n",
            "123회 로또 데이터 저장완료 : [7, 17, 18, 28, 30, 45, 27]\n",
            "124회 로또 데이터 저장완료 : [4, 16, 23, 25, 29, 42, 1]\n",
            "125회 로또 데이터 저장완료 : [2, 8, 32, 33, 35, 36, 18]\n",
            "126회 로또 데이터 저장완료 : [7, 20, 22, 27, 40, 43, 1]\n",
            "127회 로또 데이터 저장완료 : [3, 5, 10, 29, 32, 43, 35]\n",
            "128회 로또 데이터 저장완료 : [12, 30, 34, 36, 37, 45, 39]\n",
            "129회 로또 데이터 저장완료 : [19, 23, 25, 28, 38, 42, 17]\n",
            "130회 로또 데이터 저장완료 : [7, 19, 24, 27, 42, 45, 31]\n",
            "131회 로또 데이터 저장완료 : [8, 10, 11, 14, 15, 21, 37]\n",
            "132회 로또 데이터 저장완료 : [3, 17, 23, 34, 41, 45, 43]\n",
            "133회 로또 데이터 저장완료 : [4, 7, 15, 18, 23, 26, 13]\n",
            "134회 로또 데이터 저장완료 : [3, 12, 20, 23, 31, 35, 43]\n",
            "135회 로또 데이터 저장완료 : [6, 14, 22, 28, 35, 39, 16]\n",
            "136회 로또 데이터 저장완료 : [2, 16, 30, 36, 41, 42, 11]\n",
            "137회 로또 데이터 저장완료 : [7, 9, 20, 25, 36, 39, 15]\n",
            "138회 로또 데이터 저장완료 : [10, 11, 27, 28, 37, 39, 19]\n",
            "139회 로또 데이터 저장완료 : [9, 11, 15, 20, 28, 43, 13]\n",
            "140회 로또 데이터 저장완료 : [3, 13, 17, 18, 19, 28, 8]\n",
            "141회 로또 데이터 저장완료 : [8, 12, 29, 31, 42, 43, 2]\n",
            "142회 로또 데이터 저장완료 : [12, 16, 30, 34, 40, 44, 19]\n",
            "143회 로또 데이터 저장완료 : [26, 27, 28, 42, 43, 45, 8]\n",
            "144회 로또 데이터 저장완료 : [4, 15, 17, 26, 36, 37, 43]\n",
            "145회 로또 데이터 저장완료 : [2, 3, 13, 20, 27, 44, 9]\n",
            "146회 로또 데이터 저장완료 : [2, 19, 27, 35, 41, 42, 25]\n",
            "147회 로또 데이터 저장완료 : [4, 6, 13, 21, 40, 42, 36]\n",
            "148회 로또 데이터 저장완료 : [21, 25, 33, 34, 35, 36, 17]\n",
            "149회 로또 데이터 저장완료 : [2, 11, 21, 34, 41, 42, 27]\n",
            "150회 로또 데이터 저장완료 : [2, 18, 25, 28, 37, 39, 16]\n",
            "151회 로또 데이터 저장완료 : [1, 2, 10, 13, 18, 19, 15]\n",
            "152회 로또 데이터 저장완료 : [1, 5, 13, 26, 29, 34, 43]\n",
            "153회 로또 데이터 저장완료 : [3, 8, 11, 12, 13, 36, 33]\n",
            "154회 로또 데이터 저장완료 : [6, 19, 21, 35, 40, 45, 20]\n",
            "155회 로또 데이터 저장완료 : [16, 19, 20, 32, 33, 41, 4]\n",
            "156회 로또 데이터 저장완료 : [5, 18, 28, 30, 42, 45, 2]\n",
            "157회 로또 데이터 저장완료 : [19, 26, 30, 33, 35, 39, 37]\n",
            "158회 로또 데이터 저장완료 : [4, 9, 13, 18, 21, 34, 7]\n",
            "159회 로또 데이터 저장완료 : [1, 18, 30, 41, 42, 43, 32]\n",
            "160회 로또 데이터 저장완료 : [3, 7, 8, 34, 39, 41, 1]\n",
            "161회 로또 데이터 저장완료 : [22, 34, 36, 40, 42, 45, 44]\n",
            "162회 로또 데이터 저장완료 : [1, 5, 21, 25, 38, 41, 24]\n",
            "163회 로또 데이터 저장완료 : [7, 11, 26, 28, 29, 44, 16]\n",
            "164회 로또 데이터 저장완료 : [6, 9, 10, 11, 39, 41, 27]\n",
            "165회 로또 데이터 저장완료 : [5, 13, 18, 19, 22, 42, 31]\n",
            "166회 로또 데이터 저장완료 : [9, 12, 27, 36, 39, 45, 14]\n",
            "167회 로또 데이터 저장완료 : [24, 27, 28, 30, 36, 39, 4]\n",
            "168회 로또 데이터 저장완료 : [3, 10, 31, 40, 42, 43, 30]\n",
            "169회 로또 데이터 저장완료 : [16, 27, 35, 37, 43, 45, 19]\n",
            "170회 로또 데이터 저장완료 : [2, 11, 13, 15, 31, 42, 10]\n",
            "171회 로또 데이터 저장완료 : [4, 16, 25, 29, 34, 35, 1]\n",
            "172회 로또 데이터 저장완료 : [4, 19, 21, 24, 26, 41, 35]\n",
            "173회 로또 데이터 저장완료 : [3, 9, 24, 30, 33, 34, 18]\n",
            "174회 로또 데이터 저장완료 : [13, 14, 18, 22, 35, 39, 16]\n",
            "175회 로또 데이터 저장완료 : [19, 26, 28, 31, 33, 36, 17]\n",
            "176회 로또 데이터 저장완료 : [4, 17, 30, 32, 33, 34, 15]\n",
            "177회 로또 데이터 저장완료 : [1, 10, 13, 16, 37, 43, 6]\n",
            "178회 로또 데이터 저장완료 : [1, 5, 11, 12, 18, 23, 9]\n",
            "179회 로또 데이터 저장완료 : [5, 9, 17, 25, 39, 43, 32]\n",
            "180회 로또 데이터 저장완료 : [2, 15, 20, 21, 29, 34, 22]\n",
            "181회 로또 데이터 저장완료 : [14, 21, 23, 32, 40, 45, 44]\n",
            "182회 로또 데이터 저장완료 : [13, 15, 27, 29, 34, 40, 35]\n",
            "183회 로또 데이터 저장완료 : [2, 18, 24, 34, 40, 42, 5]\n",
            "184회 로또 데이터 저장완료 : [1, 2, 6, 16, 20, 33, 41]\n",
            "185회 로또 데이터 저장완료 : [1, 2, 4, 8, 19, 38, 14]\n",
            "186회 로또 데이터 저장완료 : [4, 10, 14, 19, 21, 45, 9]\n",
            "187회 로또 데이터 저장완료 : [1, 2, 8, 18, 29, 38, 42]\n",
            "188회 로또 데이터 저장완료 : [19, 24, 27, 30, 31, 34, 36]\n",
            "189회 로또 데이터 저장완료 : [8, 14, 32, 35, 37, 45, 28]\n",
            "190회 로또 데이터 저장완료 : [8, 14, 18, 30, 31, 44, 15]\n",
            "191회 로또 데이터 저장완료 : [5, 6, 24, 25, 32, 37, 8]\n",
            "192회 로또 데이터 저장완료 : [4, 8, 11, 18, 37, 45, 33]\n",
            "193회 로또 데이터 저장완료 : [6, 14, 18, 26, 36, 39, 13]\n",
            "194회 로또 데이터 저장완료 : [15, 20, 23, 26, 39, 44, 28]\n",
            "195회 로또 데이터 저장완료 : [7, 10, 19, 22, 35, 40, 31]\n",
            "196회 로또 데이터 저장완료 : [35, 36, 37, 41, 44, 45, 30]\n",
            "197회 로또 데이터 저장완료 : [7, 12, 16, 34, 42, 45, 4]\n",
            "198회 로또 데이터 저장완료 : [12, 19, 20, 25, 41, 45, 2]\n",
            "199회 로또 데이터 저장완료 : [14, 21, 22, 25, 30, 36, 43]\n",
            "200회 로또 데이터 저장완료 : [5, 6, 13, 14, 17, 20, 7]\n",
            "201회 로또 데이터 저장완료 : [3, 11, 24, 38, 39, 44, 26]\n",
            "202회 로또 데이터 저장완료 : [12, 14, 27, 33, 39, 44, 17]\n",
            "203회 로또 데이터 저장완료 : [1, 3, 11, 24, 30, 32, 7]\n",
            "204회 로또 데이터 저장완료 : [3, 12, 14, 35, 40, 45, 5]\n",
            "205회 로또 데이터 저장완료 : [1, 3, 21, 29, 35, 37, 30]\n",
            "206회 로또 데이터 저장완료 : [1, 2, 3, 15, 20, 25, 43]\n",
            "207회 로또 데이터 저장완료 : [3, 11, 14, 31, 32, 37, 38]\n",
            "208회 로또 데이터 저장완료 : [14, 25, 31, 34, 40, 44, 24]\n",
            "209회 로또 데이터 저장완료 : [2, 7, 18, 20, 24, 33, 37]\n",
            "210회 로또 데이터 저장완료 : [10, 19, 22, 23, 25, 37, 39]\n",
            "211회 로또 데이터 저장완료 : [12, 13, 17, 20, 33, 41, 8]\n",
            "212회 로또 데이터 저장완료 : [11, 12, 18, 21, 31, 38, 8]\n",
            "213회 로또 데이터 저장완료 : [2, 3, 4, 5, 20, 24, 42]\n",
            "214회 로또 데이터 저장완료 : [5, 7, 20, 25, 28, 37, 32]\n",
            "215회 로또 데이터 저장완료 : [2, 3, 7, 15, 43, 44, 4]\n",
            "216회 로또 데이터 저장완료 : [7, 16, 17, 33, 36, 40, 1]\n",
            "217회 로또 데이터 저장완료 : [16, 20, 27, 33, 35, 39, 38]\n",
            "218회 로또 데이터 저장완료 : [1, 8, 14, 18, 29, 44, 20]\n",
            "219회 로또 데이터 저장완료 : [4, 11, 20, 26, 35, 37, 16]\n",
            "220회 로또 데이터 저장완료 : [5, 11, 19, 21, 34, 43, 31]\n",
            "221회 로또 데이터 저장완료 : [2, 20, 33, 35, 37, 40, 10]\n",
            "222회 로또 데이터 저장완료 : [5, 7, 28, 29, 39, 43, 44]\n",
            "223회 로또 데이터 저장완료 : [1, 3, 18, 20, 26, 27, 38]\n",
            "224회 로또 데이터 저장완료 : [4, 19, 26, 27, 30, 42, 7]\n",
            "225회 로또 데이터 저장완료 : [5, 11, 13, 19, 31, 36, 7]\n",
            "226회 로또 데이터 저장완료 : [2, 6, 8, 14, 21, 22, 34]\n",
            "227회 로또 데이터 저장완료 : [4, 5, 15, 16, 22, 42, 2]\n",
            "228회 로또 데이터 저장완료 : [17, 25, 35, 36, 39, 44, 23]\n",
            "229회 로또 데이터 저장완료 : [4, 5, 9, 11, 23, 38, 35]\n",
            "230회 로또 데이터 저장완료 : [5, 11, 14, 29, 32, 33, 12]\n",
            "231회 로또 데이터 저장완료 : [5, 10, 19, 31, 44, 45, 27]\n",
            "232회 로또 데이터 저장완료 : [8, 9, 10, 12, 24, 44, 35]\n",
            "233회 로또 데이터 저장완료 : [4, 6, 13, 17, 28, 40, 39]\n",
            "234회 로또 데이터 저장완료 : [13, 21, 22, 24, 26, 37, 4]\n",
            "235회 로또 데이터 저장완료 : [21, 22, 26, 27, 31, 37, 8]\n",
            "236회 로또 데이터 저장완료 : [1, 4, 8, 13, 37, 39, 7]\n",
            "237회 로또 데이터 저장완료 : [1, 11, 17, 21, 24, 44, 33]\n",
            "238회 로또 데이터 저장완료 : [2, 4, 15, 28, 31, 34, 35]\n",
            "239회 로또 데이터 저장완료 : [11, 15, 24, 39, 41, 44, 7]\n",
            "240회 로또 데이터 저장완료 : [6, 10, 16, 40, 41, 43, 21]\n",
            "241회 로또 데이터 저장완료 : [2, 16, 24, 27, 28, 35, 21]\n",
            "242회 로또 데이터 저장완료 : [4, 19, 20, 21, 32, 34, 43]\n",
            "243회 로또 데이터 저장완료 : [2, 12, 17, 19, 28, 42, 34]\n",
            "244회 로또 데이터 저장완료 : [13, 16, 25, 36, 37, 38, 19]\n",
            "245회 로또 데이터 저장완료 : [9, 11, 27, 31, 32, 38, 22]\n",
            "246회 로또 데이터 저장완료 : [13, 18, 21, 23, 26, 39, 15]\n",
            "247회 로또 데이터 저장완료 : [12, 15, 28, 36, 39, 40, 13]\n",
            "248회 로또 데이터 저장완료 : [3, 8, 17, 23, 38, 45, 13]\n",
            "249회 로또 데이터 저장완료 : [3, 8, 27, 31, 41, 44, 11]\n",
            "250회 로또 데이터 저장완료 : [19, 23, 30, 37, 43, 45, 38]\n",
            "251회 로또 데이터 저장완료 : [6, 7, 19, 25, 28, 38, 45]\n",
            "252회 로또 데이터 저장완료 : [14, 23, 26, 31, 39, 45, 28]\n",
            "253회 로또 데이터 저장완료 : [8, 19, 25, 31, 34, 36, 33]\n",
            "254회 로또 데이터 저장완료 : [1, 5, 19, 20, 24, 30, 27]\n",
            "255회 로또 데이터 저장완료 : [1, 5, 6, 24, 27, 42, 32]\n",
            "256회 로또 데이터 저장완료 : [4, 11, 14, 21, 23, 43, 32]\n",
            "257회 로또 데이터 저장완료 : [6, 13, 27, 31, 32, 37, 4]\n",
            "258회 로또 데이터 저장완료 : [14, 27, 30, 31, 38, 40, 17]\n",
            "259회 로또 데이터 저장완료 : [4, 5, 14, 35, 42, 45, 34]\n",
            "260회 로또 데이터 저장완료 : [7, 12, 15, 24, 37, 40, 43]\n",
            "261회 로또 데이터 저장완료 : [6, 11, 16, 18, 31, 43, 2]\n",
            "262회 로또 데이터 저장완료 : [9, 12, 24, 25, 29, 31, 36]\n",
            "263회 로또 데이터 저장완료 : [1, 27, 28, 32, 37, 40, 18]\n",
            "264회 로또 데이터 저장완료 : [9, 16, 27, 36, 41, 44, 5]\n",
            "265회 로또 데이터 저장완료 : [5, 9, 34, 37, 38, 39, 12]\n",
            "266회 로또 데이터 저장완료 : [3, 4, 9, 11, 22, 42, 37]\n",
            "267회 로또 데이터 저장완료 : [7, 8, 24, 34, 36, 41, 1]\n",
            "268회 로또 데이터 저장완료 : [3, 10, 19, 24, 32, 45, 12]\n",
            "269회 로또 데이터 저장완료 : [5, 18, 20, 36, 42, 43, 32]\n",
            "270회 로또 데이터 저장완료 : [5, 9, 12, 20, 21, 26, 27]\n",
            "271회 로또 데이터 저장완료 : [3, 8, 9, 27, 29, 40, 36]\n",
            "272회 로또 데이터 저장완료 : [7, 9, 12, 27, 39, 43, 28]\n",
            "273회 로또 데이터 저장완료 : [1, 8, 24, 31, 34, 44, 6]\n",
            "274회 로또 데이터 저장완료 : [13, 14, 15, 26, 35, 39, 25]\n",
            "275회 로또 데이터 저장완료 : [14, 19, 20, 35, 38, 40, 26]\n",
            "276회 로또 데이터 저장완료 : [4, 15, 21, 33, 39, 41, 25]\n",
            "277회 로또 데이터 저장완료 : [10, 12, 13, 15, 25, 29, 20]\n",
            "278회 로또 데이터 저장완료 : [3, 11, 37, 39, 41, 43, 13]\n",
            "279회 로또 데이터 저장완료 : [7, 16, 31, 36, 37, 38, 11]\n",
            "280회 로또 데이터 저장완료 : [10, 11, 23, 24, 36, 37, 35]\n",
            "281회 로또 데이터 저장완료 : [1, 3, 4, 6, 14, 41, 12]\n",
            "282회 로또 데이터 저장완료 : [2, 5, 10, 18, 31, 32, 30]\n",
            "283회 로또 데이터 저장완료 : [6, 8, 18, 31, 38, 45, 42]\n",
            "284회 로또 데이터 저장완료 : [2, 7, 15, 24, 30, 45, 28]\n",
            "285회 로또 데이터 저장완료 : [13, 33, 37, 40, 41, 45, 2]\n",
            "286회 로또 데이터 저장완료 : [1, 15, 19, 40, 42, 44, 17]\n",
            "287회 로또 데이터 저장완료 : [6, 12, 24, 27, 35, 37, 41]\n",
            "288회 로또 데이터 저장완료 : [1, 12, 17, 28, 35, 41, 10]\n",
            "289회 로또 데이터 저장완료 : [3, 14, 33, 37, 38, 42, 10]\n",
            "290회 로또 데이터 저장완료 : [8, 13, 18, 32, 39, 45, 7]\n",
            "291회 로또 데이터 저장완료 : [3, 7, 8, 18, 20, 42, 45]\n",
            "292회 로또 데이터 저장완료 : [17, 18, 31, 32, 33, 34, 10]\n",
            "293회 로또 데이터 저장완료 : [1, 9, 17, 21, 29, 33, 24]\n",
            "294회 로또 데이터 저장완료 : [6, 10, 17, 30, 37, 38, 40]\n",
            "295회 로또 데이터 저장완료 : [1, 4, 12, 16, 18, 38, 8]\n",
            "296회 로또 데이터 저장완료 : [3, 8, 15, 27, 30, 45, 44]\n",
            "297회 로또 데이터 저장완료 : [6, 11, 19, 20, 28, 32, 34]\n",
            "298회 로또 데이터 저장완료 : [5, 9, 27, 29, 37, 40, 19]\n",
            "299회 로또 데이터 저장완료 : [1, 3, 20, 25, 36, 45, 24]\n",
            "300회 로또 데이터 저장완료 : [7, 9, 10, 12, 26, 38, 39]\n",
            "301회 로또 데이터 저장완료 : [7, 11, 13, 33, 37, 43, 26]\n",
            "302회 로또 데이터 저장완료 : [13, 19, 20, 32, 38, 42, 4]\n",
            "303회 로또 데이터 저장완료 : [2, 14, 17, 30, 38, 45, 43]\n",
            "304회 로또 데이터 저장완료 : [4, 10, 16, 26, 33, 41, 38]\n",
            "305회 로또 데이터 저장완료 : [7, 8, 18, 21, 23, 39, 9]\n",
            "306회 로또 데이터 저장완료 : [4, 18, 23, 30, 34, 41, 19]\n",
            "307회 로또 데이터 저장완료 : [5, 15, 21, 23, 25, 45, 12]\n",
            "308회 로또 데이터 저장완료 : [14, 15, 17, 19, 37, 45, 40]\n",
            "309회 로또 데이터 저장완료 : [1, 2, 5, 11, 18, 36, 22]\n",
            "310회 로또 데이터 저장완료 : [1, 5, 19, 28, 34, 41, 16]\n",
            "311회 로또 데이터 저장완료 : [4, 12, 24, 27, 28, 32, 10]\n",
            "312회 로또 데이터 저장완료 : [2, 3, 5, 6, 12, 20, 25]\n",
            "313회 로또 데이터 저장완료 : [9, 17, 34, 35, 43, 45, 2]\n",
            "314회 로또 데이터 저장완료 : [15, 17, 19, 34, 38, 41, 2]\n",
            "315회 로또 데이터 저장완료 : [1, 13, 33, 35, 43, 45, 23]\n",
            "316회 로또 데이터 저장완료 : [10, 11, 21, 27, 31, 39, 43]\n",
            "317회 로또 데이터 저장완료 : [3, 10, 11, 22, 36, 39, 8]\n",
            "318회 로또 데이터 저장완료 : [2, 17, 19, 20, 34, 45, 21]\n",
            "319회 로또 데이터 저장완료 : [5, 8, 22, 28, 33, 42, 37]\n",
            "320회 로또 데이터 저장완료 : [16, 19, 23, 25, 41, 45, 3]\n",
            "321회 로또 데이터 저장완료 : [12, 18, 20, 21, 25, 34, 42]\n",
            "322회 로또 데이터 저장완료 : [9, 18, 29, 32, 38, 43, 20]\n",
            "323회 로또 데이터 저장완료 : [10, 14, 15, 32, 36, 42, 3]\n",
            "324회 로또 데이터 저장완료 : [2, 4, 21, 25, 33, 36, 17]\n",
            "325회 로또 데이터 저장완료 : [7, 17, 20, 32, 44, 45, 33]\n",
            "326회 로또 데이터 저장완료 : [16, 23, 25, 33, 36, 39, 40]\n",
            "327회 로또 데이터 저장완료 : [6, 12, 13, 17, 32, 44, 24]\n",
            "328회 로또 데이터 저장완료 : [1, 6, 9, 16, 17, 28, 24]\n",
            "329회 로또 데이터 저장완료 : [9, 17, 19, 30, 35, 42, 4]\n",
            "330회 로또 데이터 저장완료 : [3, 4, 16, 17, 19, 20, 23]\n",
            "331회 로또 데이터 저장완료 : [4, 9, 14, 26, 31, 44, 39]\n",
            "332회 로또 데이터 저장완료 : [16, 17, 34, 36, 42, 45, 3]\n",
            "333회 로또 데이터 저장완료 : [5, 14, 27, 30, 39, 43, 35]\n",
            "334회 로또 데이터 저장완료 : [13, 15, 21, 29, 39, 43, 33]\n",
            "335회 로또 데이터 저장완료 : [5, 9, 16, 23, 26, 45, 21]\n",
            "336회 로또 데이터 저장완료 : [3, 5, 20, 34, 35, 44, 16]\n",
            "337회 로또 데이터 저장완료 : [1, 5, 14, 18, 32, 37, 4]\n",
            "338회 로또 데이터 저장완료 : [2, 13, 34, 38, 42, 45, 16]\n",
            "339회 로또 데이터 저장완료 : [6, 8, 14, 21, 30, 37, 45]\n",
            "340회 로또 데이터 저장완료 : [18, 24, 26, 29, 34, 38, 32]\n",
            "341회 로또 데이터 저장완료 : [1, 8, 19, 34, 39, 43, 41]\n",
            "342회 로또 데이터 저장완료 : [1, 13, 14, 33, 34, 43, 25]\n",
            "343회 로또 데이터 저장완료 : [1, 10, 17, 29, 31, 43, 15]\n",
            "344회 로또 데이터 저장완료 : [1, 2, 15, 28, 34, 45, 38]\n",
            "345회 로또 데이터 저장완료 : [15, 20, 23, 29, 39, 42, 2]\n",
            "346회 로또 데이터 저장완료 : [5, 13, 14, 22, 44, 45, 33]\n",
            "347회 로또 데이터 저장완료 : [3, 8, 13, 27, 32, 42, 10]\n",
            "348회 로또 데이터 저장완료 : [3, 14, 17, 20, 24, 31, 34]\n",
            "349회 로또 데이터 저장완료 : [5, 13, 14, 20, 24, 25, 36]\n",
            "350회 로또 데이터 저장완료 : [1, 8, 18, 24, 29, 33, 35]\n",
            "351회 로또 데이터 저장완료 : [5, 25, 27, 29, 34, 36, 33]\n",
            "352회 로또 데이터 저장완료 : [5, 16, 17, 20, 26, 41, 24]\n",
            "353회 로또 데이터 저장완료 : [11, 16, 19, 22, 29, 36, 26]\n",
            "354회 로또 데이터 저장완료 : [14, 19, 36, 43, 44, 45, 1]\n",
            "355회 로또 데이터 저장완료 : [5, 8, 29, 30, 35, 44, 38]\n",
            "356회 로또 데이터 저장완료 : [2, 8, 14, 25, 29, 45, 24]\n",
            "357회 로또 데이터 저장완료 : [10, 14, 18, 21, 36, 37, 5]\n",
            "358회 로또 데이터 저장완료 : [1, 9, 10, 12, 21, 40, 37]\n",
            "359회 로또 데이터 저장완료 : [1, 10, 19, 20, 24, 40, 23]\n",
            "360회 로또 데이터 저장완료 : [4, 16, 23, 25, 35, 40, 27]\n",
            "361회 로또 데이터 저장완료 : [5, 10, 16, 24, 27, 35, 33]\n",
            "362회 로또 데이터 저장완료 : [2, 3, 22, 27, 30, 40, 29]\n",
            "363회 로또 데이터 저장완료 : [11, 12, 14, 21, 32, 38, 6]\n",
            "364회 로또 데이터 저장완료 : [2, 5, 7, 14, 16, 40, 4]\n",
            "365회 로또 데이터 저장완료 : [5, 15, 21, 25, 26, 30, 31]\n",
            "366회 로또 데이터 저장완료 : [5, 12, 19, 26, 27, 44, 38]\n",
            "367회 로또 데이터 저장완료 : [3, 22, 25, 29, 32, 44, 19]\n",
            "368회 로또 데이터 저장완료 : [11, 21, 24, 30, 39, 45, 26]\n",
            "369회 로또 데이터 저장완료 : [17, 20, 35, 36, 41, 43, 21]\n",
            "370회 로또 데이터 저장완료 : [16, 18, 24, 42, 44, 45, 17]\n",
            "371회 로또 데이터 저장완료 : [7, 9, 15, 26, 27, 42, 18]\n",
            "372회 로또 데이터 저장완료 : [8, 11, 14, 16, 18, 21, 13]\n",
            "373회 로또 데이터 저장완료 : [15, 26, 37, 42, 43, 45, 9]\n",
            "374회 로또 데이터 저장완료 : [11, 13, 15, 17, 25, 34, 26]\n",
            "375회 로또 데이터 저장완료 : [4, 8, 19, 25, 27, 45, 7]\n",
            "376회 로또 데이터 저장완료 : [1, 11, 13, 24, 28, 40, 7]\n",
            "377회 로또 데이터 저장완료 : [6, 22, 29, 37, 43, 45, 23]\n",
            "378회 로또 데이터 저장완료 : [5, 22, 29, 31, 34, 39, 43]\n",
            "379회 로또 데이터 저장완료 : [6, 10, 22, 31, 35, 40, 19]\n",
            "380회 로또 데이터 저장완료 : [1, 2, 8, 17, 26, 37, 27]\n",
            "381회 로또 데이터 저장완료 : [1, 5, 10, 12, 16, 20, 11]\n",
            "382회 로또 데이터 저장완료 : [10, 15, 22, 24, 27, 42, 19]\n",
            "383회 로또 데이터 저장완료 : [4, 15, 28, 33, 37, 40, 25]\n",
            "384회 로또 데이터 저장완료 : [11, 22, 24, 32, 36, 38, 7]\n",
            "385회 로또 데이터 저장완료 : [7, 12, 19, 21, 29, 32, 9]\n",
            "386회 로또 데이터 저장완료 : [4, 7, 10, 19, 31, 40, 26]\n",
            "387회 로또 데이터 저장완료 : [1, 26, 31, 34, 40, 43, 20]\n",
            "388회 로또 데이터 저장완료 : [1, 8, 9, 17, 29, 32, 45]\n",
            "389회 로또 데이터 저장완료 : [7, 16, 18, 20, 23, 26, 3]\n",
            "390회 로또 데이터 저장완료 : [16, 17, 28, 37, 39, 40, 15]\n",
            "391회 로또 데이터 저장완료 : [10, 11, 18, 22, 28, 39, 30]\n",
            "392회 로또 데이터 저장완료 : [1, 3, 7, 8, 24, 42, 43]\n",
            "393회 로또 데이터 저장완료 : [9, 16, 28, 40, 41, 43, 21]\n",
            "394회 로또 데이터 저장완료 : [1, 13, 20, 22, 25, 28, 15]\n",
            "395회 로또 데이터 저장완료 : [11, 15, 20, 26, 31, 35, 7]\n",
            "396회 로또 데이터 저장완료 : [18, 20, 31, 34, 40, 45, 30]\n",
            "397회 로또 데이터 저장완료 : [12, 13, 17, 22, 25, 33, 8]\n",
            "398회 로또 데이터 저장완료 : [10, 15, 20, 23, 42, 44, 7]\n",
            "399회 로또 데이터 저장완료 : [1, 2, 9, 17, 19, 42, 20]\n",
            "400회 로또 데이터 저장완료 : [9, 21, 27, 34, 41, 43, 2]\n",
            "401회 로또 데이터 저장완료 : [6, 12, 18, 31, 38, 43, 9]\n",
            "402회 로또 데이터 저장완료 : [5, 9, 15, 19, 22, 36, 32]\n",
            "403회 로또 데이터 저장완료 : [10, 14, 22, 24, 28, 37, 26]\n",
            "404회 로또 데이터 저장완료 : [5, 20, 21, 24, 33, 40, 36]\n",
            "405회 로또 데이터 저장완료 : [1, 2, 10, 25, 26, 44, 4]\n",
            "406회 로또 데이터 저장완료 : [7, 12, 21, 24, 27, 36, 45]\n",
            "407회 로또 데이터 저장완료 : [6, 7, 13, 16, 24, 25, 1]\n",
            "408회 로또 데이터 저장완료 : [9, 20, 21, 22, 30, 37, 16]\n",
            "409회 로또 데이터 저장완료 : [6, 9, 21, 31, 32, 40, 38]\n",
            "410회 로또 데이터 저장완료 : [1, 3, 18, 32, 40, 41, 16]\n",
            "411회 로또 데이터 저장완료 : [11, 14, 22, 35, 37, 39, 5]\n",
            "412회 로또 데이터 저장완료 : [4, 7, 39, 41, 42, 45, 40]\n",
            "413회 로또 데이터 저장완료 : [2, 9, 15, 23, 34, 40, 3]\n",
            "414회 로또 데이터 저장완료 : [2, 14, 15, 22, 23, 44, 43]\n",
            "415회 로또 데이터 저장완료 : [7, 17, 20, 26, 30, 40, 24]\n",
            "416회 로또 데이터 저장완료 : [5, 6, 8, 11, 22, 26, 44]\n",
            "417회 로또 데이터 저장완료 : [4, 5, 14, 20, 22, 43, 44]\n",
            "418회 로또 데이터 저장완료 : [11, 13, 15, 26, 28, 34, 31]\n",
            "419회 로또 데이터 저장완료 : [2, 11, 13, 14, 28, 30, 7]\n",
            "420회 로또 데이터 저장완료 : [4, 9, 10, 29, 31, 34, 27]\n",
            "421회 로또 데이터 저장완료 : [6, 11, 26, 27, 28, 44, 30]\n",
            "422회 로또 데이터 저장완료 : [8, 15, 19, 21, 34, 44, 12]\n",
            "423회 로또 데이터 저장완료 : [1, 17, 27, 28, 29, 40, 5]\n",
            "424회 로또 데이터 저장완료 : [10, 11, 26, 31, 34, 44, 30]\n",
            "425회 로또 데이터 저장완료 : [8, 10, 14, 27, 33, 38, 3]\n",
            "426회 로또 데이터 저장완료 : [4, 17, 18, 27, 39, 43, 19]\n",
            "427회 로또 데이터 저장완료 : [6, 7, 15, 24, 28, 30, 21]\n",
            "428회 로또 데이터 저장완료 : [12, 16, 19, 22, 37, 40, 8]\n",
            "429회 로또 데이터 저장완료 : [3, 23, 28, 34, 39, 42, 16]\n",
            "430회 로또 데이터 저장완료 : [1, 3, 16, 18, 30, 34, 44]\n",
            "431회 로또 데이터 저장완료 : [18, 22, 25, 31, 38, 45, 6]\n",
            "432회 로또 데이터 저장완료 : [2, 3, 5, 11, 27, 39, 33]\n",
            "433회 로또 데이터 저장완료 : [19, 23, 29, 33, 35, 43, 27]\n",
            "434회 로또 데이터 저장완료 : [3, 13, 20, 24, 33, 37, 35]\n",
            "435회 로또 데이터 저장완료 : [8, 16, 26, 30, 38, 45, 42]\n",
            "436회 로또 데이터 저장완료 : [9, 14, 20, 22, 33, 34, 28]\n",
            "437회 로또 데이터 저장완료 : [11, 16, 29, 38, 41, 44, 21]\n",
            "438회 로또 데이터 저장완료 : [6, 12, 20, 26, 29, 38, 45]\n",
            "439회 로또 데이터 저장완료 : [17, 20, 30, 31, 37, 40, 25]\n",
            "440회 로또 데이터 저장완료 : [10, 22, 28, 34, 36, 44, 2]\n",
            "441회 로또 데이터 저장완료 : [1, 23, 28, 30, 34, 35, 9]\n",
            "442회 로또 데이터 저장완료 : [25, 27, 29, 36, 38, 40, 41]\n",
            "443회 로또 데이터 저장완료 : [4, 6, 10, 19, 20, 44, 14]\n",
            "444회 로또 데이터 저장완료 : [11, 13, 23, 35, 43, 45, 17]\n",
            "445회 로또 데이터 저장완료 : [13, 20, 21, 30, 39, 45, 32]\n",
            "446회 로또 데이터 저장완료 : [1, 11, 12, 14, 26, 35, 6]\n",
            "447회 로또 데이터 저장완료 : [2, 7, 8, 9, 17, 33, 34]\n",
            "448회 로또 데이터 저장완료 : [3, 7, 13, 27, 40, 41, 36]\n",
            "449회 로또 데이터 저장완료 : [3, 10, 20, 26, 35, 43, 36]\n",
            "450회 로또 데이터 저장완료 : [6, 14, 19, 21, 23, 31, 13]\n",
            "451회 로또 데이터 저장완료 : [12, 15, 20, 24, 30, 38, 29]\n",
            "452회 로또 데이터 저장완료 : [8, 10, 18, 30, 32, 34, 27]\n",
            "453회 로또 데이터 저장완료 : [12, 24, 33, 38, 40, 42, 30]\n",
            "454회 로또 데이터 저장완료 : [13, 25, 27, 34, 38, 41, 10]\n",
            "455회 로또 데이터 저장완료 : [4, 19, 20, 26, 30, 35, 24]\n",
            "456회 로또 데이터 저장완료 : [1, 7, 12, 18, 23, 27, 44]\n",
            "457회 로또 데이터 저장완료 : [8, 10, 18, 23, 27, 40, 33]\n",
            "458회 로또 데이터 저장완료 : [4, 9, 10, 32, 36, 40, 18]\n",
            "459회 로또 데이터 저장완료 : [4, 6, 10, 14, 25, 40, 12]\n",
            "460회 로또 데이터 저장완료 : [8, 11, 28, 30, 43, 45, 41]\n",
            "461회 로또 데이터 저장완료 : [11, 18, 26, 31, 37, 40, 43]\n",
            "462회 로또 데이터 저장완료 : [3, 20, 24, 32, 37, 45, 4]\n",
            "463회 로또 데이터 저장완료 : [23, 29, 31, 33, 34, 44, 40]\n",
            "464회 로또 데이터 저장완료 : [6, 12, 15, 34, 42, 44, 4]\n",
            "465회 로또 데이터 저장완료 : [1, 8, 11, 13, 22, 38, 31]\n",
            "466회 로또 데이터 저장완료 : [4, 10, 13, 23, 32, 44, 20]\n",
            "467회 로또 데이터 저장완료 : [2, 12, 14, 17, 24, 40, 39]\n",
            "468회 로또 데이터 저장완료 : [8, 13, 15, 28, 37, 43, 17]\n",
            "469회 로또 데이터 저장완료 : [4, 21, 22, 34, 37, 38, 33]\n",
            "470회 로또 데이터 저장완료 : [10, 16, 20, 39, 41, 42, 27]\n",
            "471회 로또 데이터 저장완료 : [6, 13, 29, 37, 39, 41, 43]\n",
            "472회 로또 데이터 저장완료 : [16, 25, 26, 31, 36, 43, 44]\n",
            "473회 로또 데이터 저장완료 : [8, 13, 20, 22, 23, 36, 34]\n",
            "474회 로또 데이터 저장완료 : [4, 13, 18, 31, 33, 45, 43]\n",
            "475회 로또 데이터 저장완료 : [1, 9, 14, 16, 21, 29, 3]\n",
            "476회 로또 데이터 저장완료 : [9, 12, 13, 15, 37, 38, 27]\n",
            "477회 로또 데이터 저장완료 : [14, 25, 29, 32, 33, 45, 37]\n",
            "478회 로또 데이터 저장완료 : [18, 29, 30, 37, 39, 43, 8]\n",
            "479회 로또 데이터 저장완료 : [8, 23, 25, 27, 35, 44, 24]\n",
            "480회 로또 데이터 저장완료 : [3, 5, 10, 17, 30, 31, 16]\n",
            "481회 로또 데이터 저장완료 : [3, 4, 23, 29, 40, 41, 20]\n",
            "482회 로또 데이터 저장완료 : [1, 10, 16, 24, 25, 35, 43]\n",
            "483회 로또 데이터 저장완료 : [12, 15, 19, 22, 28, 34, 5]\n",
            "484회 로또 데이터 저장완료 : [1, 3, 27, 28, 32, 45, 11]\n",
            "485회 로또 데이터 저장완료 : [17, 22, 26, 27, 36, 39, 20]\n",
            "486회 로또 데이터 저장완료 : [1, 2, 23, 25, 38, 40, 43]\n",
            "487회 로또 데이터 저장완료 : [4, 8, 25, 27, 37, 41, 21]\n",
            "488회 로또 데이터 저장완료 : [2, 8, 17, 30, 31, 38, 25]\n",
            "489회 로또 데이터 저장완료 : [2, 4, 8, 15, 20, 27, 11]\n",
            "490회 로또 데이터 저장완료 : [2, 7, 26, 29, 40, 43, 42]\n",
            "491회 로또 데이터 저장완료 : [8, 17, 35, 36, 39, 42, 4]\n",
            "492회 로또 데이터 저장완료 : [22, 27, 31, 35, 37, 40, 42]\n",
            "493회 로또 데이터 저장완료 : [20, 22, 26, 33, 36, 37, 25]\n",
            "494회 로또 데이터 저장완료 : [5, 7, 8, 15, 30, 43, 22]\n",
            "495회 로또 데이터 저장완료 : [4, 13, 22, 27, 34, 44, 6]\n",
            "496회 로또 데이터 저장완료 : [4, 13, 20, 29, 36, 41, 39]\n",
            "497회 로또 데이터 저장완료 : [19, 20, 23, 24, 43, 44, 13]\n",
            "498회 로또 데이터 저장완료 : [13, 14, 24, 32, 39, 41, 3]\n",
            "499회 로또 데이터 저장완료 : [5, 20, 23, 27, 35, 40, 43]\n",
            "500회 로또 데이터 저장완료 : [3, 4, 12, 20, 24, 34, 41]\n",
            "501회 로또 데이터 저장완료 : [1, 4, 10, 17, 31, 42, 2]\n",
            "502회 로또 데이터 저장완료 : [6, 22, 28, 32, 34, 40, 26]\n",
            "503회 로또 데이터 저장완료 : [1, 5, 27, 30, 34, 36, 40]\n",
            "504회 로또 데이터 저장완료 : [6, 14, 22, 26, 43, 44, 31]\n",
            "505회 로또 데이터 저장완료 : [7, 20, 22, 25, 38, 40, 44]\n",
            "506회 로또 데이터 저장완료 : [6, 9, 11, 22, 24, 30, 31]\n",
            "507회 로또 데이터 저장완료 : [12, 13, 32, 33, 40, 41, 4]\n",
            "508회 로또 데이터 저장완료 : [5, 27, 31, 34, 35, 43, 37]\n",
            "509회 로또 데이터 저장완료 : [12, 25, 29, 35, 42, 43, 24]\n",
            "510회 로또 데이터 저장완료 : [12, 29, 32, 33, 39, 40, 42]\n",
            "511회 로또 데이터 저장완료 : [3, 7, 14, 23, 26, 42, 24]\n",
            "512회 로또 데이터 저장완료 : [4, 5, 9, 13, 26, 27, 1]\n",
            "513회 로또 데이터 저장완료 : [5, 8, 21, 23, 27, 33, 12]\n",
            "514회 로또 데이터 저장완료 : [1, 15, 20, 26, 35, 42, 9]\n",
            "515회 로또 데이터 저장완료 : [2, 11, 12, 15, 23, 37, 8]\n",
            "516회 로또 데이터 저장완료 : [2, 8, 23, 41, 43, 44, 30]\n",
            "517회 로또 데이터 저장완료 : [1, 9, 12, 28, 36, 41, 10]\n",
            "518회 로또 데이터 저장완료 : [14, 23, 30, 32, 34, 38, 6]\n",
            "519회 로또 데이터 저장완료 : [6, 8, 13, 16, 30, 43, 3]\n",
            "520회 로또 데이터 저장완료 : [4, 22, 27, 28, 38, 40, 1]\n",
            "521회 로또 데이터 저장완료 : [3, 7, 18, 29, 32, 36, 19]\n",
            "522회 로또 데이터 저장완료 : [4, 5, 13, 14, 37, 41, 11]\n",
            "523회 로또 데이터 저장완료 : [1, 4, 37, 38, 40, 45, 7]\n",
            "524회 로또 데이터 저장완료 : [10, 11, 29, 38, 41, 45, 21]\n",
            "525회 로또 데이터 저장완료 : [11, 23, 26, 29, 39, 44, 22]\n",
            "526회 로또 데이터 저장완료 : [7, 14, 17, 20, 35, 39, 31]\n",
            "527회 로또 데이터 저장완료 : [1, 12, 22, 32, 33, 42, 38]\n",
            "528회 로또 데이터 저장완료 : [5, 17, 25, 31, 39, 40, 10]\n",
            "529회 로또 데이터 저장완료 : [18, 20, 24, 27, 31, 42, 39]\n",
            "530회 로또 데이터 저장완료 : [16, 23, 27, 29, 33, 41, 22]\n",
            "531회 로또 데이터 저장완료 : [1, 5, 9, 21, 27, 35, 45]\n",
            "532회 로또 데이터 저장완료 : [16, 17, 23, 24, 29, 44, 3]\n",
            "533회 로또 데이터 저장완료 : [9, 14, 15, 17, 31, 33, 23]\n",
            "534회 로또 데이터 저장완료 : [10, 24, 26, 29, 37, 38, 32]\n",
            "535회 로또 데이터 저장완료 : [11, 12, 14, 15, 18, 39, 34]\n",
            "536회 로또 데이터 저장완료 : [7, 8, 18, 32, 37, 43, 12]\n",
            "537회 로또 데이터 저장완료 : [12, 23, 26, 30, 36, 43, 11]\n",
            "538회 로또 데이터 저장완료 : [6, 10, 18, 31, 32, 34, 11]\n",
            "539회 로또 데이터 저장완료 : [3, 19, 22, 31, 42, 43, 26]\n",
            "540회 로또 데이터 저장완료 : [3, 12, 13, 15, 34, 36, 14]\n",
            "541회 로또 데이터 저장완료 : [8, 13, 26, 28, 32, 34, 43]\n",
            "542회 로또 데이터 저장완료 : [5, 6, 19, 26, 41, 45, 34]\n",
            "543회 로또 데이터 저장완료 : [13, 18, 26, 31, 34, 44, 12]\n",
            "544회 로또 데이터 저장완료 : [5, 17, 21, 25, 36, 44, 10]\n",
            "545회 로또 데이터 저장완료 : [4, 24, 25, 27, 34, 35, 2]\n",
            "546회 로또 데이터 저장완료 : [8, 17, 20, 27, 37, 43, 6]\n",
            "547회 로또 데이터 저장완료 : [6, 7, 15, 22, 34, 39, 28]\n",
            "548회 로또 데이터 저장완료 : [1, 12, 13, 21, 32, 45, 14]\n",
            "549회 로또 데이터 저장완료 : [29, 31, 35, 38, 40, 44, 17]\n",
            "550회 로또 데이터 저장완료 : [1, 7, 14, 20, 34, 37, 41]\n",
            "551회 로또 데이터 저장완료 : [3, 6, 20, 24, 27, 44, 25]\n",
            "552회 로또 데이터 저장완료 : [1, 10, 20, 32, 35, 40, 43]\n",
            "553회 로또 데이터 저장완료 : [2, 7, 17, 28, 29, 39, 37]\n",
            "554회 로또 데이터 저장완료 : [13, 14, 17, 32, 41, 42, 6]\n",
            "555회 로또 데이터 저장완료 : [11, 17, 21, 24, 26, 36, 12]\n",
            "556회 로또 데이터 저장완료 : [12, 20, 23, 28, 30, 44, 43]\n",
            "557회 로또 데이터 저장완료 : [4, 20, 26, 28, 35, 40, 31]\n",
            "558회 로또 데이터 저장완료 : [12, 15, 19, 26, 40, 43, 29]\n",
            "559회 로또 데이터 저장완료 : [11, 12, 25, 32, 44, 45, 23]\n",
            "560회 로또 데이터 저장완료 : [1, 4, 20, 23, 29, 45, 28]\n",
            "561회 로또 데이터 저장완료 : [5, 7, 18, 37, 42, 45, 20]\n",
            "562회 로또 데이터 저장완료 : [4, 11, 13, 17, 20, 31, 33]\n",
            "563회 로또 데이터 저장완료 : [5, 10, 16, 17, 31, 32, 21]\n",
            "564회 로또 데이터 저장완료 : [14, 19, 25, 26, 27, 34, 2]\n",
            "565회 로또 데이터 저장완료 : [4, 10, 18, 27, 40, 45, 38]\n",
            "566회 로또 데이터 저장완료 : [4, 5, 6, 25, 26, 43, 41]\n",
            "567회 로또 데이터 저장완료 : [1, 10, 15, 16, 32, 41, 28]\n",
            "568회 로또 데이터 저장완료 : [1, 3, 17, 20, 31, 44, 40]\n",
            "569회 로또 데이터 저장완료 : [3, 6, 13, 23, 24, 35, 1]\n",
            "570회 로또 데이터 저장완료 : [1, 12, 26, 27, 29, 33, 42]\n",
            "571회 로또 데이터 저장완료 : [11, 18, 21, 26, 38, 43, 29]\n",
            "572회 로또 데이터 저장완료 : [3, 13, 18, 33, 37, 45, 1]\n",
            "573회 로또 데이터 저장완료 : [2, 4, 20, 34, 35, 43, 14]\n",
            "574회 로또 데이터 저장완료 : [14, 15, 16, 19, 25, 43, 2]\n",
            "575회 로또 데이터 저장완료 : [2, 8, 20, 30, 33, 34, 6]\n",
            "576회 로또 데이터 저장완료 : [10, 11, 15, 25, 35, 41, 13]\n",
            "577회 로또 데이터 저장완료 : [16, 17, 22, 31, 34, 37, 33]\n",
            "578회 로또 데이터 저장완료 : [5, 12, 14, 32, 34, 42, 16]\n",
            "579회 로또 데이터 저장완료 : [5, 7, 20, 22, 37, 42, 39]\n",
            "580회 로또 데이터 저장완료 : [5, 7, 9, 11, 32, 35, 33]\n",
            "581회 로또 데이터 저장완료 : [3, 5, 14, 20, 42, 44, 33]\n",
            "582회 로또 데이터 저장완료 : [2, 12, 14, 33, 40, 41, 25]\n",
            "583회 로또 데이터 저장완료 : [8, 17, 27, 33, 40, 44, 24]\n",
            "584회 로또 데이터 저장완료 : [7, 18, 30, 39, 40, 41, 36]\n",
            "585회 로또 데이터 저장완료 : [6, 7, 10, 16, 38, 41, 4]\n",
            "586회 로또 데이터 저장완료 : [2, 7, 12, 15, 21, 34, 5]\n",
            "587회 로또 데이터 저장완료 : [14, 21, 29, 31, 32, 37, 17]\n",
            "588회 로또 데이터 저장완료 : [2, 8, 15, 22, 25, 41, 30]\n",
            "589회 로또 데이터 저장완료 : [6, 8, 28, 33, 38, 39, 22]\n",
            "590회 로또 데이터 저장완료 : [20, 30, 36, 38, 41, 45, 23]\n",
            "591회 로또 데이터 저장완료 : [8, 13, 14, 30, 38, 39, 5]\n",
            "592회 로또 데이터 저장완료 : [2, 5, 6, 13, 28, 44, 43]\n",
            "593회 로또 데이터 저장완료 : [9, 10, 13, 24, 33, 38, 28]\n",
            "594회 로또 데이터 저장완료 : [2, 8, 13, 25, 28, 37, 3]\n",
            "595회 로또 데이터 저장완료 : [8, 24, 28, 35, 38, 40, 5]\n",
            "596회 로또 데이터 저장완료 : [3, 4, 12, 14, 25, 43, 17]\n",
            "597회 로또 데이터 저장완료 : [8, 10, 23, 24, 35, 43, 37]\n",
            "598회 로또 데이터 저장완료 : [4, 12, 24, 33, 38, 45, 22]\n",
            "599회 로또 데이터 저장완료 : [5, 12, 17, 29, 34, 35, 27]\n",
            "600회 로또 데이터 저장완료 : [5, 11, 14, 27, 29, 36, 44]\n",
            "601회 로또 데이터 저장완료 : [2, 16, 19, 31, 34, 35, 37]\n",
            "602회 로또 데이터 저장완료 : [13, 14, 22, 27, 30, 38, 2]\n",
            "603회 로또 데이터 저장완료 : [2, 19, 25, 26, 27, 43, 28]\n",
            "604회 로또 데이터 저장완료 : [2, 6, 18, 21, 33, 34, 30]\n",
            "605회 로또 데이터 저장완료 : [1, 2, 7, 9, 10, 38, 42]\n",
            "606회 로또 데이터 저장완료 : [1, 5, 6, 14, 20, 39, 22]\n",
            "607회 로또 데이터 저장완료 : [8, 14, 23, 36, 38, 39, 13]\n",
            "608회 로또 데이터 저장완료 : [4, 8, 18, 19, 39, 44, 41]\n",
            "609회 로또 데이터 저장완료 : [4, 8, 27, 34, 39, 40, 13]\n",
            "610회 로또 데이터 저장완료 : [14, 18, 20, 23, 28, 36, 33]\n",
            "611회 로또 데이터 저장완료 : [2, 22, 27, 33, 36, 37, 14]\n",
            "612회 로또 데이터 저장완료 : [6, 9, 18, 19, 25, 33, 40]\n",
            "613회 로또 데이터 저장완료 : [7, 8, 11, 16, 41, 44, 35]\n",
            "614회 로또 데이터 저장완료 : [8, 21, 25, 39, 40, 44, 18]\n",
            "615회 로또 데이터 저장완료 : [10, 17, 18, 19, 23, 27, 35]\n",
            "616회 로또 데이터 저장완료 : [5, 13, 18, 23, 40, 45, 3]\n",
            "617회 로또 데이터 저장완료 : [4, 5, 11, 12, 24, 27, 28]\n",
            "618회 로또 데이터 저장완료 : [8, 16, 25, 30, 42, 43, 15]\n",
            "619회 로또 데이터 저장완료 : [6, 8, 13, 30, 35, 40, 21]\n",
            "620회 로또 데이터 저장완료 : [2, 16, 17, 32, 39, 45, 40]\n",
            "621회 로또 데이터 저장완료 : [1, 2, 6, 16, 19, 42, 9]\n",
            "622회 로또 데이터 저장완료 : [9, 15, 16, 21, 28, 34, 24]\n",
            "623회 로또 데이터 저장완료 : [7, 13, 30, 39, 41, 45, 25]\n",
            "624회 로또 데이터 저장완료 : [1, 7, 19, 26, 27, 35, 16]\n",
            "625회 로또 데이터 저장완료 : [3, 6, 7, 20, 21, 39, 13]\n",
            "626회 로또 데이터 저장완료 : [13, 14, 26, 33, 40, 43, 15]\n",
            "627회 로또 데이터 저장완료 : [2, 9, 22, 25, 31, 45, 12]\n",
            "628회 로또 데이터 저장완료 : [1, 7, 12, 15, 23, 42, 11]\n",
            "629회 로또 데이터 저장완료 : [19, 28, 31, 38, 43, 44, 1]\n",
            "630회 로또 데이터 저장완료 : [8, 17, 21, 24, 27, 31, 15]\n",
            "631회 로또 데이터 저장완료 : [1, 2, 4, 23, 31, 34, 8]\n",
            "632회 로또 데이터 저장완료 : [15, 18, 21, 32, 35, 44, 6]\n",
            "633회 로또 데이터 저장완료 : [9, 12, 19, 20, 39, 41, 13]\n",
            "634회 로또 데이터 저장완료 : [4, 10, 11, 12, 20, 27, 38]\n",
            "635회 로또 데이터 저장완료 : [11, 13, 25, 26, 29, 33, 32]\n",
            "636회 로또 데이터 저장완료 : [6, 7, 15, 16, 20, 31, 26]\n",
            "637회 로또 데이터 저장완료 : [3, 16, 22, 37, 38, 44, 23]\n",
            "638회 로또 데이터 저장완료 : [7, 18, 22, 24, 31, 34, 6]\n",
            "639회 로또 데이터 저장완료 : [6, 15, 22, 23, 25, 32, 40]\n",
            "640회 로또 데이터 저장완료 : [14, 15, 18, 21, 26, 35, 23]\n",
            "641회 로또 데이터 저장완료 : [11, 18, 21, 36, 37, 43, 12]\n",
            "642회 로또 데이터 저장완료 : [8, 17, 18, 24, 39, 45, 32]\n",
            "643회 로또 데이터 저장완료 : [15, 24, 31, 32, 33, 40, 13]\n",
            "644회 로또 데이터 저장완료 : [5, 13, 17, 23, 28, 36, 8]\n",
            "645회 로또 데이터 저장완료 : [1, 4, 16, 26, 40, 41, 31]\n",
            "646회 로또 데이터 저장완료 : [2, 9, 24, 41, 43, 45, 30]\n",
            "647회 로또 데이터 저장완료 : [5, 16, 21, 23, 24, 30, 29]\n",
            "648회 로또 데이터 저장완료 : [13, 19, 28, 37, 38, 43, 4]\n",
            "649회 로또 데이터 저장완료 : [3, 21, 22, 33, 41, 42, 20]\n",
            "650회 로또 데이터 저장완료 : [3, 4, 7, 11, 31, 41, 35]\n",
            "651회 로또 데이터 저장완료 : [11, 12, 16, 26, 29, 44, 18]\n",
            "652회 로또 데이터 저장완료 : [3, 13, 15, 40, 41, 44, 20]\n",
            "653회 로또 데이터 저장완료 : [5, 6, 26, 27, 38, 39, 1]\n",
            "654회 로또 데이터 저장완료 : [16, 21, 26, 31, 36, 43, 6]\n",
            "655회 로또 데이터 저장완료 : [7, 37, 38, 39, 40, 44, 18]\n",
            "656회 로또 데이터 저장완료 : [3, 7, 14, 16, 31, 40, 39]\n",
            "657회 로또 데이터 저장완료 : [10, 14, 19, 39, 40, 43, 23]\n",
            "658회 로또 데이터 저장완료 : [8, 19, 25, 28, 32, 36, 37]\n",
            "659회 로또 데이터 저장완료 : [7, 18, 19, 27, 29, 42, 45]\n",
            "660회 로또 데이터 저장완료 : [4, 9, 23, 33, 39, 44, 14]\n",
            "661회 로또 데이터 저장완료 : [2, 3, 12, 20, 27, 38, 40]\n",
            "662회 로또 데이터 저장완료 : [5, 6, 9, 11, 15, 37, 26]\n",
            "663회 로또 데이터 저장완료 : [3, 5, 8, 19, 38, 42, 20]\n",
            "664회 로또 데이터 저장완료 : [10, 20, 33, 36, 41, 44, 5]\n",
            "665회 로또 데이터 저장완료 : [5, 6, 11, 17, 38, 44, 13]\n",
            "666회 로또 데이터 저장완료 : [2, 4, 6, 11, 17, 28, 16]\n",
            "667회 로또 데이터 저장완료 : [15, 17, 25, 37, 42, 43, 13]\n",
            "668회 로또 데이터 저장완료 : [12, 14, 15, 24, 27, 32, 3]\n",
            "669회 로또 데이터 저장완료 : [7, 8, 20, 29, 33, 38, 9]\n",
            "670회 로또 데이터 저장완료 : [11, 18, 26, 27, 40, 41, 25]\n",
            "671회 로또 데이터 저장완료 : [7, 9, 10, 13, 31, 35, 24]\n",
            "672회 로또 데이터 저장완료 : [8, 21, 28, 31, 36, 45, 43]\n",
            "673회 로또 데이터 저장완료 : [7, 10, 17, 29, 33, 44, 5]\n",
            "674회 로또 데이터 저장완료 : [9, 10, 14, 25, 27, 31, 11]\n",
            "675회 로또 데이터 저장완료 : [1, 8, 11, 15, 18, 45, 7]\n",
            "676회 로또 데이터 저장완료 : [1, 8, 17, 34, 39, 45, 27]\n",
            "677회 로또 데이터 저장완료 : [12, 15, 24, 36, 41, 44, 42]\n",
            "678회 로또 데이터 저장완료 : [4, 5, 6, 12, 25, 37, 45]\n",
            "679회 로또 데이터 저장완료 : [3, 5, 7, 14, 26, 34, 35]\n",
            "680회 로또 데이터 저장완료 : [4, 10, 19, 29, 32, 42, 30]\n",
            "681회 로또 데이터 저장완료 : [21, 24, 27, 29, 43, 44, 7]\n",
            "682회 로또 데이터 저장완료 : [17, 23, 27, 35, 38, 43, 2]\n",
            "683회 로또 데이터 저장완료 : [6, 13, 20, 27, 28, 40, 15]\n",
            "684회 로또 데이터 저장완료 : [1, 11, 15, 17, 25, 39, 40]\n",
            "685회 로또 데이터 저장완료 : [6, 7, 12, 28, 38, 40, 18]\n",
            "686회 로또 데이터 저장완료 : [7, 12, 15, 24, 25, 43, 13]\n",
            "687회 로또 데이터 저장완료 : [1, 8, 10, 13, 28, 42, 45]\n",
            "688회 로또 데이터 저장완료 : [5, 15, 22, 23, 34, 35, 2]\n",
            "689회 로또 데이터 저장완료 : [7, 17, 19, 30, 36, 38, 34]\n",
            "690회 로또 데이터 저장완료 : [24, 25, 33, 34, 38, 39, 43]\n",
            "691회 로또 데이터 저장완료 : [15, 27, 33, 35, 43, 45, 16]\n",
            "692회 로또 데이터 저장완료 : [3, 11, 14, 15, 32, 36, 44]\n",
            "693회 로또 데이터 저장완료 : [1, 6, 11, 28, 34, 42, 30]\n",
            "694회 로또 데이터 저장완료 : [7, 15, 20, 25, 33, 43, 12]\n",
            "695회 로또 데이터 저장완료 : [4, 18, 26, 33, 34, 38, 14]\n",
            "696회 로또 데이터 저장완료 : [1, 7, 16, 18, 34, 38, 21]\n",
            "697회 로또 데이터 저장완료 : [2, 5, 8, 11, 33, 39, 31]\n",
            "698회 로또 데이터 저장완료 : [3, 11, 13, 21, 33, 37, 18]\n",
            "699회 로또 데이터 저장완료 : [4, 5, 8, 16, 21, 29, 3]\n",
            "700회 로또 데이터 저장완료 : [11, 23, 28, 29, 30, 44, 13]\n",
            "701회 로또 데이터 저장완료 : [3, 10, 14, 16, 36, 38, 35]\n",
            "702회 로또 데이터 저장완료 : [3, 13, 16, 24, 26, 29, 9]\n",
            "703회 로또 데이터 저장완료 : [10, 28, 31, 33, 41, 44, 21]\n",
            "704회 로또 데이터 저장완료 : [1, 4, 8, 23, 33, 42, 45]\n",
            "705회 로또 데이터 저장완료 : [1, 6, 17, 22, 28, 45, 23]\n",
            "706회 로또 데이터 저장완료 : [3, 4, 6, 10, 28, 30, 37]\n",
            "707회 로또 데이터 저장완료 : [2, 12, 19, 24, 39, 44, 35]\n",
            "708회 로또 데이터 저장완료 : [2, 10, 16, 19, 34, 45, 1]\n",
            "709회 로또 데이터 저장완료 : [10, 18, 30, 36, 39, 44, 32]\n",
            "710회 로또 데이터 저장완료 : [3, 4, 9, 24, 25, 33, 10]\n",
            "711회 로또 데이터 저장완료 : [11, 15, 24, 35, 37, 45, 42]\n",
            "712회 로또 데이터 저장완료 : [17, 20, 30, 31, 33, 45, 19]\n",
            "713회 로또 데이터 저장완료 : [2, 5, 15, 18, 19, 23, 44]\n",
            "714회 로또 데이터 저장완료 : [1, 7, 22, 33, 37, 40, 20]\n",
            "715회 로또 데이터 저장완료 : [2, 7, 27, 33, 41, 44, 10]\n",
            "716회 로또 데이터 저장완료 : [2, 6, 13, 16, 29, 30, 21]\n",
            "717회 로또 데이터 저장완료 : [2, 11, 19, 25, 28, 32, 44]\n",
            "718회 로또 데이터 저장완료 : [4, 11, 20, 23, 32, 39, 40]\n",
            "719회 로또 데이터 저장완료 : [4, 8, 13, 19, 20, 43, 26]\n",
            "720회 로또 데이터 저장완료 : [1, 12, 29, 34, 36, 37, 41]\n",
            "721회 로또 데이터 저장완료 : [1, 28, 35, 41, 43, 44, 31]\n",
            "722회 로또 데이터 저장완료 : [12, 14, 21, 30, 39, 43, 45]\n",
            "723회 로또 데이터 저장완료 : [20, 30, 33, 35, 36, 44, 22]\n",
            "724회 로또 데이터 저장완료 : [2, 8, 33, 35, 37, 41, 14]\n",
            "725회 로또 데이터 저장완료 : [6, 7, 19, 21, 41, 43, 38]\n",
            "726회 로또 데이터 저장완료 : [1, 11, 21, 23, 34, 44, 24]\n",
            "727회 로또 데이터 저장완료 : [7, 8, 10, 19, 21, 31, 20]\n",
            "728회 로또 데이터 저장완료 : [3, 6, 10, 30, 34, 37, 36]\n",
            "729회 로또 데이터 저장완료 : [11, 17, 21, 26, 36, 45, 16]\n",
            "730회 로또 데이터 저장완료 : [4, 10, 14, 15, 18, 22, 39]\n",
            "731회 로또 데이터 저장완료 : [2, 7, 13, 25, 42, 45, 39]\n",
            "732회 로또 데이터 저장완료 : [2, 4, 5, 17, 27, 32, 43]\n",
            "733회 로또 데이터 저장완료 : [11, 24, 32, 33, 35, 40, 13]\n",
            "734회 로또 데이터 저장완료 : [6, 16, 37, 38, 41, 45, 18]\n",
            "735회 로또 데이터 저장완료 : [5, 10, 13, 27, 37, 41, 4]\n",
            "736회 로또 데이터 저장완료 : [2, 11, 17, 18, 21, 27, 6]\n",
            "737회 로또 데이터 저장완료 : [13, 15, 18, 24, 27, 41, 11]\n",
            "738회 로또 데이터 저장완료 : [23, 27, 28, 38, 42, 43, 36]\n",
            "739회 로또 데이터 저장완료 : [7, 22, 29, 33, 34, 35, 30]\n",
            "740회 로또 데이터 저장완료 : [4, 8, 9, 16, 17, 19, 31]\n",
            "741회 로또 데이터 저장완료 : [5, 21, 27, 34, 44, 45, 16]\n",
            "742회 로또 데이터 저장완료 : [8, 10, 13, 36, 37, 40, 6]\n",
            "743회 로또 데이터 저장완료 : [15, 19, 21, 34, 41, 44, 10]\n",
            "744회 로또 데이터 저장완료 : [10, 15, 18, 21, 34, 41, 43]\n",
            "745회 로또 데이터 저장완료 : [1, 2, 3, 9, 12, 23, 10]\n",
            "746회 로또 데이터 저장완료 : [3, 12, 33, 36, 42, 45, 25]\n",
            "747회 로또 데이터 저장완료 : [7, 9, 12, 14, 23, 28, 17]\n",
            "748회 로또 데이터 저장완료 : [3, 10, 13, 22, 31, 32, 29]\n",
            "749회 로또 데이터 저장완료 : [12, 14, 24, 26, 34, 45, 41]\n",
            "750회 로또 데이터 저장완료 : [1, 2, 15, 19, 24, 36, 12]\n",
            "751회 로또 데이터 저장완료 : [3, 4, 16, 20, 28, 44, 17]\n",
            "752회 로또 데이터 저장완료 : [4, 16, 20, 33, 40, 43, 7]\n",
            "753회 로또 데이터 저장완료 : [2, 17, 19, 24, 37, 41, 3]\n",
            "754회 로또 데이터 저장완료 : [2, 8, 17, 24, 29, 31, 32]\n",
            "755회 로또 데이터 저장완료 : [13, 14, 26, 28, 30, 36, 37]\n",
            "756회 로또 데이터 저장완료 : [10, 14, 16, 18, 27, 28, 4]\n",
            "757회 로또 데이터 저장완료 : [6, 7, 11, 17, 33, 44, 1]\n",
            "758회 로또 데이터 저장완료 : [5, 9, 12, 30, 39, 43, 24]\n",
            "759회 로또 데이터 저장완료 : [9, 33, 36, 40, 42, 43, 32]\n",
            "760회 로또 데이터 저장완료 : [10, 22, 27, 31, 42, 43, 12]\n",
            "761회 로또 데이터 저장완료 : [4, 7, 11, 24, 42, 45, 30]\n",
            "762회 로또 데이터 저장완료 : [1, 3, 12, 21, 26, 41, 16]\n",
            "763회 로또 데이터 저장완료 : [3, 8, 16, 32, 34, 43, 10]\n",
            "764회 로또 데이터 저장완료 : [7, 22, 24, 31, 34, 36, 15]\n",
            "765회 로또 데이터 저장완료 : [1, 3, 8, 12, 42, 43, 33]\n",
            "766회 로또 데이터 저장완료 : [9, 30, 34, 35, 39, 41, 21]\n",
            "767회 로또 데이터 저장완료 : [5, 15, 20, 31, 34, 42, 22]\n",
            "768회 로또 데이터 저장완료 : [7, 27, 29, 30, 38, 44, 4]\n",
            "769회 로또 데이터 저장완료 : [5, 7, 11, 16, 41, 45, 4]\n",
            "770회 로또 데이터 저장완료 : [1, 9, 12, 23, 39, 43, 34]\n",
            "771회 로또 데이터 저장완료 : [6, 10, 17, 18, 21, 29, 30]\n",
            "772회 로또 데이터 저장완료 : [5, 6, 11, 14, 21, 41, 32]\n",
            "773회 로또 데이터 저장완료 : [8, 12, 19, 21, 31, 35, 44]\n",
            "774회 로또 데이터 저장완료 : [12, 15, 18, 28, 34, 42, 9]\n",
            "775회 로또 데이터 저장완료 : [11, 12, 29, 33, 38, 42, 17]\n",
            "776회 로또 데이터 저장완료 : [8, 9, 18, 21, 28, 40, 20]\n",
            "777회 로또 데이터 저장완료 : [6, 12, 17, 21, 34, 37, 18]\n",
            "778회 로또 데이터 저장완료 : [6, 21, 35, 36, 37, 41, 11]\n",
            "779회 로또 데이터 저장완료 : [6, 12, 19, 24, 34, 41, 4]\n",
            "780회 로또 데이터 저장완료 : [15, 17, 19, 21, 27, 45, 16]\n",
            "781회 로또 데이터 저장완료 : [11, 16, 18, 19, 24, 39, 43]\n",
            "782회 로또 데이터 저장완료 : [6, 18, 31, 34, 38, 45, 20]\n",
            "783회 로또 데이터 저장완료 : [14, 15, 16, 17, 38, 45, 36]\n",
            "784회 로또 데이터 저장완료 : [3, 10, 23, 24, 31, 39, 22]\n",
            "785회 로또 데이터 저장완료 : [4, 6, 15, 25, 26, 33, 40]\n",
            "786회 로또 데이터 저장완료 : [12, 15, 16, 20, 24, 30, 38]\n",
            "787회 로또 데이터 저장완료 : [5, 6, 13, 16, 27, 28, 9]\n",
            "788회 로또 데이터 저장완료 : [2, 10, 11, 19, 35, 39, 29]\n",
            "789회 로또 데이터 저장완료 : [2, 6, 7, 12, 19, 45, 38]\n",
            "790회 로또 데이터 저장완료 : [3, 8, 19, 27, 30, 41, 12]\n",
            "791회 로또 데이터 저장완료 : [2, 10, 12, 31, 33, 42, 32]\n",
            "792회 로또 데이터 저장완료 : [2, 7, 19, 25, 29, 36, 16]\n",
            "793회 로또 데이터 저장완료 : [10, 15, 21, 35, 38, 43, 31]\n",
            "794회 로또 데이터 저장완료 : [6, 7, 18, 19, 30, 38, 13]\n",
            "795회 로또 데이터 저장완료 : [3, 10, 13, 26, 34, 38, 36]\n",
            "796회 로또 데이터 저장완료 : [1, 21, 26, 36, 40, 41, 5]\n",
            "797회 로또 데이터 저장완료 : [5, 22, 31, 32, 39, 45, 36]\n",
            "798회 로또 데이터 저장완료 : [2, 10, 14, 22, 32, 36, 41]\n",
            "799회 로또 데이터 저장완료 : [12, 17, 23, 34, 42, 45, 33]\n",
            "800회 로또 데이터 저장완료 : [1, 4, 10, 12, 28, 45, 26]\n",
            "801회 로또 데이터 저장완료 : [17, 25, 28, 37, 43, 44, 2]\n",
            "802회 로또 데이터 저장완료 : [10, 11, 12, 18, 24, 42, 27]\n",
            "803회 로또 데이터 저장완료 : [5, 9, 14, 26, 30, 43, 2]\n",
            "804회 로또 데이터 저장완료 : [1, 10, 13, 26, 32, 36, 9]\n",
            "805회 로또 데이터 저장완료 : [3, 12, 13, 18, 31, 32, 42]\n",
            "806회 로또 데이터 저장완료 : [14, 20, 23, 31, 37, 38, 27]\n",
            "807회 로또 데이터 저장완료 : [6, 10, 18, 25, 34, 35, 33]\n",
            "808회 로또 데이터 저장완료 : [15, 21, 31, 32, 41, 43, 24]\n",
            "809회 로또 데이터 저장완료 : [6, 11, 15, 17, 23, 40, 39]\n",
            "810회 로또 데이터 저장완료 : [5, 10, 13, 21, 39, 43, 11]\n",
            "811회 로또 데이터 저장완료 : [8, 11, 19, 21, 36, 45, 25]\n",
            "812회 로또 데이터 저장완료 : [1, 3, 12, 14, 16, 43, 10]\n",
            "813회 로또 데이터 저장완료 : [11, 30, 34, 35, 42, 44, 27]\n",
            "814회 로또 데이터 저장완료 : [2, 21, 28, 38, 42, 45, 30]\n",
            "815회 로또 데이터 저장완료 : [17, 21, 25, 26, 27, 36, 4]\n",
            "816회 로또 데이터 저장완료 : [12, 18, 19, 29, 31, 39, 7]\n",
            "817회 로또 데이터 저장완료 : [3, 9, 12, 13, 25, 43, 34]\n",
            "818회 로또 데이터 저장완료 : [14, 15, 25, 28, 29, 30, 3]\n",
            "819회 로또 데이터 저장완료 : [16, 25, 33, 38, 40, 45, 15]\n",
            "820회 로또 데이터 저장완료 : [10, 21, 22, 30, 35, 42, 6]\n",
            "821회 로또 데이터 저장완료 : [1, 12, 13, 24, 29, 44, 16]\n",
            "822회 로또 데이터 저장완료 : [9, 18, 20, 24, 27, 36, 12]\n",
            "823회 로또 데이터 저장완료 : [12, 18, 24, 26, 39, 40, 15]\n",
            "824회 로또 데이터 저장완료 : [7, 9, 24, 29, 34, 38, 26]\n",
            "825회 로또 데이터 저장완료 : [8, 15, 21, 31, 33, 38, 42]\n",
            "826회 로또 데이터 저장완료 : [13, 16, 24, 25, 33, 36, 42]\n",
            "827회 로또 데이터 저장완료 : [5, 11, 12, 29, 33, 44, 14]\n",
            "828회 로또 데이터 저장완료 : [4, 7, 13, 29, 31, 39, 18]\n",
            "829회 로또 데이터 저장완료 : [4, 5, 31, 35, 43, 45, 29]\n",
            "830회 로또 데이터 저장완료 : [5, 6, 16, 18, 37, 38, 17]\n",
            "831회 로또 데이터 저장완료 : [3, 10, 16, 19, 31, 39, 9]\n",
            "832회 로또 데이터 저장완료 : [13, 14, 19, 26, 40, 43, 30]\n",
            "833회 로또 데이터 저장완료 : [12, 18, 30, 39, 41, 42, 19]\n",
            "834회 로또 데이터 저장완료 : [6, 8, 18, 35, 42, 43, 3]\n",
            "835회 로또 데이터 저장완료 : [9, 10, 13, 28, 38, 45, 35]\n",
            "836회 로또 데이터 저장완료 : [1, 9, 11, 14, 26, 28, 19]\n",
            "837회 로또 데이터 저장완료 : [2, 25, 28, 30, 33, 45, 6]\n",
            "838회 로또 데이터 저장완료 : [9, 14, 17, 33, 36, 38, 20]\n",
            "839회 로또 데이터 저장완료 : [3, 9, 11, 12, 13, 19, 35]\n",
            "840회 로또 데이터 저장완료 : [2, 4, 11, 28, 29, 43, 27]\n",
            "841회 로또 데이터 저장완료 : [5, 11, 14, 30, 33, 38, 24]\n",
            "842회 로또 데이터 저장완료 : [14, 26, 32, 36, 39, 42, 38]\n",
            "843회 로또 데이터 저장완료 : [19, 21, 30, 33, 34, 42, 4]\n",
            "844회 로또 데이터 저장완료 : [7, 8, 13, 15, 33, 45, 18]\n",
            "845회 로또 데이터 저장완료 : [1, 16, 29, 33, 40, 45, 6]\n",
            "846회 로또 데이터 저장완료 : [5, 18, 30, 41, 43, 45, 13]\n",
            "847회 로또 데이터 저장완료 : [12, 16, 26, 28, 30, 42, 22]\n",
            "848회 로또 데이터 저장완료 : [1, 2, 16, 22, 38, 39, 34]\n",
            "849회 로또 데이터 저장완료 : [5, 13, 17, 29, 34, 39, 3]\n",
            "850회 로또 데이터 저장완료 : [16, 20, 24, 28, 36, 39, 5]\n",
            "851회 로또 데이터 저장완료 : [14, 18, 22, 26, 31, 44, 40]\n",
            "852회 로또 데이터 저장완료 : [11, 17, 28, 30, 33, 35, 9]\n",
            "853회 로또 데이터 저장완료 : [2, 8, 23, 26, 27, 44, 13]\n",
            "854회 로또 데이터 저장완료 : [20, 25, 31, 32, 36, 43, 3]\n",
            "855회 로또 데이터 저장완료 : [8, 15, 17, 19, 43, 44, 7]\n",
            "856회 로또 데이터 저장완료 : [10, 24, 40, 41, 43, 44, 17]\n",
            "857회 로또 데이터 저장완료 : [6, 10, 16, 28, 34, 38, 43]\n",
            "858회 로또 데이터 저장완료 : [9, 13, 32, 38, 39, 43, 23]\n",
            "859회 로또 데이터 저장완료 : [8, 22, 35, 38, 39, 41, 24]\n",
            "860회 로또 데이터 저장완료 : [4, 8, 18, 25, 27, 32, 42]\n",
            "861회 로또 데이터 저장완료 : [11, 17, 19, 21, 22, 25, 24]\n",
            "862회 로또 데이터 저장완료 : [10, 34, 38, 40, 42, 43, 32]\n",
            "863회 로또 데이터 저장완료 : [16, 21, 28, 35, 39, 43, 12]\n",
            "864회 로또 데이터 저장완료 : [3, 7, 10, 13, 25, 36, 32]\n",
            "865회 로또 데이터 저장완료 : [3, 15, 22, 32, 33, 45, 2]\n",
            "866회 로또 데이터 저장완료 : [9, 15, 29, 34, 37, 39, 12]\n",
            "867회 로또 데이터 저장완료 : [14, 17, 19, 22, 24, 40, 41]\n",
            "868회 로또 데이터 저장완료 : [12, 17, 28, 41, 43, 44, 25]\n",
            "869회 로또 데이터 저장완료 : [2, 6, 20, 27, 37, 39, 4]\n",
            "870회 로또 데이터 저장완료 : [21, 25, 30, 32, 40, 42, 31]\n",
            "871회 로또 데이터 저장완료 : [2, 6, 12, 26, 30, 34, 38]\n",
            "872회 로또 데이터 저장완료 : [2, 4, 30, 32, 33, 43, 29]\n",
            "873회 로또 데이터 저장완료 : [3, 5, 12, 13, 33, 39, 38]\n",
            "874회 로또 데이터 저장완료 : [1, 15, 19, 23, 28, 42, 32]\n",
            "875회 로또 데이터 저장완료 : [19, 22, 30, 34, 39, 44, 36]\n",
            "876회 로또 데이터 저장완료 : [5, 16, 21, 26, 34, 42, 24]\n",
            "877회 로또 데이터 저장완료 : [5, 17, 18, 22, 23, 43, 12]\n",
            "878회 로또 데이터 저장완료 : [2, 6, 11, 16, 25, 31, 3]\n",
            "879회 로또 데이터 저장완료 : [1, 4, 10, 14, 15, 35, 20]\n",
            "880회 로또 데이터 저장완료 : [7, 17, 19, 23, 24, 45, 38]\n",
            "881회 로또 데이터 저장완료 : [4, 18, 20, 26, 27, 32, 9]\n",
            "882회 로또 데이터 저장완료 : [18, 34, 39, 43, 44, 45, 23]\n",
            "883회 로또 데이터 저장완료 : [9, 18, 32, 33, 37, 44, 22]\n",
            "884회 로또 데이터 저장완료 : [4, 14, 23, 28, 37, 45, 17]\n",
            "885회 로또 데이터 저장완료 : [1, 3, 24, 27, 39, 45, 31]\n",
            "886회 로또 데이터 저장완료 : [19, 23, 28, 37, 42, 45, 2]\n",
            "887회 로또 데이터 저장완료 : [8, 14, 17, 27, 36, 45, 10]\n",
            "888회 로또 데이터 저장완료 : [3, 7, 12, 31, 34, 38, 32]\n",
            "889회 로또 데이터 저장완료 : [3, 13, 29, 38, 39, 42, 26]\n",
            "890회 로또 데이터 저장완료 : [1, 4, 14, 18, 29, 37, 6]\n",
            "891회 로또 데이터 저장완료 : [9, 13, 28, 31, 39, 41, 19]\n",
            "892회 로또 데이터 저장완료 : [4, 9, 17, 18, 26, 42, 36]\n",
            "893회 로또 데이터 저장완료 : [1, 15, 17, 23, 25, 41, 10]\n",
            "894회 로또 데이터 저장완료 : [19, 32, 37, 40, 41, 43, 45]\n",
            "895회 로또 데이터 저장완료 : [16, 26, 31, 38, 39, 41, 23]\n",
            "896회 로또 데이터 저장완료 : [5, 12, 25, 26, 38, 45, 23]\n",
            "897회 로또 데이터 저장완료 : [6, 7, 12, 22, 26, 36, 29]\n",
            "898회 로또 데이터 저장완료 : [18, 21, 28, 35, 37, 42, 17]\n",
            "899회 로또 데이터 저장완료 : [8, 19, 20, 21, 33, 39, 37]\n",
            "900회 로또 데이터 저장완료 : [7, 13, 16, 18, 35, 38, 14]\n",
            "901회 로또 데이터 저장완료 : [5, 18, 20, 23, 30, 34, 21]\n",
            "902회 로또 데이터 저장완료 : [7, 19, 23, 24, 36, 39, 30]\n",
            "903회 로또 데이터 저장완료 : [2, 15, 16, 21, 22, 28, 45]\n",
            "904회 로또 데이터 저장완료 : [2, 6, 8, 26, 43, 45, 11]\n",
            "905회 로또 데이터 저장완료 : [3, 4, 16, 27, 38, 40, 20]\n",
            "906회 로또 데이터 저장완료 : [2, 5, 14, 28, 31, 32, 20]\n",
            "907회 로또 데이터 저장완료 : [21, 27, 29, 38, 40, 44, 37]\n",
            "908회 로또 데이터 저장완료 : [3, 16, 21, 22, 23, 44, 30]\n",
            "909회 로또 데이터 저장완료 : [7, 24, 29, 30, 34, 35, 33]\n",
            "910회 로또 데이터 저장완료 : [1, 11, 17, 27, 35, 39, 31]\n",
            "911회 로또 데이터 저장완료 : [4, 5, 12, 14, 32, 42, 35]\n",
            "912회 로또 데이터 저장완료 : [5, 8, 18, 21, 22, 38, 10]\n",
            "913회 로또 데이터 저장완료 : [6, 14, 16, 21, 27, 37, 40]\n",
            "914회 로또 데이터 저장완료 : [16, 19, 24, 33, 42, 44, 27]\n",
            "915회 로또 데이터 저장완료 : [2, 6, 11, 13, 22, 37, 14]\n",
            "916회 로또 데이터 저장완료 : [6, 21, 22, 32, 35, 36, 17]\n",
            "917회 로또 데이터 저장완료 : [1, 3, 23, 24, 27, 43, 34]\n",
            "918회 로또 데이터 저장완료 : [7, 11, 12, 31, 33, 38, 5]\n",
            "919회 로또 데이터 저장완료 : [9, 14, 17, 18, 42, 44, 35]\n",
            "920회 로또 데이터 저장완료 : [2, 3, 26, 33, 34, 43, 29]\n",
            "921회 로또 데이터 저장완료 : [5, 7, 12, 22, 28, 41, 1]\n",
            "922회 로또 데이터 저장완료 : [2, 6, 13, 17, 27, 43, 36]\n",
            "923회 로또 데이터 저장완료 : [3, 17, 18, 23, 36, 41, 26]\n",
            "924회 로또 데이터 저장완료 : [3, 11, 34, 42, 43, 44, 13]\n",
            "925회 로또 데이터 저장완료 : [13, 24, 32, 34, 39, 42, 4]\n",
            "926회 로또 데이터 저장완료 : [10, 16, 18, 20, 25, 31, 6]\n",
            "927회 로또 데이터 저장완료 : [4, 15, 22, 38, 41, 43, 26]\n",
            "928회 로또 데이터 저장완료 : [3, 4, 10, 20, 28, 44, 30]\n",
            "929회 로또 데이터 저장완료 : [7, 9, 12, 15, 19, 23, 4]\n",
            "930회 로또 데이터 저장완료 : [8, 21, 25, 38, 39, 44, 28]\n",
            "931회 로또 데이터 저장완료 : [14, 15, 23, 25, 35, 43, 32]\n",
            "932회 로또 데이터 저장완료 : [1, 6, 15, 36, 37, 38, 5]\n",
            "933회 로또 데이터 저장완료 : [23, 27, 29, 31, 36, 45, 37]\n",
            "934회 로또 데이터 저장완료 : [1, 3, 30, 33, 36, 39, 12]\n",
            "935회 로또 데이터 저장완료 : [4, 10, 20, 32, 38, 44, 18]\n",
            "936회 로또 데이터 저장완료 : [7, 11, 13, 17, 18, 29, 43]\n",
            "937회 로또 데이터 저장완료 : [2, 10, 13, 22, 29, 40, 26]\n",
            "938회 로또 데이터 저장완료 : [4, 8, 10, 16, 31, 36, 9]\n",
            "939회 로또 데이터 저장완료 : [4, 11, 28, 39, 42, 45, 6]\n",
            "940회 로또 데이터 저장완료 : [3, 15, 20, 22, 24, 41, 11]\n",
            "941회 로또 데이터 저장완료 : [12, 14, 25, 27, 39, 40, 35]\n",
            "942회 로또 데이터 저장완료 : [10, 12, 18, 35, 42, 43, 39]\n",
            "943회 로또 데이터 저장완료 : [1, 8, 13, 36, 44, 45, 39]\n",
            "944회 로또 데이터 저장완료 : [2, 13, 16, 19, 32, 33, 42]\n",
            "945회 로또 데이터 저장완료 : [9, 10, 15, 30, 33, 37, 26]\n"
          ]
        }
      ]
    },
    {
      "cell_type": "code",
      "metadata": {
        "id": "iZZiQwV53kmg"
      },
      "source": [
        ""
      ],
      "execution_count": null,
      "outputs": []
    }
  ]
}