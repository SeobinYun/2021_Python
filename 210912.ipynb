{
  "nbformat": 4,
  "nbformat_minor": 0,
  "metadata": {
    "colab": {
      "name": "210912.ipynb",
      "provenance": [],
      "authorship_tag": "ABX9TyMQglTGoERMUAcD2XRtvem4",
      "include_colab_link": true
    },
    "kernelspec": {
      "name": "python3",
      "display_name": "Python 3"
    },
    "language_info": {
      "name": "python"
    }
  },
  "cells": [
    {
      "cell_type": "markdown",
      "metadata": {
        "id": "view-in-github",
        "colab_type": "text"
      },
      "source": [
        "<a href=\"https://colab.research.google.com/github/SeobinYun/2021_Python/blob/master/210912.ipynb\" target=\"_parent\"><img src=\"https://colab.research.google.com/assets/colab-badge.svg\" alt=\"Open In Colab\"/></a>"
      ]
    },
    {
      "cell_type": "code",
      "metadata": {
        "colab": {
          "base_uri": "https://localhost:8080/"
        },
        "id": "alrxiPUuWQNK",
        "outputId": "7bc07b73-1006-4362-a319-509e192b54ed"
      },
      "source": [
        "import pandas as pd\n",
        "data = {'a':[1,2,3], 'b':[5,8,4]}\n",
        "df=pd.DataFrame(data)\n",
        "df['c']=df['a']+df['b']\n",
        "print(df.iloc[2]['c'])"
      ],
      "execution_count": 2,
      "outputs": [
        {
          "output_type": "stream",
          "name": "stdout",
          "text": [
            "7\n"
          ]
        }
      ]
    }
  ]
}