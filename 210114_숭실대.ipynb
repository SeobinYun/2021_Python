{
  "nbformat": 4,
  "nbformat_minor": 0,
  "metadata": {
    "colab": {
      "name": "210114_숭실대",
      "provenance": [],
      "collapsed_sections": [],
      "authorship_tag": "ABX9TyMfAXhxyjM2cJr6MoDJ4uGc",
      "include_colab_link": true
    },
    "kernelspec": {
      "name": "python3",
      "display_name": "Python 3"
    }
  },
  "cells": [
    {
      "cell_type": "markdown",
      "metadata": {
        "id": "view-in-github",
        "colab_type": "text"
      },
      "source": [
        "<a href=\"https://colab.research.google.com/github/SeobinYun/2021_Python/blob/master/210114_%EC%88%AD%EC%8B%A4%EB%8C%80.ipynb\" target=\"_parent\"><img src=\"https://colab.research.google.com/assets/colab-badge.svg\" alt=\"Open In Colab\"/></a>"
      ]
    },
    {
      "cell_type": "code",
      "metadata": {
        "colab": {
          "base_uri": "https://localhost:8080/"
        },
        "id": "VFzFMr5dPfuG",
        "outputId": "18c8ec01-315a-4cf4-832b-acd0671346f3"
      },
      "source": [
        "import pandas as pd\n",
        "\n",
        "# 시리즈(열)\n",
        "# 데이터프레임(표)\n",
        "\n",
        "a=pd.Series(['one','two','three'])\n",
        "a"
      ],
      "execution_count": null,
      "outputs": [
        {
          "output_type": "execute_result",
          "data": {
            "text/plain": [
              "0      one\n",
              "1      two\n",
              "2    three\n",
              "dtype: object"
            ]
          },
          "metadata": {
            "tags": []
          },
          "execution_count": 1
        }
      ]
    },
    {
      "cell_type": "code",
      "metadata": {
        "colab": {
          "base_uri": "https://localhost:8080/",
          "height": 106
        },
        "id": "40-L6BIZQb7P",
        "outputId": "169b60fc-7efa-4086-8938-9f47d945e919"
      },
      "source": [
        "a=pd.DataFrame({\n",
        "    '이름':['윤서빈','이민형'],\n",
        "    '나이':[20,23],\n",
        "    '성별':['여자','남자']\n",
        "})\n",
        "\n",
        "a"
      ],
      "execution_count": null,
      "outputs": [
        {
          "output_type": "execute_result",
          "data": {
            "text/html": [
              "<div>\n",
              "<style scoped>\n",
              "    .dataframe tbody tr th:only-of-type {\n",
              "        vertical-align: middle;\n",
              "    }\n",
              "\n",
              "    .dataframe tbody tr th {\n",
              "        vertical-align: top;\n",
              "    }\n",
              "\n",
              "    .dataframe thead th {\n",
              "        text-align: right;\n",
              "    }\n",
              "</style>\n",
              "<table border=\"1\" class=\"dataframe\">\n",
              "  <thead>\n",
              "    <tr style=\"text-align: right;\">\n",
              "      <th></th>\n",
              "      <th>이름</th>\n",
              "      <th>나이</th>\n",
              "      <th>성별</th>\n",
              "    </tr>\n",
              "  </thead>\n",
              "  <tbody>\n",
              "    <tr>\n",
              "      <th>0</th>\n",
              "      <td>윤서빈</td>\n",
              "      <td>20</td>\n",
              "      <td>여자</td>\n",
              "    </tr>\n",
              "    <tr>\n",
              "      <th>1</th>\n",
              "      <td>이민형</td>\n",
              "      <td>23</td>\n",
              "      <td>남자</td>\n",
              "    </tr>\n",
              "  </tbody>\n",
              "</table>\n",
              "</div>"
            ],
            "text/plain": [
              "    이름  나이  성별\n",
              "0  윤서빈  20  여자\n",
              "1  이민형  23  남자"
            ]
          },
          "metadata": {
            "tags": []
          },
          "execution_count": 3
        }
      ]
    },
    {
      "cell_type": "code",
      "metadata": {
        "colab": {
          "base_uri": "https://localhost:8080/",
          "height": 284
        },
        "id": "JM2Oof4CQyk_",
        "outputId": "6739c800-76be-4f3d-b40f-aadf449cdc28"
      },
      "source": [
        "scientists=pd.read_csv('scientists.csv')\n",
        "scientists"
      ],
      "execution_count": null,
      "outputs": [
        {
          "output_type": "execute_result",
          "data": {
            "text/html": [
              "<div>\n",
              "<style scoped>\n",
              "    .dataframe tbody tr th:only-of-type {\n",
              "        vertical-align: middle;\n",
              "    }\n",
              "\n",
              "    .dataframe tbody tr th {\n",
              "        vertical-align: top;\n",
              "    }\n",
              "\n",
              "    .dataframe thead th {\n",
              "        text-align: right;\n",
              "    }\n",
              "</style>\n",
              "<table border=\"1\" class=\"dataframe\">\n",
              "  <thead>\n",
              "    <tr style=\"text-align: right;\">\n",
              "      <th></th>\n",
              "      <th>Name</th>\n",
              "      <th>Born</th>\n",
              "      <th>Died</th>\n",
              "      <th>Age</th>\n",
              "      <th>Occupation</th>\n",
              "    </tr>\n",
              "  </thead>\n",
              "  <tbody>\n",
              "    <tr>\n",
              "      <th>0</th>\n",
              "      <td>Rosaline Franklin</td>\n",
              "      <td>1920-07-25</td>\n",
              "      <td>1958-04-16</td>\n",
              "      <td>37</td>\n",
              "      <td>Chemist</td>\n",
              "    </tr>\n",
              "    <tr>\n",
              "      <th>1</th>\n",
              "      <td>William Gosset</td>\n",
              "      <td>1876-06-13</td>\n",
              "      <td>1937-10-16</td>\n",
              "      <td>61</td>\n",
              "      <td>Statistician</td>\n",
              "    </tr>\n",
              "    <tr>\n",
              "      <th>2</th>\n",
              "      <td>Florence Nightingale</td>\n",
              "      <td>1820-05-12</td>\n",
              "      <td>1910-08-13</td>\n",
              "      <td>90</td>\n",
              "      <td>Nurse</td>\n",
              "    </tr>\n",
              "    <tr>\n",
              "      <th>3</th>\n",
              "      <td>Marie Curie</td>\n",
              "      <td>1867-11-07</td>\n",
              "      <td>1934-07-04</td>\n",
              "      <td>66</td>\n",
              "      <td>Chemist</td>\n",
              "    </tr>\n",
              "    <tr>\n",
              "      <th>4</th>\n",
              "      <td>Rachel Carson</td>\n",
              "      <td>1907-05-27</td>\n",
              "      <td>1964-04-14</td>\n",
              "      <td>56</td>\n",
              "      <td>Biologist</td>\n",
              "    </tr>\n",
              "    <tr>\n",
              "      <th>5</th>\n",
              "      <td>John Snow</td>\n",
              "      <td>1813-03-15</td>\n",
              "      <td>1858-06-16</td>\n",
              "      <td>45</td>\n",
              "      <td>Physician</td>\n",
              "    </tr>\n",
              "    <tr>\n",
              "      <th>6</th>\n",
              "      <td>Alan Turing</td>\n",
              "      <td>1912-06-23</td>\n",
              "      <td>1954-06-07</td>\n",
              "      <td>41</td>\n",
              "      <td>Computer Scientist</td>\n",
              "    </tr>\n",
              "    <tr>\n",
              "      <th>7</th>\n",
              "      <td>Johann Gauss</td>\n",
              "      <td>1777-04-30</td>\n",
              "      <td>1855-02-23</td>\n",
              "      <td>77</td>\n",
              "      <td>Mathematician</td>\n",
              "    </tr>\n",
              "  </tbody>\n",
              "</table>\n",
              "</div>"
            ],
            "text/plain": [
              "                   Name        Born        Died  Age          Occupation\n",
              "0     Rosaline Franklin  1920-07-25  1958-04-16   37             Chemist\n",
              "1        William Gosset  1876-06-13  1937-10-16   61        Statistician\n",
              "2  Florence Nightingale  1820-05-12  1910-08-13   90               Nurse\n",
              "3           Marie Curie  1867-11-07  1934-07-04   66             Chemist\n",
              "4         Rachel Carson  1907-05-27  1964-04-14   56           Biologist\n",
              "5             John Snow  1813-03-15  1858-06-16   45           Physician\n",
              "6           Alan Turing  1912-06-23  1954-06-07   41  Computer Scientist\n",
              "7          Johann Gauss  1777-04-30  1855-02-23   77       Mathematician"
            ]
          },
          "metadata": {
            "tags": []
          },
          "execution_count": 5
        }
      ]
    },
    {
      "cell_type": "code",
      "metadata": {
        "colab": {
          "base_uri": "https://localhost:8080/"
        },
        "id": "3ZIKzX9MRDgS",
        "outputId": "41295660-cce6-4484-f336-98ed5da5a478"
      },
      "source": [
        "age=scientists['Age']\n",
        "age"
      ],
      "execution_count": null,
      "outputs": [
        {
          "output_type": "execute_result",
          "data": {
            "text/plain": [
              "0    37\n",
              "1    61\n",
              "2    90\n",
              "3    66\n",
              "4    56\n",
              "5    45\n",
              "6    41\n",
              "7    77\n",
              "Name: Age, dtype: int64"
            ]
          },
          "metadata": {
            "tags": []
          },
          "execution_count": 7
        }
      ]
    },
    {
      "cell_type": "code",
      "metadata": {
        "colab": {
          "base_uri": "https://localhost:8080/"
        },
        "id": "HsWRVw4MRTKM",
        "outputId": "587fc5f0-c763-46a7-8234-87149926dbfc"
      },
      "source": [
        "age.max()"
      ],
      "execution_count": null,
      "outputs": [
        {
          "output_type": "execute_result",
          "data": {
            "text/plain": [
              "90"
            ]
          },
          "metadata": {
            "tags": []
          },
          "execution_count": 8
        }
      ]
    },
    {
      "cell_type": "code",
      "metadata": {
        "colab": {
          "base_uri": "https://localhost:8080/"
        },
        "id": "LV8OwXEMRbcx",
        "outputId": "3b1c93b8-5e7c-4990-eb4f-7784ff67ad47"
      },
      "source": [
        "scientists.dtypes"
      ],
      "execution_count": null,
      "outputs": [
        {
          "output_type": "execute_result",
          "data": {
            "text/plain": [
              "Name          object\n",
              "Born          object\n",
              "Died          object\n",
              "Age            int64\n",
              "Occupation    object\n",
              "dtype: object"
            ]
          },
          "metadata": {
            "tags": []
          },
          "execution_count": 9
        }
      ]
    },
    {
      "cell_type": "code",
      "metadata": {
        "colab": {
          "base_uri": "https://localhost:8080/"
        },
        "id": "UJ2_jlw8RgGD",
        "outputId": "0b52b3df-cfb2-4d93-c4a5-e364af2ee5ae"
      },
      "source": [
        "age.mean()"
      ],
      "execution_count": null,
      "outputs": [
        {
          "output_type": "execute_result",
          "data": {
            "text/plain": [
              "59.125"
            ]
          },
          "metadata": {
            "tags": []
          },
          "execution_count": 10
        }
      ]
    },
    {
      "cell_type": "code",
      "metadata": {
        "colab": {
          "base_uri": "https://localhost:8080/"
        },
        "id": "cWvXxZxoRwf2",
        "outputId": "8bd25fb8-352d-4bee-8913-5ada48b302a9"
      },
      "source": [
        "age[age>age.mean()] # 평균값보다 큰거만"
      ],
      "execution_count": null,
      "outputs": [
        {
          "output_type": "execute_result",
          "data": {
            "text/plain": [
              "1    61\n",
              "2    90\n",
              "3    66\n",
              "7    77\n",
              "Name: Age, dtype: int64"
            ]
          },
          "metadata": {
            "tags": []
          },
          "execution_count": 13
        }
      ]
    },
    {
      "cell_type": "code",
      "metadata": {
        "colab": {
          "base_uri": "https://localhost:8080/"
        },
        "id": "m6zCLGMHSA-s",
        "outputId": "d3dc89b8-ad9c-48c2-d95e-65b844486900"
      },
      "source": [
        "age>age.mean()"
      ],
      "execution_count": null,
      "outputs": [
        {
          "output_type": "execute_result",
          "data": {
            "text/plain": [
              "0    False\n",
              "1     True\n",
              "2     True\n",
              "3     True\n",
              "4    False\n",
              "5    False\n",
              "6    False\n",
              "7     True\n",
              "Name: Age, dtype: bool"
            ]
          },
          "metadata": {
            "tags": []
          },
          "execution_count": 14
        }
      ]
    },
    {
      "cell_type": "code",
      "metadata": {
        "colab": {
          "base_uri": "https://localhost:8080/",
          "height": 166
        },
        "id": "gE7s1uklSSxp",
        "outputId": "abab383a-a80c-404b-deeb-802823618cac"
      },
      "source": [
        "scientists[age>age.mean()]"
      ],
      "execution_count": null,
      "outputs": [
        {
          "output_type": "execute_result",
          "data": {
            "text/html": [
              "<div>\n",
              "<style scoped>\n",
              "    .dataframe tbody tr th:only-of-type {\n",
              "        vertical-align: middle;\n",
              "    }\n",
              "\n",
              "    .dataframe tbody tr th {\n",
              "        vertical-align: top;\n",
              "    }\n",
              "\n",
              "    .dataframe thead th {\n",
              "        text-align: right;\n",
              "    }\n",
              "</style>\n",
              "<table border=\"1\" class=\"dataframe\">\n",
              "  <thead>\n",
              "    <tr style=\"text-align: right;\">\n",
              "      <th></th>\n",
              "      <th>Name</th>\n",
              "      <th>Born</th>\n",
              "      <th>Died</th>\n",
              "      <th>Age</th>\n",
              "      <th>Occupation</th>\n",
              "    </tr>\n",
              "  </thead>\n",
              "  <tbody>\n",
              "    <tr>\n",
              "      <th>1</th>\n",
              "      <td>William Gosset</td>\n",
              "      <td>1876-06-13</td>\n",
              "      <td>1937-10-16</td>\n",
              "      <td>61</td>\n",
              "      <td>Statistician</td>\n",
              "    </tr>\n",
              "    <tr>\n",
              "      <th>2</th>\n",
              "      <td>Florence Nightingale</td>\n",
              "      <td>1820-05-12</td>\n",
              "      <td>1910-08-13</td>\n",
              "      <td>90</td>\n",
              "      <td>Nurse</td>\n",
              "    </tr>\n",
              "    <tr>\n",
              "      <th>3</th>\n",
              "      <td>Marie Curie</td>\n",
              "      <td>1867-11-07</td>\n",
              "      <td>1934-07-04</td>\n",
              "      <td>66</td>\n",
              "      <td>Chemist</td>\n",
              "    </tr>\n",
              "    <tr>\n",
              "      <th>7</th>\n",
              "      <td>Johann Gauss</td>\n",
              "      <td>1777-04-30</td>\n",
              "      <td>1855-02-23</td>\n",
              "      <td>77</td>\n",
              "      <td>Mathematician</td>\n",
              "    </tr>\n",
              "  </tbody>\n",
              "</table>\n",
              "</div>"
            ],
            "text/plain": [
              "                   Name        Born        Died  Age     Occupation\n",
              "1        William Gosset  1876-06-13  1937-10-16   61   Statistician\n",
              "2  Florence Nightingale  1820-05-12  1910-08-13   90          Nurse\n",
              "3           Marie Curie  1867-11-07  1934-07-04   66        Chemist\n",
              "7          Johann Gauss  1777-04-30  1855-02-23   77  Mathematician"
            ]
          },
          "metadata": {
            "tags": []
          },
          "execution_count": 16
        }
      ]
    },
    {
      "cell_type": "code",
      "metadata": {
        "colab": {
          "base_uri": "https://localhost:8080/",
          "height": 166
        },
        "id": "1qgmKmf_TRn2",
        "outputId": "97f315bf-87f6-454c-b096-a03f6d63096d"
      },
      "source": [
        "scientists.loc[age>age.mean()]"
      ],
      "execution_count": null,
      "outputs": [
        {
          "output_type": "execute_result",
          "data": {
            "text/html": [
              "<div>\n",
              "<style scoped>\n",
              "    .dataframe tbody tr th:only-of-type {\n",
              "        vertical-align: middle;\n",
              "    }\n",
              "\n",
              "    .dataframe tbody tr th {\n",
              "        vertical-align: top;\n",
              "    }\n",
              "\n",
              "    .dataframe thead th {\n",
              "        text-align: right;\n",
              "    }\n",
              "</style>\n",
              "<table border=\"1\" class=\"dataframe\">\n",
              "  <thead>\n",
              "    <tr style=\"text-align: right;\">\n",
              "      <th></th>\n",
              "      <th>Name</th>\n",
              "      <th>Born</th>\n",
              "      <th>Died</th>\n",
              "      <th>Age</th>\n",
              "      <th>Occupation</th>\n",
              "    </tr>\n",
              "  </thead>\n",
              "  <tbody>\n",
              "    <tr>\n",
              "      <th>1</th>\n",
              "      <td>William Gosset</td>\n",
              "      <td>1876-06-13</td>\n",
              "      <td>1937-10-16</td>\n",
              "      <td>61</td>\n",
              "      <td>Statistician</td>\n",
              "    </tr>\n",
              "    <tr>\n",
              "      <th>2</th>\n",
              "      <td>Florence Nightingale</td>\n",
              "      <td>1820-05-12</td>\n",
              "      <td>1910-08-13</td>\n",
              "      <td>90</td>\n",
              "      <td>Nurse</td>\n",
              "    </tr>\n",
              "    <tr>\n",
              "      <th>3</th>\n",
              "      <td>Marie Curie</td>\n",
              "      <td>1867-11-07</td>\n",
              "      <td>1934-07-04</td>\n",
              "      <td>66</td>\n",
              "      <td>Chemist</td>\n",
              "    </tr>\n",
              "    <tr>\n",
              "      <th>7</th>\n",
              "      <td>Johann Gauss</td>\n",
              "      <td>1777-04-30</td>\n",
              "      <td>1855-02-23</td>\n",
              "      <td>77</td>\n",
              "      <td>Mathematician</td>\n",
              "    </tr>\n",
              "  </tbody>\n",
              "</table>\n",
              "</div>"
            ],
            "text/plain": [
              "                   Name        Born        Died  Age     Occupation\n",
              "1        William Gosset  1876-06-13  1937-10-16   61   Statistician\n",
              "2  Florence Nightingale  1820-05-12  1910-08-13   90          Nurse\n",
              "3           Marie Curie  1867-11-07  1934-07-04   66        Chemist\n",
              "7          Johann Gauss  1777-04-30  1855-02-23   77  Mathematician"
            ]
          },
          "metadata": {
            "tags": []
          },
          "execution_count": 17
        }
      ]
    },
    {
      "cell_type": "code",
      "metadata": {
        "colab": {
          "base_uri": "https://localhost:8080/",
          "height": 166
        },
        "id": "tZHOtCiITWqz",
        "outputId": "6720bbe4-5151-4882-8a8b-a1b70cfd642b"
      },
      "source": [
        "scientists[scientists['Age']>scientists['Age'].mean()]"
      ],
      "execution_count": null,
      "outputs": [
        {
          "output_type": "execute_result",
          "data": {
            "text/html": [
              "<div>\n",
              "<style scoped>\n",
              "    .dataframe tbody tr th:only-of-type {\n",
              "        vertical-align: middle;\n",
              "    }\n",
              "\n",
              "    .dataframe tbody tr th {\n",
              "        vertical-align: top;\n",
              "    }\n",
              "\n",
              "    .dataframe thead th {\n",
              "        text-align: right;\n",
              "    }\n",
              "</style>\n",
              "<table border=\"1\" class=\"dataframe\">\n",
              "  <thead>\n",
              "    <tr style=\"text-align: right;\">\n",
              "      <th></th>\n",
              "      <th>Name</th>\n",
              "      <th>Born</th>\n",
              "      <th>Died</th>\n",
              "      <th>Age</th>\n",
              "      <th>Occupation</th>\n",
              "    </tr>\n",
              "  </thead>\n",
              "  <tbody>\n",
              "    <tr>\n",
              "      <th>1</th>\n",
              "      <td>William Gosset</td>\n",
              "      <td>1876-06-13</td>\n",
              "      <td>1937-10-16</td>\n",
              "      <td>61</td>\n",
              "      <td>Statistician</td>\n",
              "    </tr>\n",
              "    <tr>\n",
              "      <th>2</th>\n",
              "      <td>Florence Nightingale</td>\n",
              "      <td>1820-05-12</td>\n",
              "      <td>1910-08-13</td>\n",
              "      <td>90</td>\n",
              "      <td>Nurse</td>\n",
              "    </tr>\n",
              "    <tr>\n",
              "      <th>3</th>\n",
              "      <td>Marie Curie</td>\n",
              "      <td>1867-11-07</td>\n",
              "      <td>1934-07-04</td>\n",
              "      <td>66</td>\n",
              "      <td>Chemist</td>\n",
              "    </tr>\n",
              "    <tr>\n",
              "      <th>7</th>\n",
              "      <td>Johann Gauss</td>\n",
              "      <td>1777-04-30</td>\n",
              "      <td>1855-02-23</td>\n",
              "      <td>77</td>\n",
              "      <td>Mathematician</td>\n",
              "    </tr>\n",
              "  </tbody>\n",
              "</table>\n",
              "</div>"
            ],
            "text/plain": [
              "                   Name        Born        Died  Age     Occupation\n",
              "1        William Gosset  1876-06-13  1937-10-16   61   Statistician\n",
              "2  Florence Nightingale  1820-05-12  1910-08-13   90          Nurse\n",
              "3           Marie Curie  1867-11-07  1934-07-04   66        Chemist\n",
              "7          Johann Gauss  1777-04-30  1855-02-23   77  Mathematician"
            ]
          },
          "metadata": {
            "tags": []
          },
          "execution_count": 18
        }
      ]
    },
    {
      "cell_type": "code",
      "metadata": {
        "colab": {
          "base_uri": "https://localhost:8080/"
        },
        "id": "8fyMA_7QTfAO",
        "outputId": "94af1a4b-4b1b-457c-b8ec-1604d027b3c7"
      },
      "source": [
        "age"
      ],
      "execution_count": null,
      "outputs": [
        {
          "output_type": "execute_result",
          "data": {
            "text/plain": [
              "0    37\n",
              "1    61\n",
              "2    90\n",
              "3    66\n",
              "4    56\n",
              "5    45\n",
              "6    41\n",
              "7    77\n",
              "Name: Age, dtype: int64"
            ]
          },
          "metadata": {
            "tags": []
          },
          "execution_count": 19
        }
      ]
    },
    {
      "cell_type": "code",
      "metadata": {
        "colab": {
          "base_uri": "https://localhost:8080/"
        },
        "id": "H-haeY0GTfkD",
        "outputId": "6d56e43b-eaa1-4241-8b5b-f08a90a3ba51"
      },
      "source": [
        "age+age"
      ],
      "execution_count": null,
      "outputs": [
        {
          "output_type": "execute_result",
          "data": {
            "text/plain": [
              "0     74\n",
              "1    122\n",
              "2    180\n",
              "3    132\n",
              "4    112\n",
              "5     90\n",
              "6     82\n",
              "7    154\n",
              "Name: Age, dtype: int64"
            ]
          },
          "metadata": {
            "tags": []
          },
          "execution_count": 20
        }
      ]
    },
    {
      "cell_type": "code",
      "metadata": {
        "colab": {
          "base_uri": "https://localhost:8080/"
        },
        "id": "LUx0pBxQTg16",
        "outputId": "420cbbae-5480-4b06-d1f4-05a4b8ad14b0"
      },
      "source": [
        "age*age"
      ],
      "execution_count": null,
      "outputs": [
        {
          "output_type": "execute_result",
          "data": {
            "text/plain": [
              "0    1369\n",
              "1    3721\n",
              "2    8100\n",
              "3    4356\n",
              "4    3136\n",
              "5    2025\n",
              "6    1681\n",
              "7    5929\n",
              "Name: Age, dtype: int64"
            ]
          },
          "metadata": {
            "tags": []
          },
          "execution_count": 21
        }
      ]
    },
    {
      "cell_type": "code",
      "metadata": {
        "colab": {
          "base_uri": "https://localhost:8080/"
        },
        "id": "h6_i6pmZTs66",
        "outputId": "70f5f274-d2fe-474b-8650-05688fb26a9c"
      },
      "source": [
        "age+pd.Series([100,100])"
      ],
      "execution_count": null,
      "outputs": [
        {
          "output_type": "execute_result",
          "data": {
            "text/plain": [
              "0    137.0\n",
              "1    161.0\n",
              "2      NaN\n",
              "3      NaN\n",
              "4      NaN\n",
              "5      NaN\n",
              "6      NaN\n",
              "7      NaN\n",
              "dtype: float64"
            ]
          },
          "metadata": {
            "tags": []
          },
          "execution_count": 22
        }
      ]
    },
    {
      "cell_type": "code",
      "metadata": {
        "colab": {
          "base_uri": "https://localhost:8080/"
        },
        "id": "7POMtjcnTxTT",
        "outputId": "ba104f9e-2cb6-4333-d675-f700f7810259"
      },
      "source": [
        "scientists.dtypes"
      ],
      "execution_count": null,
      "outputs": [
        {
          "output_type": "execute_result",
          "data": {
            "text/plain": [
              "Name          object\n",
              "Born          object\n",
              "Died          object\n",
              "Age            int64\n",
              "Occupation    object\n",
              "dtype: object"
            ]
          },
          "metadata": {
            "tags": []
          },
          "execution_count": 24
        }
      ]
    },
    {
      "cell_type": "code",
      "metadata": {
        "colab": {
          "base_uri": "https://localhost:8080/"
        },
        "id": "i73wHOUdUHeD",
        "outputId": "e3df9294-1269-4564-c9a4-03e368931012"
      },
      "source": [
        "scientists['Born']+scientists['Died']"
      ],
      "execution_count": null,
      "outputs": [
        {
          "output_type": "execute_result",
          "data": {
            "text/plain": [
              "0    1920-07-251958-04-16\n",
              "1    1876-06-131937-10-16\n",
              "2    1820-05-121910-08-13\n",
              "3    1867-11-071934-07-04\n",
              "4    1907-05-271964-04-14\n",
              "5    1813-03-151858-06-16\n",
              "6    1912-06-231954-06-07\n",
              "7    1777-04-301855-02-23\n",
              "dtype: object"
            ]
          },
          "metadata": {
            "tags": []
          },
          "execution_count": 25
        }
      ]
    },
    {
      "cell_type": "code",
      "metadata": {
        "id": "DskwyhHAUqgf"
      },
      "source": [
        "\n",
        "born=pd.to_datatime(scientists['Born'], format='%Y-%m-%d')\n",
        "died=pd.to_datatime(scientists['Died'], format='%Y-%m-%d')"
      ],
      "execution_count": null,
      "outputs": []
    },
    {
      "cell_type": "code",
      "metadata": {
        "id": "N_w0SGwgVQUV"
      },
      "source": [
        "scientists['born_dt']=born\n",
        "scientists['died_dt']=died"
      ],
      "execution_count": null,
      "outputs": []
    },
    {
      "cell_type": "code",
      "metadata": {
        "id": "BIfsPPtjV6z5"
      },
      "source": [
        "scientists=scientists.loc[:,['Name','Age','born_dt','died_dt','Occupation']]\n",
        "scientists"
      ],
      "execution_count": null,
      "outputs": []
    },
    {
      "cell_type": "code",
      "metadata": {
        "id": "6uRZ6EdTWNPa"
      },
      "source": [
        "scientists['days']=scientists['died_dt']-scientists['born_dt']\n",
        "scientists"
      ],
      "execution_count": null,
      "outputs": []
    },
    {
      "cell_type": "code",
      "metadata": {
        "id": "k-_bk74wXJ_F"
      },
      "source": [
        "import seaborn as sns # 데이터 분석을 할 수 있는 연습용데이터, 가시화\n",
        "anscombe=sns.load_dataset('anscombe')\n",
        "anscombe"
      ],
      "execution_count": null,
      "outputs": []
    },
    {
      "cell_type": "code",
      "metadata": {
        "id": "KuwU7GJEXHpA"
      },
      "source": [
        "data1=anscombe[anscombe['dataset']=='I']\n",
        "data2=anscombe[anscombe['dataset']=='II']\n",
        "data3=anscombe[anscombe['dataset']=='III']\n",
        "data4=anscombe[anscombe['dataset']=='IV']"
      ],
      "execution_count": null,
      "outputs": []
    },
    {
      "cell_type": "code",
      "metadata": {
        "colab": {
          "base_uri": "https://localhost:8080/"
        },
        "id": "HQnHVQBCYVf0",
        "outputId": "30a10e0f-48be-4f6a-c09e-81357cd54160"
      },
      "source": [
        "print(data1.mean())\n",
        "print(data2.mean())\n",
        "print(data3.mean())\n",
        "print(data4.mean())\n"
      ],
      "execution_count": null,
      "outputs": [
        {
          "output_type": "stream",
          "text": [
            "x    9.000000\n",
            "y    7.500909\n",
            "dtype: float64\n",
            "x    9.000000\n",
            "y    7.500909\n",
            "dtype: float64\n",
            "x    9.0\n",
            "y    7.5\n",
            "dtype: float64\n",
            "x    9.000000\n",
            "y    7.500909\n",
            "dtype: float64\n"
          ],
          "name": "stdout"
        }
      ]
    },
    {
      "cell_type": "code",
      "metadata": {
        "colab": {
          "base_uri": "https://localhost:8080/"
        },
        "id": "Iur5T-wxY9uq",
        "outputId": "eec6e362-00a8-4b5b-f13d-8f3cfbf8a920"
      },
      "source": [
        "print(data1.std())\n",
        "print(data2.std())\n",
        "print(data3.std())\n",
        "print(data4.std())\n"
      ],
      "execution_count": null,
      "outputs": [
        {
          "output_type": "stream",
          "text": [
            "x    3.316625\n",
            "y    2.031568\n",
            "dtype: float64\n",
            "x    3.316625\n",
            "y    2.031657\n",
            "dtype: float64\n",
            "x    3.316625\n",
            "y    2.030424\n",
            "dtype: float64\n",
            "x    3.316625\n",
            "y    2.030579\n",
            "dtype: float64\n"
          ],
          "name": "stdout"
        }
      ]
    },
    {
      "cell_type": "code",
      "metadata": {
        "colab": {
          "base_uri": "https://localhost:8080/",
          "height": 282
        },
        "id": "RrE4L08CZdGD",
        "outputId": "db73e07e-18c3-416d-e166-3ddac3fe2d15"
      },
      "source": [
        "import matplotlib.pyplot as plt #그림을 그려주는 라이브러리\n",
        "\n",
        "plt.plot(data1['x'], data1['y'],'o')"
      ],
      "execution_count": null,
      "outputs": [
        {
          "output_type": "execute_result",
          "data": {
            "text/plain": [
              "[<matplotlib.lines.Line2D at 0x7fc8645e02e8>]"
            ]
          },
          "metadata": {
            "tags": []
          },
          "execution_count": 43
        },
        {
          "output_type": "display_data",
          "data": {
            "image/png": "[encoded data removed]",
            "text/plain": [
              "<Figure size 432x288 with 1 Axes>"
            ]
          },
          "metadata": {
            "tags": [],
            "needs_background": "light"
          }
        }
      ]
    },
    {
      "cell_type": "code",
      "metadata": {
        "colab": {
          "base_uri": "https://localhost:8080/",
          "height": 269
        },
        "id": "9VqPqAoKaGn4",
        "outputId": "2d0dbe2c-6c2f-4002-e9c9-2d0e25dcf3f3"
      },
      "source": [
        "fig=plt.figure() # 도화지를 핍니다.\n",
        "\n",
        "ax1=fig.add_subplot(2,2,1)\n",
        "ax2=fig.add_subplot(2,2,2)\n",
        "ax3=fig.add_subplot(2,2,3)\n",
        "ax4=fig.add_subplot(2,2,4)"
      ],
      "execution_count": null,
      "outputs": [
        {
          "output_type": "display_data",
          "data": {
            "image/png": "[encoded data removed]",
            "text/plain": [
              "<Figure size 432x288 with 4 Axes>"
            ]
          },
          "metadata": {
            "tags": [],
            "needs_background": "light"
          }
        }
      ]
    },
    {
      "cell_type": "code",
      "metadata": {
        "colab": {
          "base_uri": "https://localhost:8080/",
          "height": 265
        },
        "id": "VE6qj86YaiLE",
        "outputId": "bc029540-1484-4a89-f579-2f56601c10c5"
      },
      "source": [
        "ax1.plot(data1['x'], data1['y'], 'r.')\n",
        "ax2.plot(data2['x'], data2['y'], 'b.')\n",
        "ax3.plot(data3['x'], data3['y'], 'r.')\n",
        "ax4.plot(data4['x'], data4['y'], 'b.')\n",
        "\n",
        "fig"
      ],
      "execution_count": null,
      "outputs": [
        {
          "output_type": "execute_result",
          "data": {
            "image/png": "[encoded data removed]",
            "text/plain": [
              "<Figure size 432x288 with 4 Axes>"
            ]
          },
          "metadata": {
            "tags": []
          },
          "execution_count": 49
        }
      ]
    },
    {
      "cell_type": "code",
      "metadata": {
        "colab": {
          "base_uri": "https://localhost:8080/",
          "height": 281
        },
        "id": "tHUxon_ZbffR",
        "outputId": "21b394ab-3441-4cf7-c404-05c03abd97cf"
      },
      "source": [
        "ax1.set_title('data1')\n",
        "ax2.set_title('data2')\n",
        "ax3.set_title('data3')\n",
        "ax4.set_title('data4')\n",
        "\n",
        "fig\n"
      ],
      "execution_count": null,
      "outputs": [
        {
          "output_type": "execute_result",
          "data": {
            "image/png": "[encoded data removed]",
            "text/plain": [
              "<Figure size 432x288 with 4 Axes>"
            ]
          },
          "metadata": {
            "tags": []
          },
          "execution_count": 51
        }
      ]
    },
    {
      "cell_type": "code",
      "metadata": {
        "colab": {
          "base_uri": "https://localhost:8080/",
          "height": 294
        },
        "id": "pWOcVXS4cRzi",
        "outputId": "01c32ead-5b1f-4a1e-e88d-37632fe8a658"
      },
      "source": [
        "fig.suptitle('Anscombe Data')\n",
        "fig"
      ],
      "execution_count": null,
      "outputs": [
        {
          "output_type": "execute_result",
          "data": {
            "image/png": "[encoded data removed]",
            "text/plain": [
              "<Figure size 432x288 with 4 Axes>"
            ]
          },
          "metadata": {
            "tags": []
          },
          "execution_count": 52
        }
      ]
    },
    {
      "cell_type": "code",
      "metadata": {
        "colab": {
          "base_uri": "https://localhost:8080/",
          "height": 302
        },
        "id": "yd7dyB3_ckzm",
        "outputId": "d943bcda-1d89-4498-a10d-1a70a1120039"
      },
      "source": [
        "fig.tight_layout()\n",
        "fig"
      ],
      "execution_count": null,
      "outputs": [
        {
          "output_type": "execute_result",
          "data": {
            "image/png": "[encoded data removed]",
            "text/plain": [
              "<Figure size 432x288 with 4 Axes>"
            ]
          },
          "metadata": {
            "tags": []
          },
          "execution_count": 53
        }
      ]
    },
    {
      "cell_type": "code",
      "metadata": {
        "colab": {
          "base_uri": "https://localhost:8080/",
          "height": 402
        },
        "id": "NbaWv_cFctu9",
        "outputId": "9faf84b6-bd89-40b5-cdaa-aa89b400989d"
      },
      "source": [
        "tips=sns.load_dataset('tips')\n",
        "tips"
      ],
      "execution_count": null,
      "outputs": [
        {
          "output_type": "execute_result",
          "data": {
            "text/html": [
              "<div>\n",
              "<style scoped>\n",
              "    .dataframe tbody tr th:only-of-type {\n",
              "        vertical-align: middle;\n",
              "    }\n",
              "\n",
              "    .dataframe tbody tr th {\n",
              "        vertical-align: top;\n",
              "    }\n",
              "\n",
              "    .dataframe thead th {\n",
              "        text-align: right;\n",
              "    }\n",
              "</style>\n",
              "<table border=\"1\" class=\"dataframe\">\n",
              "  <thead>\n",
              "    <tr style=\"text-align: right;\">\n",
              "      <th></th>\n",
              "      <th>total_bill</th>\n",
              "      <th>tip</th>\n",
              "      <th>sex</th>\n",
              "      <th>smoker</th>\n",
              "      <th>day</th>\n",
              "      <th>time</th>\n",
              "      <th>size</th>\n",
              "    </tr>\n",
              "  </thead>\n",
              "  <tbody>\n",
              "    <tr>\n",
              "      <th>0</th>\n",
              "      <td>16.99</td>\n",
              "      <td>1.01</td>\n",
              "      <td>Female</td>\n",
              "      <td>No</td>\n",
              "      <td>Sun</td>\n",
              "      <td>Dinner</td>\n",
              "      <td>2</td>\n",
              "    </tr>\n",
              "    <tr>\n",
              "      <th>1</th>\n",
              "      <td>10.34</td>\n",
              "      <td>1.66</td>\n",
              "      <td>Male</td>\n",
              "      <td>No</td>\n",
              "      <td>Sun</td>\n",
              "      <td>Dinner</td>\n",
              "      <td>3</td>\n",
              "    </tr>\n",
              "    <tr>\n",
              "      <th>2</th>\n",
              "      <td>21.01</td>\n",
              "      <td>3.50</td>\n",
              "      <td>Male</td>\n",
              "      <td>No</td>\n",
              "      <td>Sun</td>\n",
              "      <td>Dinner</td>\n",
              "      <td>3</td>\n",
              "    </tr>\n",
              "    <tr>\n",
              "      <th>3</th>\n",
              "      <td>23.68</td>\n",
              "      <td>3.31</td>\n",
              "      <td>Male</td>\n",
              "      <td>No</td>\n",
              "      <td>Sun</td>\n",
              "      <td>Dinner</td>\n",
              "      <td>2</td>\n",
              "    </tr>\n",
              "    <tr>\n",
              "      <th>4</th>\n",
              "      <td>24.59</td>\n",
              "      <td>3.61</td>\n",
              "      <td>Female</td>\n",
              "      <td>No</td>\n",
              "      <td>Sun</td>\n",
              "      <td>Dinner</td>\n",
              "      <td>4</td>\n",
              "    </tr>\n",
              "    <tr>\n",
              "      <th>...</th>\n",
              "      <td>...</td>\n",
              "      <td>...</td>\n",
              "      <td>...</td>\n",
              "      <td>...</td>\n",
              "      <td>...</td>\n",
              "      <td>...</td>\n",
              "      <td>...</td>\n",
              "    </tr>\n",
              "    <tr>\n",
              "      <th>239</th>\n",
              "      <td>29.03</td>\n",
              "      <td>5.92</td>\n",
              "      <td>Male</td>\n",
              "      <td>No</td>\n",
              "      <td>Sat</td>\n",
              "      <td>Dinner</td>\n",
              "      <td>3</td>\n",
              "    </tr>\n",
              "    <tr>\n",
              "      <th>240</th>\n",
              "      <td>27.18</td>\n",
              "      <td>2.00</td>\n",
              "      <td>Female</td>\n",
              "      <td>Yes</td>\n",
              "      <td>Sat</td>\n",
              "      <td>Dinner</td>\n",
              "      <td>2</td>\n",
              "    </tr>\n",
              "    <tr>\n",
              "      <th>241</th>\n",
              "      <td>22.67</td>\n",
              "      <td>2.00</td>\n",
              "      <td>Male</td>\n",
              "      <td>Yes</td>\n",
              "      <td>Sat</td>\n",
              "      <td>Dinner</td>\n",
              "      <td>2</td>\n",
              "    </tr>\n",
              "    <tr>\n",
              "      <th>242</th>\n",
              "      <td>17.82</td>\n",
              "      <td>1.75</td>\n",
              "      <td>Male</td>\n",
              "      <td>No</td>\n",
              "      <td>Sat</td>\n",
              "      <td>Dinner</td>\n",
              "      <td>2</td>\n",
              "    </tr>\n",
              "    <tr>\n",
              "      <th>243</th>\n",
              "      <td>18.78</td>\n",
              "      <td>3.00</td>\n",
              "      <td>Female</td>\n",
              "      <td>No</td>\n",
              "      <td>Thur</td>\n",
              "      <td>Dinner</td>\n",
              "      <td>2</td>\n",
              "    </tr>\n",
              "  </tbody>\n",
              "</table>\n",
              "<p>244 rows × 7 columns</p>\n",
              "</div>"
            ],
            "text/plain": [
              "     total_bill   tip     sex smoker   day    time  size\n",
              "0         16.99  1.01  Female     No   Sun  Dinner     2\n",
              "1         10.34  1.66    Male     No   Sun  Dinner     3\n",
              "2         21.01  3.50    Male     No   Sun  Dinner     3\n",
              "3         23.68  3.31    Male     No   Sun  Dinner     2\n",
              "4         24.59  3.61  Female     No   Sun  Dinner     4\n",
              "..          ...   ...     ...    ...   ...     ...   ...\n",
              "239       29.03  5.92    Male     No   Sat  Dinner     3\n",
              "240       27.18  2.00  Female    Yes   Sat  Dinner     2\n",
              "241       22.67  2.00    Male    Yes   Sat  Dinner     2\n",
              "242       17.82  1.75    Male     No   Sat  Dinner     2\n",
              "243       18.78  3.00  Female     No  Thur  Dinner     2\n",
              "\n",
              "[244 rows x 7 columns]"
            ]
          },
          "metadata": {
            "tags": []
          },
          "execution_count": 54
        }
      ]
    },
    {
      "cell_type": "code",
      "metadata": {
        "colab": {
          "base_uri": "https://localhost:8080/",
          "height": 269
        },
        "id": "AVRH2n51gXLI",
        "outputId": "b5d5f821-3631-4101-9fe0-5d3e90e21c30"
      },
      "source": [
        "# matplotlib 에서 제공하는 그림 함수\n",
        "\n",
        "fig=plt.figure()\n",
        "ax1=fig.add_subplot(1,1,1)\n"
      ],
      "execution_count": null,
      "outputs": [
        {
          "output_type": "display_data",
          "data": {
            "image/png": "[encoded data removed]",
            "text/plain": [
              "<Figure size 432x288 with 1 Axes>"
            ]
          },
          "metadata": {
            "tags": [],
            "needs_background": "light"
          }
        }
      ]
    },
    {
      "cell_type": "code",
      "metadata": {
        "colab": {
          "base_uri": "https://localhost:8080/",
          "height": 295
        },
        "id": "ZSi0p3vYg2u5",
        "outputId": "413413f7-590f-4f29-f347-8d54ee8eef96"
      },
      "source": [
        "ax1.hist(tips['total_bill'], bins=10)\n",
        "ax1.set_title('Histogram of Total Bill')\n",
        "ax1.set_xlabel('Frequency')\n",
        "ax1.set_ylabel('Total Bill')\n",
        "\n",
        "fig"
      ],
      "execution_count": null,
      "outputs": [
        {
          "output_type": "execute_result",
          "data": {
            "image/png": "[encoded data removed]",
            "text/plain": [
              "<Figure size 432x288 with 1 Axes>"
            ]
          },
          "metadata": {
            "tags": []
          },
          "execution_count": 56
        }
      ]
    },
    {
      "cell_type": "code",
      "metadata": {
        "colab": {
          "base_uri": "https://localhost:8080/",
          "height": 282
        },
        "id": "KvMBddX-hKsy",
        "outputId": "1750138f-b2dc-4e96-84f0-ef3fd4533e3f"
      },
      "source": [
        "fig=plt.figure()\n",
        "ax1=fig.add_subplot(1,1,1)\n",
        "ax1.scatter(tips['total_bill'], tips['tip'])"
      ],
      "execution_count": null,
      "outputs": [
        {
          "output_type": "execute_result",
          "data": {
            "text/plain": [
              "<matplotlib.collections.PathCollection at 0x7fc863c75d68>"
            ]
          },
          "metadata": {
            "tags": []
          },
          "execution_count": 57
        },
        {
          "output_type": "display_data",
          "data": {
            "image/png": "[encoded data removed]",
            "text/plain": [
              "<Figure size 432x288 with 1 Axes>"
            ]
          },
          "metadata": {
            "tags": [],
            "needs_background": "light"
          }
        }
      ]
    },
    {
      "cell_type": "code",
      "metadata": {
        "colab": {
          "base_uri": "https://localhost:8080/",
          "height": 584
        },
        "id": "sa6yBUCThffy",
        "outputId": "299a52e0-93be-4eb9-cd4a-7b1820a0ab01"
      },
      "source": [
        "fig=plt.figure()\n",
        "ax1=fig.add_subplot(1,1,1)\n",
        "ax1.boxplot([tips[tips['sex']=='Female']['tip'],\n",
        "            tips[tips['sex']=='Male']['tip']], labels=['Female','Male'])"
      ],
      "execution_count": null,
      "outputs": [
        {
          "output_type": "stream",
          "text": [
            "/usr/local/lib/python3.6/dist-packages/numpy/core/_asarray.py:83: VisibleDeprecationWarning: Creating an ndarray from ragged nested sequences (which is a list-or-tuple of lists-or-tuples-or ndarrays with different lengths or shapes) is deprecated. If you meant to do this, you must specify 'dtype=object' when creating the ndarray\n",
            "  return array(a, dtype, copy=False, order=order)\n"
          ],
          "name": "stderr"
        },
        {
          "output_type": "execute_result",
          "data": {
            "text/plain": [
              "{'boxes': [<matplotlib.lines.Line2D at 0x7fc863e716a0>,\n",
              "  <matplotlib.lines.Line2D at 0x7fc86414c588>],\n",
              " 'caps': [<matplotlib.lines.Line2D at 0x7fc8640ddb00>,\n",
              "  <matplotlib.lines.Line2D at 0x7fc8640dd550>,\n",
              "  <matplotlib.lines.Line2D at 0x7fc85b105588>,\n",
              "  <matplotlib.lines.Line2D at 0x7fc85b105908>],\n",
              " 'fliers': [<matplotlib.lines.Line2D at 0x7fc86414c2b0>,\n",
              "  <matplotlib.lines.Line2D at 0x7fc85b10f048>],\n",
              " 'means': [],\n",
              " 'medians': [<matplotlib.lines.Line2D at 0x7fc86414cb70>,\n",
              "  <matplotlib.lines.Line2D at 0x7fc85b105c88>],\n",
              " 'whiskers': [<matplotlib.lines.Line2D at 0x7fc863e71198>,\n",
              "  <matplotlib.lines.Line2D at 0x7fc864154588>,\n",
              "  <matplotlib.lines.Line2D at 0x7fc86414c7b8>,\n",
              "  <matplotlib.lines.Line2D at 0x7fc85b105208>]}"
            ]
          },
          "metadata": {
            "tags": []
          },
          "execution_count": 59
        },
        {
          "output_type": "display_data",
          "data": {
            "image/png": "[encoded data removed]",
            "text/plain": [
              "<Figure size 432x288 with 1 Axes>"
            ]
          },
          "metadata": {
            "tags": [],
            "needs_background": "light"
          }
        }
      ]
    },
    {
      "cell_type": "code",
      "metadata": {
        "id": "xlE5SDFDirJ9"
      },
      "source": [
        "def recode_sex(sex):\n",
        "  if sex=='Female':\n",
        "    return 1\n",
        "  else:\n",
        "    return 0"
      ],
      "execution_count": null,
      "outputs": []
    },
    {
      "cell_type": "code",
      "metadata": {
        "colab": {
          "base_uri": "https://localhost:8080/",
          "height": 402
        },
        "id": "e91xLFAXjkaI",
        "outputId": "2c3e5dfe-ffc8-4c10-d35b-37083d8824a2"
      },
      "source": [
        "tips['sex_color']=tips['sex'].apply(recode_sex)\n",
        "tips"
      ],
      "execution_count": null,
      "outputs": [
        {
          "output_type": "execute_result",
          "data": {
            "text/html": [
              "<div>\n",
              "<style scoped>\n",
              "    .dataframe tbody tr th:only-of-type {\n",
              "        vertical-align: middle;\n",
              "    }\n",
              "\n",
              "    .dataframe tbody tr th {\n",
              "        vertical-align: top;\n",
              "    }\n",
              "\n",
              "    .dataframe thead th {\n",
              "        text-align: right;\n",
              "    }\n",
              "</style>\n",
              "<table border=\"1\" class=\"dataframe\">\n",
              "  <thead>\n",
              "    <tr style=\"text-align: right;\">\n",
              "      <th></th>\n",
              "      <th>total_bill</th>\n",
              "      <th>tip</th>\n",
              "      <th>sex</th>\n",
              "      <th>smoker</th>\n",
              "      <th>day</th>\n",
              "      <th>time</th>\n",
              "      <th>size</th>\n",
              "      <th>sex_color</th>\n",
              "    </tr>\n",
              "  </thead>\n",
              "  <tbody>\n",
              "    <tr>\n",
              "      <th>0</th>\n",
              "      <td>16.99</td>\n",
              "      <td>1.01</td>\n",
              "      <td>Female</td>\n",
              "      <td>No</td>\n",
              "      <td>Sun</td>\n",
              "      <td>Dinner</td>\n",
              "      <td>2</td>\n",
              "      <td>1</td>\n",
              "    </tr>\n",
              "    <tr>\n",
              "      <th>1</th>\n",
              "      <td>10.34</td>\n",
              "      <td>1.66</td>\n",
              "      <td>Male</td>\n",
              "      <td>No</td>\n",
              "      <td>Sun</td>\n",
              "      <td>Dinner</td>\n",
              "      <td>3</td>\n",
              "      <td>0</td>\n",
              "    </tr>\n",
              "    <tr>\n",
              "      <th>2</th>\n",
              "      <td>21.01</td>\n",
              "      <td>3.50</td>\n",
              "      <td>Male</td>\n",
              "      <td>No</td>\n",
              "      <td>Sun</td>\n",
              "      <td>Dinner</td>\n",
              "      <td>3</td>\n",
              "      <td>0</td>\n",
              "    </tr>\n",
              "    <tr>\n",
              "      <th>3</th>\n",
              "      <td>23.68</td>\n",
              "      <td>3.31</td>\n",
              "      <td>Male</td>\n",
              "      <td>No</td>\n",
              "      <td>Sun</td>\n",
              "      <td>Dinner</td>\n",
              "      <td>2</td>\n",
              "      <td>0</td>\n",
              "    </tr>\n",
              "    <tr>\n",
              "      <th>4</th>\n",
              "      <td>24.59</td>\n",
              "      <td>3.61</td>\n",
              "      <td>Female</td>\n",
              "      <td>No</td>\n",
              "      <td>Sun</td>\n",
              "      <td>Dinner</td>\n",
              "      <td>4</td>\n",
              "      <td>1</td>\n",
              "    </tr>\n",
              "    <tr>\n",
              "      <th>...</th>\n",
              "      <td>...</td>\n",
              "      <td>...</td>\n",
              "      <td>...</td>\n",
              "      <td>...</td>\n",
              "      <td>...</td>\n",
              "      <td>...</td>\n",
              "      <td>...</td>\n",
              "      <td>...</td>\n",
              "    </tr>\n",
              "    <tr>\n",
              "      <th>239</th>\n",
              "      <td>29.03</td>\n",
              "      <td>5.92</td>\n",
              "      <td>Male</td>\n",
              "      <td>No</td>\n",
              "      <td>Sat</td>\n",
              "      <td>Dinner</td>\n",
              "      <td>3</td>\n",
              "      <td>0</td>\n",
              "    </tr>\n",
              "    <tr>\n",
              "      <th>240</th>\n",
              "      <td>27.18</td>\n",
              "      <td>2.00</td>\n",
              "      <td>Female</td>\n",
              "      <td>Yes</td>\n",
              "      <td>Sat</td>\n",
              "      <td>Dinner</td>\n",
              "      <td>2</td>\n",
              "      <td>1</td>\n",
              "    </tr>\n",
              "    <tr>\n",
              "      <th>241</th>\n",
              "      <td>22.67</td>\n",
              "      <td>2.00</td>\n",
              "      <td>Male</td>\n",
              "      <td>Yes</td>\n",
              "      <td>Sat</td>\n",
              "      <td>Dinner</td>\n",
              "      <td>2</td>\n",
              "      <td>0</td>\n",
              "    </tr>\n",
              "    <tr>\n",
              "      <th>242</th>\n",
              "      <td>17.82</td>\n",
              "      <td>1.75</td>\n",
              "      <td>Male</td>\n",
              "      <td>No</td>\n",
              "      <td>Sat</td>\n",
              "      <td>Dinner</td>\n",
              "      <td>2</td>\n",
              "      <td>0</td>\n",
              "    </tr>\n",
              "    <tr>\n",
              "      <th>243</th>\n",
              "      <td>18.78</td>\n",
              "      <td>3.00</td>\n",
              "      <td>Female</td>\n",
              "      <td>No</td>\n",
              "      <td>Thur</td>\n",
              "      <td>Dinner</td>\n",
              "      <td>2</td>\n",
              "      <td>1</td>\n",
              "    </tr>\n",
              "  </tbody>\n",
              "</table>\n",
              "<p>244 rows × 8 columns</p>\n",
              "</div>"
            ],
            "text/plain": [
              "     total_bill   tip     sex smoker   day    time  size sex_color\n",
              "0         16.99  1.01  Female     No   Sun  Dinner     2         1\n",
              "1         10.34  1.66    Male     No   Sun  Dinner     3         0\n",
              "2         21.01  3.50    Male     No   Sun  Dinner     3         0\n",
              "3         23.68  3.31    Male     No   Sun  Dinner     2         0\n",
              "4         24.59  3.61  Female     No   Sun  Dinner     4         1\n",
              "..          ...   ...     ...    ...   ...     ...   ...       ...\n",
              "239       29.03  5.92    Male     No   Sat  Dinner     3         0\n",
              "240       27.18  2.00  Female    Yes   Sat  Dinner     2         1\n",
              "241       22.67  2.00    Male    Yes   Sat  Dinner     2         0\n",
              "242       17.82  1.75    Male     No   Sat  Dinner     2         0\n",
              "243       18.78  3.00  Female     No  Thur  Dinner     2         1\n",
              "\n",
              "[244 rows x 8 columns]"
            ]
          },
          "metadata": {
            "tags": []
          },
          "execution_count": 61
        }
      ]
    },
    {
      "cell_type": "code",
      "metadata": {
        "colab": {
          "base_uri": "https://localhost:8080/",
          "height": 282
        },
        "id": "9QQZmAQdjz6C",
        "outputId": "b05ae515-9857-4ee4-a16e-5d00e5dddf45"
      },
      "source": [
        "fig=plt.figure()\n",
        "ax1=fig.add_subplot(1,1,1)\n",
        "ax1.scatter(x=tips['total_bill'], y=tips['tip'], c=tips['sex_color'], alpha=0.5)"
      ],
      "execution_count": null,
      "outputs": [
        {
          "output_type": "execute_result",
          "data": {
            "text/plain": [
              "<matplotlib.collections.PathCollection at 0x7fc85b08bb70>"
            ]
          },
          "metadata": {
            "tags": []
          },
          "execution_count": 62
        },
        {
          "output_type": "display_data",
          "data": {
            "image/png": "[encoded data removed]",
            "text/plain": [
              "<Figure size 432x288 with 1 Axes>"
            ]
          },
          "metadata": {
            "tags": [],
            "needs_background": "light"
          }
        }
      ]
    },
    {
      "cell_type": "code",
      "metadata": {
        "colab": {
          "base_uri": "https://localhost:8080/",
          "height": 404
        },
        "id": "uWPBaX1Ekvv0",
        "outputId": "dca34fa7-dc9b-4af2-b99c-d46b293211b7"
      },
      "source": [
        "# seaborn으로 그림 그리기\n",
        "# ax=plt.subplot()\n",
        "ax = sns.distplot(tips['total_bill'], rug=True)\n",
        "ax.set_title('Total bill Histogram with Density Plot')"
      ],
      "execution_count": null,
      "outputs": [
        {
          "output_type": "stream",
          "text": [
            "/usr/local/lib/python3.6/dist-packages/seaborn/distributions.py:2557: FutureWarning: `distplot` is a deprecated function and will be removed in a future version. Please adapt your code to use either `displot` (a figure-level function with similar flexibility) or `histplot` (an axes-level function for histograms).\n",
            "  warnings.warn(msg, FutureWarning)\n",
            "/usr/local/lib/python3.6/dist-packages/seaborn/distributions.py:2056: FutureWarning: The `axis` variable is no longer used and will be removed. Instead, assign variables directly to `x` or `y`.\n",
            "  warnings.warn(msg, FutureWarning)\n"
          ],
          "name": "stderr"
        },
        {
          "output_type": "execute_result",
          "data": {
            "text/plain": [
              "Text(0.5, 1.0, 'Total bill Histogram with Density Plot')"
            ]
          },
          "metadata": {
            "tags": []
          },
          "execution_count": 66
        },
        {
          "output_type": "display_data",
          "data": {
            "image/png": "[encoded data removed]",
            "text/plain": [
              "<Figure size 432x288 with 1 Axes>"
            ]
          },
          "metadata": {
            "tags": [],
            "needs_background": "light"
          }
        }
      ]
    },
    {
      "cell_type": "code",
      "metadata": {
        "colab": {
          "base_uri": "https://localhost:8080/",
          "height": 334
        },
        "id": "Cd0ioMBclO-K",
        "outputId": "880ddbe2-e81b-4dbc-d7f0-835b0790635b"
      },
      "source": [
        "ax=sns.countplot('day', data=tips)"
      ],
      "execution_count": null,
      "outputs": [
        {
          "output_type": "stream",
          "text": [
            "/usr/local/lib/python3.6/dist-packages/seaborn/_decorators.py:43: FutureWarning: Pass the following variable as a keyword arg: x. From version 0.12, the only valid positional argument will be `data`, and passing other arguments without an explicit keyword will result in an error or misinterpretation.\n",
            "  FutureWarning\n"
          ],
          "name": "stderr"
        },
        {
          "output_type": "display_data",
          "data": {
            "image/png": "[encoded data removed]",
            "text/plain": [
              "<Figure size 432x288 with 1 Axes>"
            ]
          },
          "metadata": {
            "tags": [],
            "needs_background": "light"
          }
        }
      ]
    },
    {
      "cell_type": "code",
      "metadata": {
        "colab": {
          "base_uri": "https://localhost:8080/",
          "height": 280
        },
        "id": "i92GI1a2l7I2",
        "outputId": "1cfc9498-b0cf-4812-afd1-547e60624415"
      },
      "source": [
        "ax=sns.regplot(x='total_bill', y='tip', data=tips, fit_reg=False)"
      ],
      "execution_count": null,
      "outputs": [
        {
          "output_type": "display_data",
          "data": {
            "image/png": "[encoded data removed]",
            "text/plain": [
              "<Figure size 432x288 with 1 Axes>"
            ]
          },
          "metadata": {
            "tags": [],
            "needs_background": "light"
          }
        }
      ]
    },
    {
      "cell_type": "code",
      "metadata": {
        "colab": {
          "base_uri": "https://localhost:8080/",
          "height": 482
        },
        "id": "rMYQ3JyqmKR7",
        "outputId": "80726a35-7d82-409a-f72f-4519b5190d52"
      },
      "source": [
        "joint = sns.jointplot(x='total_bill', y='tip', data=tips, kind='hex')\n",
        "joint.set_axis_labels(xlabel='Total Bill', ylabel='Tip')\n",
        "joint.fig.suptitle('Joint plot of Total Bill and Tip', fontsize=10, y=1.03)"
      ],
      "execution_count": null,
      "outputs": [
        {
          "output_type": "execute_result",
          "data": {
            "text/plain": [
              "Text(0.5, 1.03, 'Joint plot of Total Bill and Tip')"
            ]
          },
          "metadata": {
            "tags": []
          },
          "execution_count": 73
        },
        {
          "output_type": "display_data",
          "data": {
            "image/png": "[encoded data removed]",
            "text/plain": [
              "<Figure size 432x432 with 3 Axes>"
            ]
          },
          "metadata": {
            "tags": [],
            "needs_background": "light"
          }
        }
      ]
    },
    {
      "cell_type": "code",
      "metadata": {
        "colab": {
          "base_uri": "https://localhost:8080/",
          "height": 297
        },
        "id": "XKYqtR3hm0pb",
        "outputId": "91d2be9c-d00d-4b16-f121-c22980c5ac7e"
      },
      "source": [
        "sns.barplot(x='time', y='total_bill', data=tips)"
      ],
      "execution_count": null,
      "outputs": [
        {
          "output_type": "execute_result",
          "data": {
            "text/plain": [
              "<matplotlib.axes._subplots.AxesSubplot at 0x7fc8588617f0>"
            ]
          },
          "metadata": {
            "tags": []
          },
          "execution_count": 74
        },
        {
          "output_type": "display_data",
          "data": {
            "image/png": "[encoded data removed]",
            "text/plain": [
              "<Figure size 432x288 with 1 Axes>"
            ]
          },
          "metadata": {
            "tags": [],
            "needs_background": "light"
          }
        }
      ]
    },
    {
      "cell_type": "code",
      "metadata": {
        "colab": {
          "base_uri": "https://localhost:8080/",
          "height": 297
        },
        "id": "4Jt4Cthxnf2n",
        "outputId": "9f7f96b9-7e51-4783-db82-a57fdbf8f73c"
      },
      "source": [
        "sns.boxplot(x='time', y='total_bill', data=tips)"
      ],
      "execution_count": null,
      "outputs": [
        {
          "output_type": "execute_result",
          "data": {
            "text/plain": [
              "<matplotlib.axes._subplots.AxesSubplot at 0x7fc85888b588>"
            ]
          },
          "metadata": {
            "tags": []
          },
          "execution_count": 75
        },
        {
          "output_type": "display_data",
          "data": {
            "image/png": "[encoded data removed]",
            "text/plain": [
              "<Figure size 432x288 with 1 Axes>"
            ]
          },
          "metadata": {
            "tags": [],
            "needs_background": "light"
          }
        }
      ]
    },
    {
      "cell_type": "code",
      "metadata": {
        "colab": {
          "base_uri": "https://localhost:8080/",
          "height": 300
        },
        "id": "V2bXP7h7n1_2",
        "outputId": "e4db96d2-e845-463c-e7ee-9c5268b9eee1"
      },
      "source": [
        "sns.violinplot(x='time', y='total_bill', data=tips)"
      ],
      "execution_count": null,
      "outputs": [
        {
          "output_type": "execute_result",
          "data": {
            "text/plain": [
              "<matplotlib.axes._subplots.AxesSubplot at 0x7fc8587a4048>"
            ]
          },
          "metadata": {
            "tags": []
          },
          "execution_count": 76
        },
        {
          "output_type": "display_data",
          "data": {
            "image/png": "[encoded data removed]",
            "text/plain": [
              "<Figure size 432x288 with 1 Axes>"
            ]
          },
          "metadata": {
            "tags": [],
            "needs_background": "light"
          }
        }
      ]
    },
    {
      "cell_type": "code",
      "metadata": {
        "colab": {
          "base_uri": "https://localhost:8080/",
          "height": 568
        },
        "id": "IiAa9vb3n-2-",
        "outputId": "58cdff88-50de-459b-bcb6-14f9b3502f74"
      },
      "source": [
        "sns.pairplot(tips, hue='sex')"
      ],
      "execution_count": null,
      "outputs": [
        {
          "output_type": "execute_result",
          "data": {
            "text/plain": [
              "<seaborn.axisgrid.PairGrid at 0x7fc858c3bd68>"
            ]
          },
          "metadata": {
            "tags": []
          },
          "execution_count": 78
        },
        {
          "output_type": "display_data",
          "data": {
            "image/png": "[encoded data removed]",
            "text/plain": [
              "<Figure size 612.125x540 with 12 Axes>"
            ]
          },
          "metadata": {
            "tags": [],
            "needs_background": "light"
          }
        }
      ]
    },
    {
      "cell_type": "code",
      "metadata": {
        "colab": {
          "base_uri": "https://localhost:8080/",
          "height": 134
        },
        "id": "4dFtpQqCoLw-",
        "outputId": "a7a2d287-123a-4c89-c0d1-c73f96c47265"
      },
      "source": [
        "sns.import(x='total_bill', y='tip', data=tips, hue='sex')"
      ],
      "execution_count": null,
      "outputs": [
        {
          "output_type": "error",
          "ename": "SyntaxError",
          "evalue": "ignored",
          "traceback": [
            "\u001b[0;36m  File \u001b[0;32m\"<ipython-input-86-537ef19810e2>\"\u001b[0;36m, line \u001b[0;32m1\u001b[0m\n\u001b[0;31m    sns.import(x='total_bill', y='tip', data=tips, hue='sex')\u001b[0m\n\u001b[0m             ^\u001b[0m\n\u001b[0;31mSyntaxError\u001b[0m\u001b[0;31m:\u001b[0m invalid syntax\n"
          ]
        }
      ]
    },
    {
      "cell_type": "code",
      "metadata": {
        "colab": {
          "base_uri": "https://localhost:8080/",
          "height": 333
        },
        "id": "JkuWK79monEd",
        "outputId": "02bc7653-2278-41f3-dbf6-1fc87abb875b"
      },
      "source": [
        "facet=sns.FacetGrid(tips, col='time')\n",
        "facet.map(sns.distplot, 'total_bill')"
      ],
      "execution_count": null,
      "outputs": [
        {
          "output_type": "stream",
          "text": [
            "/usr/local/lib/python3.6/dist-packages/seaborn/distributions.py:2557: FutureWarning: `distplot` is a deprecated function and will be removed in a future version. Please adapt your code to use either `displot` (a figure-level function with similar flexibility) or `histplot` (an axes-level function for histograms).\n",
            "  warnings.warn(msg, FutureWarning)\n",
            "/usr/local/lib/python3.6/dist-packages/seaborn/distributions.py:2557: FutureWarning: `distplot` is a deprecated function and will be removed in a future version. Please adapt your code to use either `displot` (a figure-level function with similar flexibility) or `histplot` (an axes-level function for histograms).\n",
            "  warnings.warn(msg, FutureWarning)\n"
          ],
          "name": "stderr"
        },
        {
          "output_type": "execute_result",
          "data": {
            "text/plain": [
              "<seaborn.axisgrid.FacetGrid at 0x7fc8580dc828>"
            ]
          },
          "metadata": {
            "tags": []
          },
          "execution_count": 83
        },
        {
          "output_type": "display_data",
          "data": {
            "image/png": "[encoded data removed]",
            "text/plain": [
              "<Figure size 432x216 with 2 Axes>"
            ]
          },
          "metadata": {
            "tags": [],
            "needs_background": "light"
          }
        }
      ]
    },
    {
      "cell_type": "code",
      "metadata": {
        "colab": {
          "base_uri": "https://localhost:8080/",
          "height": 171
        },
        "id": "Xft3d2kso2vP",
        "outputId": "df5a9932-bf83-42fe-9799-bc360966b549"
      },
      "source": [
        "facet=sns.FacetGrid(tips, col='day', hue='sex')\n",
        "facet.map(plt.scatter, 'total_bill', 'tip')\n",
        "facet=facet.add_legend()"
      ],
      "execution_count": null,
      "outputs": [
        {
          "output_type": "display_data",
          "data": {
            "image/png": "[encoded data removed]",
            "text/plain": [
              "<Figure size 936.125x216 with 4 Axes>"
            ]
          },
          "metadata": {
            "tags": [],
            "needs_background": "light"
          }
        }
      ]
    },
    {
      "cell_type": "code",
      "metadata": {
        "colab": {
          "base_uri": "https://localhost:8080/",
          "height": 458
        },
        "id": "Bg2Pm39fpF8p",
        "outputId": "3f0081a6-7d97-464c-eefd-fff18950f00a"
      },
      "source": [
        "facet=sns.FacetGrid(tips, col='time', row='smoker', hue='sex')\n",
        "facet.map(plt.scatter, 'total_bill', 'tip')\n"
      ],
      "execution_count": null,
      "outputs": [
        {
          "output_type": "execute_result",
          "data": {
            "text/plain": [
              "<seaborn.axisgrid.FacetGrid at 0x7fc85665ec50>"
            ]
          },
          "metadata": {
            "tags": []
          },
          "execution_count": 87
        },
        {
          "output_type": "display_data",
          "data": {
            "image/png": "[encoded data removed]",
            "text/plain": [
              "<Figure size 432x432 with 4 Axes>"
            ]
          },
          "metadata": {
            "tags": [],
            "needs_background": "light"
          }
        }
      ]
    },
    {
      "cell_type": "code",
      "metadata": {
        "colab": {
          "base_uri": "https://localhost:8080/",
          "height": 698
        },
        "id": "G_6ss2TLpVQq",
        "outputId": "c53405ca-c087-420d-dd14-b01f1a5d758c"
      },
      "source": [
        "pew=pd.read_csv('pew.csv')\n",
        "pew"
      ],
      "execution_count": null,
      "outputs": [
        {
          "output_type": "execute_result",
          "data": {
            "text/html": [
              "<div>\n",
              "<style scoped>\n",
              "    .dataframe tbody tr th:only-of-type {\n",
              "        vertical-align: middle;\n",
              "    }\n",
              "\n",
              "    .dataframe tbody tr th {\n",
              "        vertical-align: top;\n",
              "    }\n",
              "\n",
              "    .dataframe thead th {\n",
              "        text-align: right;\n",
              "    }\n",
              "</style>\n",
              "<table border=\"1\" class=\"dataframe\">\n",
              "  <thead>\n",
              "    <tr style=\"text-align: right;\">\n",
              "      <th></th>\n",
              "      <th>religion</th>\n",
              "      <th>&lt;$10k</th>\n",
              "      <th>$10-20k</th>\n",
              "      <th>$20-30k</th>\n",
              "      <th>$30-40k</th>\n",
              "      <th>$40-50k</th>\n",
              "      <th>$50-75k</th>\n",
              "      <th>$75-100k</th>\n",
              "      <th>$100-150k</th>\n",
              "      <th>&gt;150k</th>\n",
              "      <th>Don't know/refused</th>\n",
              "    </tr>\n",
              "  </thead>\n",
              "  <tbody>\n",
              "    <tr>\n",
              "      <th>0</th>\n",
              "      <td>Agnostic</td>\n",
              "      <td>27</td>\n",
              "      <td>34</td>\n",
              "      <td>60</td>\n",
              "      <td>81</td>\n",
              "      <td>76</td>\n",
              "      <td>137</td>\n",
              "      <td>122</td>\n",
              "      <td>109</td>\n",
              "      <td>84</td>\n",
              "      <td>96</td>\n",
              "    </tr>\n",
              "    <tr>\n",
              "      <th>1</th>\n",
              "      <td>Atheist</td>\n",
              "      <td>12</td>\n",
              "      <td>27</td>\n",
              "      <td>37</td>\n",
              "      <td>52</td>\n",
              "      <td>35</td>\n",
              "      <td>70</td>\n",
              "      <td>73</td>\n",
              "      <td>59</td>\n",
              "      <td>74</td>\n",
              "      <td>76</td>\n",
              "    </tr>\n",
              "    <tr>\n",
              "      <th>2</th>\n",
              "      <td>Buddhist</td>\n",
              "      <td>27</td>\n",
              "      <td>21</td>\n",
              "      <td>30</td>\n",
              "      <td>34</td>\n",
              "      <td>33</td>\n",
              "      <td>58</td>\n",
              "      <td>62</td>\n",
              "      <td>39</td>\n",
              "      <td>53</td>\n",
              "      <td>54</td>\n",
              "    </tr>\n",
              "    <tr>\n",
              "      <th>3</th>\n",
              "      <td>Catholic</td>\n",
              "      <td>418</td>\n",
              "      <td>617</td>\n",
              "      <td>732</td>\n",
              "      <td>670</td>\n",
              "      <td>638</td>\n",
              "      <td>1116</td>\n",
              "      <td>949</td>\n",
              "      <td>792</td>\n",
              "      <td>633</td>\n",
              "      <td>1489</td>\n",
              "    </tr>\n",
              "    <tr>\n",
              "      <th>4</th>\n",
              "      <td>Don’t know/refused</td>\n",
              "      <td>15</td>\n",
              "      <td>14</td>\n",
              "      <td>15</td>\n",
              "      <td>11</td>\n",
              "      <td>10</td>\n",
              "      <td>35</td>\n",
              "      <td>21</td>\n",
              "      <td>17</td>\n",
              "      <td>18</td>\n",
              "      <td>116</td>\n",
              "    </tr>\n",
              "    <tr>\n",
              "      <th>5</th>\n",
              "      <td>Evangelical Prot</td>\n",
              "      <td>575</td>\n",
              "      <td>869</td>\n",
              "      <td>1064</td>\n",
              "      <td>982</td>\n",
              "      <td>881</td>\n",
              "      <td>1486</td>\n",
              "      <td>949</td>\n",
              "      <td>723</td>\n",
              "      <td>414</td>\n",
              "      <td>1529</td>\n",
              "    </tr>\n",
              "    <tr>\n",
              "      <th>6</th>\n",
              "      <td>Hindu</td>\n",
              "      <td>1</td>\n",
              "      <td>9</td>\n",
              "      <td>7</td>\n",
              "      <td>9</td>\n",
              "      <td>11</td>\n",
              "      <td>34</td>\n",
              "      <td>47</td>\n",
              "      <td>48</td>\n",
              "      <td>54</td>\n",
              "      <td>37</td>\n",
              "    </tr>\n",
              "    <tr>\n",
              "      <th>7</th>\n",
              "      <td>Historically Black Prot</td>\n",
              "      <td>228</td>\n",
              "      <td>244</td>\n",
              "      <td>236</td>\n",
              "      <td>238</td>\n",
              "      <td>197</td>\n",
              "      <td>223</td>\n",
              "      <td>131</td>\n",
              "      <td>81</td>\n",
              "      <td>78</td>\n",
              "      <td>339</td>\n",
              "    </tr>\n",
              "    <tr>\n",
              "      <th>8</th>\n",
              "      <td>Jehovah's Witness</td>\n",
              "      <td>20</td>\n",
              "      <td>27</td>\n",
              "      <td>24</td>\n",
              "      <td>24</td>\n",
              "      <td>21</td>\n",
              "      <td>30</td>\n",
              "      <td>15</td>\n",
              "      <td>11</td>\n",
              "      <td>6</td>\n",
              "      <td>37</td>\n",
              "    </tr>\n",
              "    <tr>\n",
              "      <th>9</th>\n",
              "      <td>Jewish</td>\n",
              "      <td>19</td>\n",
              "      <td>19</td>\n",
              "      <td>25</td>\n",
              "      <td>25</td>\n",
              "      <td>30</td>\n",
              "      <td>95</td>\n",
              "      <td>69</td>\n",
              "      <td>87</td>\n",
              "      <td>151</td>\n",
              "      <td>162</td>\n",
              "    </tr>\n",
              "    <tr>\n",
              "      <th>10</th>\n",
              "      <td>Mainline Prot</td>\n",
              "      <td>289</td>\n",
              "      <td>495</td>\n",
              "      <td>619</td>\n",
              "      <td>655</td>\n",
              "      <td>651</td>\n",
              "      <td>1107</td>\n",
              "      <td>939</td>\n",
              "      <td>753</td>\n",
              "      <td>634</td>\n",
              "      <td>1328</td>\n",
              "    </tr>\n",
              "    <tr>\n",
              "      <th>11</th>\n",
              "      <td>Mormon</td>\n",
              "      <td>29</td>\n",
              "      <td>40</td>\n",
              "      <td>48</td>\n",
              "      <td>51</td>\n",
              "      <td>56</td>\n",
              "      <td>112</td>\n",
              "      <td>85</td>\n",
              "      <td>49</td>\n",
              "      <td>42</td>\n",
              "      <td>69</td>\n",
              "    </tr>\n",
              "    <tr>\n",
              "      <th>12</th>\n",
              "      <td>Muslim</td>\n",
              "      <td>6</td>\n",
              "      <td>7</td>\n",
              "      <td>9</td>\n",
              "      <td>10</td>\n",
              "      <td>9</td>\n",
              "      <td>23</td>\n",
              "      <td>16</td>\n",
              "      <td>8</td>\n",
              "      <td>6</td>\n",
              "      <td>22</td>\n",
              "    </tr>\n",
              "    <tr>\n",
              "      <th>13</th>\n",
              "      <td>Orthodox</td>\n",
              "      <td>13</td>\n",
              "      <td>17</td>\n",
              "      <td>23</td>\n",
              "      <td>32</td>\n",
              "      <td>32</td>\n",
              "      <td>47</td>\n",
              "      <td>38</td>\n",
              "      <td>42</td>\n",
              "      <td>46</td>\n",
              "      <td>73</td>\n",
              "    </tr>\n",
              "    <tr>\n",
              "      <th>14</th>\n",
              "      <td>Other Christian</td>\n",
              "      <td>9</td>\n",
              "      <td>7</td>\n",
              "      <td>11</td>\n",
              "      <td>13</td>\n",
              "      <td>13</td>\n",
              "      <td>14</td>\n",
              "      <td>18</td>\n",
              "      <td>14</td>\n",
              "      <td>12</td>\n",
              "      <td>18</td>\n",
              "    </tr>\n",
              "    <tr>\n",
              "      <th>15</th>\n",
              "      <td>Other Faiths</td>\n",
              "      <td>20</td>\n",
              "      <td>33</td>\n",
              "      <td>40</td>\n",
              "      <td>46</td>\n",
              "      <td>49</td>\n",
              "      <td>63</td>\n",
              "      <td>46</td>\n",
              "      <td>40</td>\n",
              "      <td>41</td>\n",
              "      <td>71</td>\n",
              "    </tr>\n",
              "    <tr>\n",
              "      <th>16</th>\n",
              "      <td>Other World Religions</td>\n",
              "      <td>5</td>\n",
              "      <td>2</td>\n",
              "      <td>3</td>\n",
              "      <td>4</td>\n",
              "      <td>2</td>\n",
              "      <td>7</td>\n",
              "      <td>3</td>\n",
              "      <td>4</td>\n",
              "      <td>4</td>\n",
              "      <td>8</td>\n",
              "    </tr>\n",
              "    <tr>\n",
              "      <th>17</th>\n",
              "      <td>Unaffiliated</td>\n",
              "      <td>217</td>\n",
              "      <td>299</td>\n",
              "      <td>374</td>\n",
              "      <td>365</td>\n",
              "      <td>341</td>\n",
              "      <td>528</td>\n",
              "      <td>407</td>\n",
              "      <td>321</td>\n",
              "      <td>258</td>\n",
              "      <td>597</td>\n",
              "    </tr>\n",
              "  </tbody>\n",
              "</table>\n",
              "</div>"
            ],
            "text/plain": [
              "                   religion  <$10k  ...  >150k  Don't know/refused\n",
              "0                  Agnostic     27  ...     84                  96\n",
              "1                   Atheist     12  ...     74                  76\n",
              "2                  Buddhist     27  ...     53                  54\n",
              "3                  Catholic    418  ...    633                1489\n",
              "4        Don’t know/refused     15  ...     18                 116\n",
              "5          Evangelical Prot    575  ...    414                1529\n",
              "6                     Hindu      1  ...     54                  37\n",
              "7   Historically Black Prot    228  ...     78                 339\n",
              "8         Jehovah's Witness     20  ...      6                  37\n",
              "9                    Jewish     19  ...    151                 162\n",
              "10            Mainline Prot    289  ...    634                1328\n",
              "11                   Mormon     29  ...     42                  69\n",
              "12                   Muslim      6  ...      6                  22\n",
              "13                 Orthodox     13  ...     46                  73\n",
              "14          Other Christian      9  ...     12                  18\n",
              "15             Other Faiths     20  ...     41                  71\n",
              "16    Other World Religions      5  ...      4                   8\n",
              "17             Unaffiliated    217  ...    258                 597\n",
              "\n",
              "[18 rows x 11 columns]"
            ]
          },
          "metadata": {
            "tags": []
          },
          "execution_count": 88
        }
      ]
    },
    {
      "cell_type": "code",
      "metadata": {
        "colab": {
          "base_uri": "https://localhost:8080/",
          "height": 402
        },
        "id": "S99-p4G6ptGd",
        "outputId": "0c5fc9cc-4570-473a-dc55-c0b0eef4d7dd"
      },
      "source": [
        "pew_long=pd.melt(pew,id_vars='religion', var_name='income', value_name='count')\n",
        "pew_long"
      ],
      "execution_count": null,
      "outputs": [
        {
          "output_type": "execute_result",
          "data": {
            "text/html": [
              "<div>\n",
              "<style scoped>\n",
              "    .dataframe tbody tr th:only-of-type {\n",
              "        vertical-align: middle;\n",
              "    }\n",
              "\n",
              "    .dataframe tbody tr th {\n",
              "        vertical-align: top;\n",
              "    }\n",
              "\n",
              "    .dataframe thead th {\n",
              "        text-align: right;\n",
              "    }\n",
              "</style>\n",
              "<table border=\"1\" class=\"dataframe\">\n",
              "  <thead>\n",
              "    <tr style=\"text-align: right;\">\n",
              "      <th></th>\n",
              "      <th>religion</th>\n",
              "      <th>income</th>\n",
              "      <th>count</th>\n",
              "    </tr>\n",
              "  </thead>\n",
              "  <tbody>\n",
              "    <tr>\n",
              "      <th>0</th>\n",
              "      <td>Agnostic</td>\n",
              "      <td>&lt;$10k</td>\n",
              "      <td>27</td>\n",
              "    </tr>\n",
              "    <tr>\n",
              "      <th>1</th>\n",
              "      <td>Atheist</td>\n",
              "      <td>&lt;$10k</td>\n",
              "      <td>12</td>\n",
              "    </tr>\n",
              "    <tr>\n",
              "      <th>2</th>\n",
              "      <td>Buddhist</td>\n",
              "      <td>&lt;$10k</td>\n",
              "      <td>27</td>\n",
              "    </tr>\n",
              "    <tr>\n",
              "      <th>3</th>\n",
              "      <td>Catholic</td>\n",
              "      <td>&lt;$10k</td>\n",
              "      <td>418</td>\n",
              "    </tr>\n",
              "    <tr>\n",
              "      <th>4</th>\n",
              "      <td>Don’t know/refused</td>\n",
              "      <td>&lt;$10k</td>\n",
              "      <td>15</td>\n",
              "    </tr>\n",
              "    <tr>\n",
              "      <th>...</th>\n",
              "      <td>...</td>\n",
              "      <td>...</td>\n",
              "      <td>...</td>\n",
              "    </tr>\n",
              "    <tr>\n",
              "      <th>175</th>\n",
              "      <td>Orthodox</td>\n",
              "      <td>Don't know/refused</td>\n",
              "      <td>73</td>\n",
              "    </tr>\n",
              "    <tr>\n",
              "      <th>176</th>\n",
              "      <td>Other Christian</td>\n",
              "      <td>Don't know/refused</td>\n",
              "      <td>18</td>\n",
              "    </tr>\n",
              "    <tr>\n",
              "      <th>177</th>\n",
              "      <td>Other Faiths</td>\n",
              "      <td>Don't know/refused</td>\n",
              "      <td>71</td>\n",
              "    </tr>\n",
              "    <tr>\n",
              "      <th>178</th>\n",
              "      <td>Other World Religions</td>\n",
              "      <td>Don't know/refused</td>\n",
              "      <td>8</td>\n",
              "    </tr>\n",
              "    <tr>\n",
              "      <th>179</th>\n",
              "      <td>Unaffiliated</td>\n",
              "      <td>Don't know/refused</td>\n",
              "      <td>597</td>\n",
              "    </tr>\n",
              "  </tbody>\n",
              "</table>\n",
              "<p>180 rows × 3 columns</p>\n",
              "</div>"
            ],
            "text/plain": [
              "                  religion              income  count\n",
              "0                 Agnostic               <$10k     27\n",
              "1                  Atheist               <$10k     12\n",
              "2                 Buddhist               <$10k     27\n",
              "3                 Catholic               <$10k    418\n",
              "4       Don’t know/refused               <$10k     15\n",
              "..                     ...                 ...    ...\n",
              "175               Orthodox  Don't know/refused     73\n",
              "176        Other Christian  Don't know/refused     18\n",
              "177           Other Faiths  Don't know/refused     71\n",
              "178  Other World Religions  Don't know/refused      8\n",
              "179           Unaffiliated  Don't know/refused    597\n",
              "\n",
              "[180 rows x 3 columns]"
            ]
          },
          "metadata": {
            "tags": []
          },
          "execution_count": 89
        }
      ]
    },
    {
      "cell_type": "code",
      "metadata": {
        "colab": {
          "base_uri": "https://localhost:8080/",
          "height": 657
        },
        "id": "yhvSmn52rSgd",
        "outputId": "9a3ca4c6-9120-4142-8f5d-d1426a917498"
      },
      "source": [
        "billboard=pd.read_csv('billboard.csv')\n",
        "billboard"
      ],
      "execution_count": null,
      "outputs": [
        {
          "output_type": "execute_result",
          "data": {
            "text/html": [
              "<div>\n",
              "<style scoped>\n",
              "    .dataframe tbody tr th:only-of-type {\n",
              "        vertical-align: middle;\n",
              "    }\n",
              "\n",
              "    .dataframe tbody tr th {\n",
              "        vertical-align: top;\n",
              "    }\n",
              "\n",
              "    .dataframe thead th {\n",
              "        text-align: right;\n",
              "    }\n",
              "</style>\n",
              "<table border=\"1\" class=\"dataframe\">\n",
              "  <thead>\n",
              "    <tr style=\"text-align: right;\">\n",
              "      <th></th>\n",
              "      <th>year</th>\n",
              "      <th>artist</th>\n",
              "      <th>track</th>\n",
              "      <th>time</th>\n",
              "      <th>date.entered</th>\n",
              "      <th>wk1</th>\n",
              "      <th>wk2</th>\n",
              "      <th>wk3</th>\n",
              "      <th>wk4</th>\n",
              "      <th>wk5</th>\n",
              "      <th>wk6</th>\n",
              "      <th>wk7</th>\n",
              "      <th>wk8</th>\n",
              "      <th>wk9</th>\n",
              "      <th>wk10</th>\n",
              "      <th>wk11</th>\n",
              "      <th>wk12</th>\n",
              "      <th>wk13</th>\n",
              "      <th>wk14</th>\n",
              "      <th>wk15</th>\n",
              "      <th>wk16</th>\n",
              "      <th>wk17</th>\n",
              "      <th>wk18</th>\n",
              "      <th>wk19</th>\n",
              "      <th>wk20</th>\n",
              "      <th>wk21</th>\n",
              "      <th>wk22</th>\n",
              "      <th>wk23</th>\n",
              "      <th>wk24</th>\n",
              "      <th>wk25</th>\n",
              "      <th>wk26</th>\n",
              "      <th>wk27</th>\n",
              "      <th>wk28</th>\n",
              "      <th>wk29</th>\n",
              "      <th>wk30</th>\n",
              "      <th>wk31</th>\n",
              "      <th>wk32</th>\n",
              "      <th>wk33</th>\n",
              "      <th>wk34</th>\n",
              "      <th>wk35</th>\n",
              "      <th>...</th>\n",
              "      <th>wk37</th>\n",
              "      <th>wk38</th>\n",
              "      <th>wk39</th>\n",
              "      <th>wk40</th>\n",
              "      <th>wk41</th>\n",
              "      <th>wk42</th>\n",
              "      <th>wk43</th>\n",
              "      <th>wk44</th>\n",
              "      <th>wk45</th>\n",
              "      <th>wk46</th>\n",
              "      <th>wk47</th>\n",
              "      <th>wk48</th>\n",
              "      <th>wk49</th>\n",
              "      <th>wk50</th>\n",
              "      <th>wk51</th>\n",
              "      <th>wk52</th>\n",
              "      <th>wk53</th>\n",
              "      <th>wk54</th>\n",
              "      <th>wk55</th>\n",
              "      <th>wk56</th>\n",
              "      <th>wk57</th>\n",
              "      <th>wk58</th>\n",
              "      <th>wk59</th>\n",
              "      <th>wk60</th>\n",
              "      <th>wk61</th>\n",
              "      <th>wk62</th>\n",
              "      <th>wk63</th>\n",
              "      <th>wk64</th>\n",
              "      <th>wk65</th>\n",
              "      <th>wk66</th>\n",
              "      <th>wk67</th>\n",
              "      <th>wk68</th>\n",
              "      <th>wk69</th>\n",
              "      <th>wk70</th>\n",
              "      <th>wk71</th>\n",
              "      <th>wk72</th>\n",
              "      <th>wk73</th>\n",
              "      <th>wk74</th>\n",
              "      <th>wk75</th>\n",
              "      <th>wk76</th>\n",
              "    </tr>\n",
              "  </thead>\n",
              "  <tbody>\n",
              "    <tr>\n",
              "      <th>0</th>\n",
              "      <td>2000</td>\n",
              "      <td>2 Pac</td>\n",
              "      <td>Baby Don't Cry (Keep...</td>\n",
              "      <td>4:22</td>\n",
              "      <td>2000-02-26</td>\n",
              "      <td>87</td>\n",
              "      <td>82.0</td>\n",
              "      <td>72.0</td>\n",
              "      <td>77.0</td>\n",
              "      <td>87.0</td>\n",
              "      <td>94.0</td>\n",
              "      <td>99.0</td>\n",
              "      <td>NaN</td>\n",
              "      <td>NaN</td>\n",
              "      <td>NaN</td>\n",
              "      <td>NaN</td>\n",
              "      <td>NaN</td>\n",
              "      <td>NaN</td>\n",
              "      <td>NaN</td>\n",
              "      <td>NaN</td>\n",
              "      <td>NaN</td>\n",
              "      <td>NaN</td>\n",
              "      <td>NaN</td>\n",
              "      <td>NaN</td>\n",
              "      <td>NaN</td>\n",
              "      <td>NaN</td>\n",
              "      <td>NaN</td>\n",
              "      <td>NaN</td>\n",
              "      <td>NaN</td>\n",
              "      <td>NaN</td>\n",
              "      <td>NaN</td>\n",
              "      <td>NaN</td>\n",
              "      <td>NaN</td>\n",
              "      <td>NaN</td>\n",
              "      <td>NaN</td>\n",
              "      <td>NaN</td>\n",
              "      <td>NaN</td>\n",
              "      <td>NaN</td>\n",
              "      <td>NaN</td>\n",
              "      <td>NaN</td>\n",
              "      <td>...</td>\n",
              "      <td>NaN</td>\n",
              "      <td>NaN</td>\n",
              "      <td>NaN</td>\n",
              "      <td>NaN</td>\n",
              "      <td>NaN</td>\n",
              "      <td>NaN</td>\n",
              "      <td>NaN</td>\n",
              "      <td>NaN</td>\n",
              "      <td>NaN</td>\n",
              "      <td>NaN</td>\n",
              "      <td>NaN</td>\n",
              "      <td>NaN</td>\n",
              "      <td>NaN</td>\n",
              "      <td>NaN</td>\n",
              "      <td>NaN</td>\n",
              "      <td>NaN</td>\n",
              "      <td>NaN</td>\n",
              "      <td>NaN</td>\n",
              "      <td>NaN</td>\n",
              "      <td>NaN</td>\n",
              "      <td>NaN</td>\n",
              "      <td>NaN</td>\n",
              "      <td>NaN</td>\n",
              "      <td>NaN</td>\n",
              "      <td>NaN</td>\n",
              "      <td>NaN</td>\n",
              "      <td>NaN</td>\n",
              "      <td>NaN</td>\n",
              "      <td>NaN</td>\n",
              "      <td>NaN</td>\n",
              "      <td>NaN</td>\n",
              "      <td>NaN</td>\n",
              "      <td>NaN</td>\n",
              "      <td>NaN</td>\n",
              "      <td>NaN</td>\n",
              "      <td>NaN</td>\n",
              "      <td>NaN</td>\n",
              "      <td>NaN</td>\n",
              "      <td>NaN</td>\n",
              "      <td>NaN</td>\n",
              "    </tr>\n",
              "    <tr>\n",
              "      <th>1</th>\n",
              "      <td>2000</td>\n",
              "      <td>2Ge+her</td>\n",
              "      <td>The Hardest Part Of ...</td>\n",
              "      <td>3:15</td>\n",
              "      <td>2000-09-02</td>\n",
              "      <td>91</td>\n",
              "      <td>87.0</td>\n",
              "      <td>92.0</td>\n",
              "      <td>NaN</td>\n",
              "      <td>NaN</td>\n",
              "      <td>NaN</td>\n",
              "      <td>NaN</td>\n",
              "      <td>NaN</td>\n",
              "      <td>NaN</td>\n",
              "      <td>NaN</td>\n",
              "      <td>NaN</td>\n",
              "      <td>NaN</td>\n",
              "      <td>NaN</td>\n",
              "      <td>NaN</td>\n",
              "      <td>NaN</td>\n",
              "      <td>NaN</td>\n",
              "      <td>NaN</td>\n",
              "      <td>NaN</td>\n",
              "      <td>NaN</td>\n",
              "      <td>NaN</td>\n",
              "      <td>NaN</td>\n",
              "      <td>NaN</td>\n",
              "      <td>NaN</td>\n",
              "      <td>NaN</td>\n",
              "      <td>NaN</td>\n",
              "      <td>NaN</td>\n",
              "      <td>NaN</td>\n",
              "      <td>NaN</td>\n",
              "      <td>NaN</td>\n",
              "      <td>NaN</td>\n",
              "      <td>NaN</td>\n",
              "      <td>NaN</td>\n",
              "      <td>NaN</td>\n",
              "      <td>NaN</td>\n",
              "      <td>NaN</td>\n",
              "      <td>...</td>\n",
              "      <td>NaN</td>\n",
              "      <td>NaN</td>\n",
              "      <td>NaN</td>\n",
              "      <td>NaN</td>\n",
              "      <td>NaN</td>\n",
              "      <td>NaN</td>\n",
              "      <td>NaN</td>\n",
              "      <td>NaN</td>\n",
              "      <td>NaN</td>\n",
              "      <td>NaN</td>\n",
              "      <td>NaN</td>\n",
              "      <td>NaN</td>\n",
              "      <td>NaN</td>\n",
              "      <td>NaN</td>\n",
              "      <td>NaN</td>\n",
              "      <td>NaN</td>\n",
              "      <td>NaN</td>\n",
              "      <td>NaN</td>\n",
              "      <td>NaN</td>\n",
              "      <td>NaN</td>\n",
              "      <td>NaN</td>\n",
              "      <td>NaN</td>\n",
              "      <td>NaN</td>\n",
              "      <td>NaN</td>\n",
              "      <td>NaN</td>\n",
              "      <td>NaN</td>\n",
              "      <td>NaN</td>\n",
              "      <td>NaN</td>\n",
              "      <td>NaN</td>\n",
              "      <td>NaN</td>\n",
              "      <td>NaN</td>\n",
              "      <td>NaN</td>\n",
              "      <td>NaN</td>\n",
              "      <td>NaN</td>\n",
              "      <td>NaN</td>\n",
              "      <td>NaN</td>\n",
              "      <td>NaN</td>\n",
              "      <td>NaN</td>\n",
              "      <td>NaN</td>\n",
              "      <td>NaN</td>\n",
              "    </tr>\n",
              "    <tr>\n",
              "      <th>2</th>\n",
              "      <td>2000</td>\n",
              "      <td>3 Doors Down</td>\n",
              "      <td>Kryptonite</td>\n",
              "      <td>3:53</td>\n",
              "      <td>2000-04-08</td>\n",
              "      <td>81</td>\n",
              "      <td>70.0</td>\n",
              "      <td>68.0</td>\n",
              "      <td>67.0</td>\n",
              "      <td>66.0</td>\n",
              "      <td>57.0</td>\n",
              "      <td>54.0</td>\n",
              "      <td>53.0</td>\n",
              "      <td>51.0</td>\n",
              "      <td>51.0</td>\n",
              "      <td>51.0</td>\n",
              "      <td>51.0</td>\n",
              "      <td>47.0</td>\n",
              "      <td>44.0</td>\n",
              "      <td>38.0</td>\n",
              "      <td>28.0</td>\n",
              "      <td>22.0</td>\n",
              "      <td>18.0</td>\n",
              "      <td>18.0</td>\n",
              "      <td>14.0</td>\n",
              "      <td>12.0</td>\n",
              "      <td>7.0</td>\n",
              "      <td>6.0</td>\n",
              "      <td>6.0</td>\n",
              "      <td>6.0</td>\n",
              "      <td>5.0</td>\n",
              "      <td>5.0</td>\n",
              "      <td>4.0</td>\n",
              "      <td>4.0</td>\n",
              "      <td>4.0</td>\n",
              "      <td>4.0</td>\n",
              "      <td>3.0</td>\n",
              "      <td>3.0</td>\n",
              "      <td>3.0</td>\n",
              "      <td>4.0</td>\n",
              "      <td>...</td>\n",
              "      <td>5.0</td>\n",
              "      <td>9.0</td>\n",
              "      <td>9.0</td>\n",
              "      <td>15.0</td>\n",
              "      <td>14.0</td>\n",
              "      <td>13.0</td>\n",
              "      <td>14.0</td>\n",
              "      <td>16.0</td>\n",
              "      <td>17.0</td>\n",
              "      <td>21.0</td>\n",
              "      <td>22.0</td>\n",
              "      <td>24.0</td>\n",
              "      <td>28.0</td>\n",
              "      <td>33.0</td>\n",
              "      <td>42.0</td>\n",
              "      <td>42.0</td>\n",
              "      <td>49.0</td>\n",
              "      <td>NaN</td>\n",
              "      <td>NaN</td>\n",
              "      <td>NaN</td>\n",
              "      <td>NaN</td>\n",
              "      <td>NaN</td>\n",
              "      <td>NaN</td>\n",
              "      <td>NaN</td>\n",
              "      <td>NaN</td>\n",
              "      <td>NaN</td>\n",
              "      <td>NaN</td>\n",
              "      <td>NaN</td>\n",
              "      <td>NaN</td>\n",
              "      <td>NaN</td>\n",
              "      <td>NaN</td>\n",
              "      <td>NaN</td>\n",
              "      <td>NaN</td>\n",
              "      <td>NaN</td>\n",
              "      <td>NaN</td>\n",
              "      <td>NaN</td>\n",
              "      <td>NaN</td>\n",
              "      <td>NaN</td>\n",
              "      <td>NaN</td>\n",
              "      <td>NaN</td>\n",
              "    </tr>\n",
              "    <tr>\n",
              "      <th>3</th>\n",
              "      <td>2000</td>\n",
              "      <td>3 Doors Down</td>\n",
              "      <td>Loser</td>\n",
              "      <td>4:24</td>\n",
              "      <td>2000-10-21</td>\n",
              "      <td>76</td>\n",
              "      <td>76.0</td>\n",
              "      <td>72.0</td>\n",
              "      <td>69.0</td>\n",
              "      <td>67.0</td>\n",
              "      <td>65.0</td>\n",
              "      <td>55.0</td>\n",
              "      <td>59.0</td>\n",
              "      <td>62.0</td>\n",
              "      <td>61.0</td>\n",
              "      <td>61.0</td>\n",
              "      <td>59.0</td>\n",
              "      <td>61.0</td>\n",
              "      <td>66.0</td>\n",
              "      <td>72.0</td>\n",
              "      <td>76.0</td>\n",
              "      <td>75.0</td>\n",
              "      <td>67.0</td>\n",
              "      <td>73.0</td>\n",
              "      <td>70.0</td>\n",
              "      <td>NaN</td>\n",
              "      <td>NaN</td>\n",
              "      <td>NaN</td>\n",
              "      <td>NaN</td>\n",
              "      <td>NaN</td>\n",
              "      <td>NaN</td>\n",
              "      <td>NaN</td>\n",
              "      <td>NaN</td>\n",
              "      <td>NaN</td>\n",
              "      <td>NaN</td>\n",
              "      <td>NaN</td>\n",
              "      <td>NaN</td>\n",
              "      <td>NaN</td>\n",
              "      <td>NaN</td>\n",
              "      <td>NaN</td>\n",
              "      <td>...</td>\n",
              "      <td>NaN</td>\n",
              "      <td>NaN</td>\n",
              "      <td>NaN</td>\n",
              "      <td>NaN</td>\n",
              "      <td>NaN</td>\n",
              "      <td>NaN</td>\n",
              "      <td>NaN</td>\n",
              "      <td>NaN</td>\n",
              "      <td>NaN</td>\n",
              "      <td>NaN</td>\n",
              "      <td>NaN</td>\n",
              "      <td>NaN</td>\n",
              "      <td>NaN</td>\n",
              "      <td>NaN</td>\n",
              "      <td>NaN</td>\n",
              "      <td>NaN</td>\n",
              "      <td>NaN</td>\n",
              "      <td>NaN</td>\n",
              "      <td>NaN</td>\n",
              "      <td>NaN</td>\n",
              "      <td>NaN</td>\n",
              "      <td>NaN</td>\n",
              "      <td>NaN</td>\n",
              "      <td>NaN</td>\n",
              "      <td>NaN</td>\n",
              "      <td>NaN</td>\n",
              "      <td>NaN</td>\n",
              "      <td>NaN</td>\n",
              "      <td>NaN</td>\n",
              "      <td>NaN</td>\n",
              "      <td>NaN</td>\n",
              "      <td>NaN</td>\n",
              "      <td>NaN</td>\n",
              "      <td>NaN</td>\n",
              "      <td>NaN</td>\n",
              "      <td>NaN</td>\n",
              "      <td>NaN</td>\n",
              "      <td>NaN</td>\n",
              "      <td>NaN</td>\n",
              "      <td>NaN</td>\n",
              "    </tr>\n",
              "    <tr>\n",
              "      <th>4</th>\n",
              "      <td>2000</td>\n",
              "      <td>504 Boyz</td>\n",
              "      <td>Wobble Wobble</td>\n",
              "      <td>3:35</td>\n",
              "      <td>2000-04-15</td>\n",
              "      <td>57</td>\n",
              "      <td>34.0</td>\n",
              "      <td>25.0</td>\n",
              "      <td>17.0</td>\n",
              "      <td>17.0</td>\n",
              "      <td>31.0</td>\n",
              "      <td>36.0</td>\n",
              "      <td>49.0</td>\n",
              "      <td>53.0</td>\n",
              "      <td>57.0</td>\n",
              "      <td>64.0</td>\n",
              "      <td>70.0</td>\n",
              "      <td>75.0</td>\n",
              "      <td>76.0</td>\n",
              "      <td>78.0</td>\n",
              "      <td>85.0</td>\n",
              "      <td>92.0</td>\n",
              "      <td>96.0</td>\n",
              "      <td>NaN</td>\n",
              "      <td>NaN</td>\n",
              "      <td>NaN</td>\n",
              "      <td>NaN</td>\n",
              "      <td>NaN</td>\n",
              "      <td>NaN</td>\n",
              "      <td>NaN</td>\n",
              "      <td>NaN</td>\n",
              "      <td>NaN</td>\n",
              "      <td>NaN</td>\n",
              "      <td>NaN</td>\n",
              "      <td>NaN</td>\n",
              "      <td>NaN</td>\n",
              "      <td>NaN</td>\n",
              "      <td>NaN</td>\n",
              "      <td>NaN</td>\n",
              "      <td>NaN</td>\n",
              "      <td>...</td>\n",
              "      <td>NaN</td>\n",
              "      <td>NaN</td>\n",
              "      <td>NaN</td>\n",
              "      <td>NaN</td>\n",
              "      <td>NaN</td>\n",
              "      <td>NaN</td>\n",
              "      <td>NaN</td>\n",
              "      <td>NaN</td>\n",
              "      <td>NaN</td>\n",
              "      <td>NaN</td>\n",
              "      <td>NaN</td>\n",
              "      <td>NaN</td>\n",
              "      <td>NaN</td>\n",
              "      <td>NaN</td>\n",
              "      <td>NaN</td>\n",
              "      <td>NaN</td>\n",
              "      <td>NaN</td>\n",
              "      <td>NaN</td>\n",
              "      <td>NaN</td>\n",
              "      <td>NaN</td>\n",
              "      <td>NaN</td>\n",
              "      <td>NaN</td>\n",
              "      <td>NaN</td>\n",
              "      <td>NaN</td>\n",
              "      <td>NaN</td>\n",
              "      <td>NaN</td>\n",
              "      <td>NaN</td>\n",
              "      <td>NaN</td>\n",
              "      <td>NaN</td>\n",
              "      <td>NaN</td>\n",
              "      <td>NaN</td>\n",
              "      <td>NaN</td>\n",
              "      <td>NaN</td>\n",
              "      <td>NaN</td>\n",
              "      <td>NaN</td>\n",
              "      <td>NaN</td>\n",
              "      <td>NaN</td>\n",
              "      <td>NaN</td>\n",
              "      <td>NaN</td>\n",
              "      <td>NaN</td>\n",
              "    </tr>\n",
              "    <tr>\n",
              "      <th>...</th>\n",
              "      <td>...</td>\n",
              "      <td>...</td>\n",
              "      <td>...</td>\n",
              "      <td>...</td>\n",
              "      <td>...</td>\n",
              "      <td>...</td>\n",
              "      <td>...</td>\n",
              "      <td>...</td>\n",
              "      <td>...</td>\n",
              "      <td>...</td>\n",
              "      <td>...</td>\n",
              "      <td>...</td>\n",
              "      <td>...</td>\n",
              "      <td>...</td>\n",
              "      <td>...</td>\n",
              "      <td>...</td>\n",
              "      <td>...</td>\n",
              "      <td>...</td>\n",
              "      <td>...</td>\n",
              "      <td>...</td>\n",
              "      <td>...</td>\n",
              "      <td>...</td>\n",
              "      <td>...</td>\n",
              "      <td>...</td>\n",
              "      <td>...</td>\n",
              "      <td>...</td>\n",
              "      <td>...</td>\n",
              "      <td>...</td>\n",
              "      <td>...</td>\n",
              "      <td>...</td>\n",
              "      <td>...</td>\n",
              "      <td>...</td>\n",
              "      <td>...</td>\n",
              "      <td>...</td>\n",
              "      <td>...</td>\n",
              "      <td>...</td>\n",
              "      <td>...</td>\n",
              "      <td>...</td>\n",
              "      <td>...</td>\n",
              "      <td>...</td>\n",
              "      <td>...</td>\n",
              "      <td>...</td>\n",
              "      <td>...</td>\n",
              "      <td>...</td>\n",
              "      <td>...</td>\n",
              "      <td>...</td>\n",
              "      <td>...</td>\n",
              "      <td>...</td>\n",
              "      <td>...</td>\n",
              "      <td>...</td>\n",
              "      <td>...</td>\n",
              "      <td>...</td>\n",
              "      <td>...</td>\n",
              "      <td>...</td>\n",
              "      <td>...</td>\n",
              "      <td>...</td>\n",
              "      <td>...</td>\n",
              "      <td>...</td>\n",
              "      <td>...</td>\n",
              "      <td>...</td>\n",
              "      <td>...</td>\n",
              "      <td>...</td>\n",
              "      <td>...</td>\n",
              "      <td>...</td>\n",
              "      <td>...</td>\n",
              "      <td>...</td>\n",
              "      <td>...</td>\n",
              "      <td>...</td>\n",
              "      <td>...</td>\n",
              "      <td>...</td>\n",
              "      <td>...</td>\n",
              "      <td>...</td>\n",
              "      <td>...</td>\n",
              "      <td>...</td>\n",
              "      <td>...</td>\n",
              "      <td>...</td>\n",
              "      <td>...</td>\n",
              "      <td>...</td>\n",
              "      <td>...</td>\n",
              "      <td>...</td>\n",
              "      <td>...</td>\n",
              "    </tr>\n",
              "    <tr>\n",
              "      <th>312</th>\n",
              "      <td>2000</td>\n",
              "      <td>Yankee Grey</td>\n",
              "      <td>Another Nine Minutes</td>\n",
              "      <td>3:10</td>\n",
              "      <td>2000-04-29</td>\n",
              "      <td>86</td>\n",
              "      <td>83.0</td>\n",
              "      <td>77.0</td>\n",
              "      <td>74.0</td>\n",
              "      <td>83.0</td>\n",
              "      <td>79.0</td>\n",
              "      <td>88.0</td>\n",
              "      <td>95.0</td>\n",
              "      <td>NaN</td>\n",
              "      <td>NaN</td>\n",
              "      <td>NaN</td>\n",
              "      <td>NaN</td>\n",
              "      <td>NaN</td>\n",
              "      <td>NaN</td>\n",
              "      <td>NaN</td>\n",
              "      <td>NaN</td>\n",
              "      <td>NaN</td>\n",
              "      <td>NaN</td>\n",
              "      <td>NaN</td>\n",
              "      <td>NaN</td>\n",
              "      <td>NaN</td>\n",
              "      <td>NaN</td>\n",
              "      <td>NaN</td>\n",
              "      <td>NaN</td>\n",
              "      <td>NaN</td>\n",
              "      <td>NaN</td>\n",
              "      <td>NaN</td>\n",
              "      <td>NaN</td>\n",
              "      <td>NaN</td>\n",
              "      <td>NaN</td>\n",
              "      <td>NaN</td>\n",
              "      <td>NaN</td>\n",
              "      <td>NaN</td>\n",
              "      <td>NaN</td>\n",
              "      <td>NaN</td>\n",
              "      <td>...</td>\n",
              "      <td>NaN</td>\n",
              "      <td>NaN</td>\n",
              "      <td>NaN</td>\n",
              "      <td>NaN</td>\n",
              "      <td>NaN</td>\n",
              "      <td>NaN</td>\n",
              "      <td>NaN</td>\n",
              "      <td>NaN</td>\n",
              "      <td>NaN</td>\n",
              "      <td>NaN</td>\n",
              "      <td>NaN</td>\n",
              "      <td>NaN</td>\n",
              "      <td>NaN</td>\n",
              "      <td>NaN</td>\n",
              "      <td>NaN</td>\n",
              "      <td>NaN</td>\n",
              "      <td>NaN</td>\n",
              "      <td>NaN</td>\n",
              "      <td>NaN</td>\n",
              "      <td>NaN</td>\n",
              "      <td>NaN</td>\n",
              "      <td>NaN</td>\n",
              "      <td>NaN</td>\n",
              "      <td>NaN</td>\n",
              "      <td>NaN</td>\n",
              "      <td>NaN</td>\n",
              "      <td>NaN</td>\n",
              "      <td>NaN</td>\n",
              "      <td>NaN</td>\n",
              "      <td>NaN</td>\n",
              "      <td>NaN</td>\n",
              "      <td>NaN</td>\n",
              "      <td>NaN</td>\n",
              "      <td>NaN</td>\n",
              "      <td>NaN</td>\n",
              "      <td>NaN</td>\n",
              "      <td>NaN</td>\n",
              "      <td>NaN</td>\n",
              "      <td>NaN</td>\n",
              "      <td>NaN</td>\n",
              "    </tr>\n",
              "    <tr>\n",
              "      <th>313</th>\n",
              "      <td>2000</td>\n",
              "      <td>Yearwood, Trisha</td>\n",
              "      <td>Real Live Woman</td>\n",
              "      <td>3:55</td>\n",
              "      <td>2000-04-01</td>\n",
              "      <td>85</td>\n",
              "      <td>83.0</td>\n",
              "      <td>83.0</td>\n",
              "      <td>82.0</td>\n",
              "      <td>81.0</td>\n",
              "      <td>91.0</td>\n",
              "      <td>NaN</td>\n",
              "      <td>NaN</td>\n",
              "      <td>NaN</td>\n",
              "      <td>NaN</td>\n",
              "      <td>NaN</td>\n",
              "      <td>NaN</td>\n",
              "      <td>NaN</td>\n",
              "      <td>NaN</td>\n",
              "      <td>NaN</td>\n",
              "      <td>NaN</td>\n",
              "      <td>NaN</td>\n",
              "      <td>NaN</td>\n",
              "      <td>NaN</td>\n",
              "      <td>NaN</td>\n",
              "      <td>NaN</td>\n",
              "      <td>NaN</td>\n",
              "      <td>NaN</td>\n",
              "      <td>NaN</td>\n",
              "      <td>NaN</td>\n",
              "      <td>NaN</td>\n",
              "      <td>NaN</td>\n",
              "      <td>NaN</td>\n",
              "      <td>NaN</td>\n",
              "      <td>NaN</td>\n",
              "      <td>NaN</td>\n",
              "      <td>NaN</td>\n",
              "      <td>NaN</td>\n",
              "      <td>NaN</td>\n",
              "      <td>NaN</td>\n",
              "      <td>...</td>\n",
              "      <td>NaN</td>\n",
              "      <td>NaN</td>\n",
              "      <td>NaN</td>\n",
              "      <td>NaN</td>\n",
              "      <td>NaN</td>\n",
              "      <td>NaN</td>\n",
              "      <td>NaN</td>\n",
              "      <td>NaN</td>\n",
              "      <td>NaN</td>\n",
              "      <td>NaN</td>\n",
              "      <td>NaN</td>\n",
              "      <td>NaN</td>\n",
              "      <td>NaN</td>\n",
              "      <td>NaN</td>\n",
              "      <td>NaN</td>\n",
              "      <td>NaN</td>\n",
              "      <td>NaN</td>\n",
              "      <td>NaN</td>\n",
              "      <td>NaN</td>\n",
              "      <td>NaN</td>\n",
              "      <td>NaN</td>\n",
              "      <td>NaN</td>\n",
              "      <td>NaN</td>\n",
              "      <td>NaN</td>\n",
              "      <td>NaN</td>\n",
              "      <td>NaN</td>\n",
              "      <td>NaN</td>\n",
              "      <td>NaN</td>\n",
              "      <td>NaN</td>\n",
              "      <td>NaN</td>\n",
              "      <td>NaN</td>\n",
              "      <td>NaN</td>\n",
              "      <td>NaN</td>\n",
              "      <td>NaN</td>\n",
              "      <td>NaN</td>\n",
              "      <td>NaN</td>\n",
              "      <td>NaN</td>\n",
              "      <td>NaN</td>\n",
              "      <td>NaN</td>\n",
              "      <td>NaN</td>\n",
              "    </tr>\n",
              "    <tr>\n",
              "      <th>314</th>\n",
              "      <td>2000</td>\n",
              "      <td>Ying Yang Twins</td>\n",
              "      <td>Whistle While You Tw...</td>\n",
              "      <td>4:19</td>\n",
              "      <td>2000-03-18</td>\n",
              "      <td>95</td>\n",
              "      <td>94.0</td>\n",
              "      <td>91.0</td>\n",
              "      <td>85.0</td>\n",
              "      <td>84.0</td>\n",
              "      <td>78.0</td>\n",
              "      <td>74.0</td>\n",
              "      <td>78.0</td>\n",
              "      <td>85.0</td>\n",
              "      <td>89.0</td>\n",
              "      <td>97.0</td>\n",
              "      <td>96.0</td>\n",
              "      <td>99.0</td>\n",
              "      <td>99.0</td>\n",
              "      <td>NaN</td>\n",
              "      <td>NaN</td>\n",
              "      <td>NaN</td>\n",
              "      <td>NaN</td>\n",
              "      <td>NaN</td>\n",
              "      <td>NaN</td>\n",
              "      <td>NaN</td>\n",
              "      <td>NaN</td>\n",
              "      <td>NaN</td>\n",
              "      <td>NaN</td>\n",
              "      <td>NaN</td>\n",
              "      <td>NaN</td>\n",
              "      <td>NaN</td>\n",
              "      <td>NaN</td>\n",
              "      <td>NaN</td>\n",
              "      <td>NaN</td>\n",
              "      <td>NaN</td>\n",
              "      <td>NaN</td>\n",
              "      <td>NaN</td>\n",
              "      <td>NaN</td>\n",
              "      <td>NaN</td>\n",
              "      <td>...</td>\n",
              "      <td>NaN</td>\n",
              "      <td>NaN</td>\n",
              "      <td>NaN</td>\n",
              "      <td>NaN</td>\n",
              "      <td>NaN</td>\n",
              "      <td>NaN</td>\n",
              "      <td>NaN</td>\n",
              "      <td>NaN</td>\n",
              "      <td>NaN</td>\n",
              "      <td>NaN</td>\n",
              "      <td>NaN</td>\n",
              "      <td>NaN</td>\n",
              "      <td>NaN</td>\n",
              "      <td>NaN</td>\n",
              "      <td>NaN</td>\n",
              "      <td>NaN</td>\n",
              "      <td>NaN</td>\n",
              "      <td>NaN</td>\n",
              "      <td>NaN</td>\n",
              "      <td>NaN</td>\n",
              "      <td>NaN</td>\n",
              "      <td>NaN</td>\n",
              "      <td>NaN</td>\n",
              "      <td>NaN</td>\n",
              "      <td>NaN</td>\n",
              "      <td>NaN</td>\n",
              "      <td>NaN</td>\n",
              "      <td>NaN</td>\n",
              "      <td>NaN</td>\n",
              "      <td>NaN</td>\n",
              "      <td>NaN</td>\n",
              "      <td>NaN</td>\n",
              "      <td>NaN</td>\n",
              "      <td>NaN</td>\n",
              "      <td>NaN</td>\n",
              "      <td>NaN</td>\n",
              "      <td>NaN</td>\n",
              "      <td>NaN</td>\n",
              "      <td>NaN</td>\n",
              "      <td>NaN</td>\n",
              "    </tr>\n",
              "    <tr>\n",
              "      <th>315</th>\n",
              "      <td>2000</td>\n",
              "      <td>Zombie Nation</td>\n",
              "      <td>Kernkraft 400</td>\n",
              "      <td>3:30</td>\n",
              "      <td>2000-09-02</td>\n",
              "      <td>99</td>\n",
              "      <td>99.0</td>\n",
              "      <td>NaN</td>\n",
              "      <td>NaN</td>\n",
              "      <td>NaN</td>\n",
              "      <td>NaN</td>\n",
              "      <td>NaN</td>\n",
              "      <td>NaN</td>\n",
              "      <td>NaN</td>\n",
              "      <td>NaN</td>\n",
              "      <td>NaN</td>\n",
              "      <td>NaN</td>\n",
              "      <td>NaN</td>\n",
              "      <td>NaN</td>\n",
              "      <td>NaN</td>\n",
              "      <td>NaN</td>\n",
              "      <td>NaN</td>\n",
              "      <td>NaN</td>\n",
              "      <td>NaN</td>\n",
              "      <td>NaN</td>\n",
              "      <td>NaN</td>\n",
              "      <td>NaN</td>\n",
              "      <td>NaN</td>\n",
              "      <td>NaN</td>\n",
              "      <td>NaN</td>\n",
              "      <td>NaN</td>\n",
              "      <td>NaN</td>\n",
              "      <td>NaN</td>\n",
              "      <td>NaN</td>\n",
              "      <td>NaN</td>\n",
              "      <td>NaN</td>\n",
              "      <td>NaN</td>\n",
              "      <td>NaN</td>\n",
              "      <td>NaN</td>\n",
              "      <td>NaN</td>\n",
              "      <td>...</td>\n",
              "      <td>NaN</td>\n",
              "      <td>NaN</td>\n",
              "      <td>NaN</td>\n",
              "      <td>NaN</td>\n",
              "      <td>NaN</td>\n",
              "      <td>NaN</td>\n",
              "      <td>NaN</td>\n",
              "      <td>NaN</td>\n",
              "      <td>NaN</td>\n",
              "      <td>NaN</td>\n",
              "      <td>NaN</td>\n",
              "      <td>NaN</td>\n",
              "      <td>NaN</td>\n",
              "      <td>NaN</td>\n",
              "      <td>NaN</td>\n",
              "      <td>NaN</td>\n",
              "      <td>NaN</td>\n",
              "      <td>NaN</td>\n",
              "      <td>NaN</td>\n",
              "      <td>NaN</td>\n",
              "      <td>NaN</td>\n",
              "      <td>NaN</td>\n",
              "      <td>NaN</td>\n",
              "      <td>NaN</td>\n",
              "      <td>NaN</td>\n",
              "      <td>NaN</td>\n",
              "      <td>NaN</td>\n",
              "      <td>NaN</td>\n",
              "      <td>NaN</td>\n",
              "      <td>NaN</td>\n",
              "      <td>NaN</td>\n",
              "      <td>NaN</td>\n",
              "      <td>NaN</td>\n",
              "      <td>NaN</td>\n",
              "      <td>NaN</td>\n",
              "      <td>NaN</td>\n",
              "      <td>NaN</td>\n",
              "      <td>NaN</td>\n",
              "      <td>NaN</td>\n",
              "      <td>NaN</td>\n",
              "    </tr>\n",
              "    <tr>\n",
              "      <th>316</th>\n",
              "      <td>2000</td>\n",
              "      <td>matchbox twenty</td>\n",
              "      <td>Bent</td>\n",
              "      <td>4:12</td>\n",
              "      <td>2000-04-29</td>\n",
              "      <td>60</td>\n",
              "      <td>37.0</td>\n",
              "      <td>29.0</td>\n",
              "      <td>24.0</td>\n",
              "      <td>22.0</td>\n",
              "      <td>21.0</td>\n",
              "      <td>18.0</td>\n",
              "      <td>16.0</td>\n",
              "      <td>13.0</td>\n",
              "      <td>12.0</td>\n",
              "      <td>8.0</td>\n",
              "      <td>6.0</td>\n",
              "      <td>1.0</td>\n",
              "      <td>2.0</td>\n",
              "      <td>3.0</td>\n",
              "      <td>2.0</td>\n",
              "      <td>2.0</td>\n",
              "      <td>3.0</td>\n",
              "      <td>4.0</td>\n",
              "      <td>5.0</td>\n",
              "      <td>4.0</td>\n",
              "      <td>4.0</td>\n",
              "      <td>6.0</td>\n",
              "      <td>9.0</td>\n",
              "      <td>12.0</td>\n",
              "      <td>13.0</td>\n",
              "      <td>19.0</td>\n",
              "      <td>20.0</td>\n",
              "      <td>20.0</td>\n",
              "      <td>24.0</td>\n",
              "      <td>29.0</td>\n",
              "      <td>28.0</td>\n",
              "      <td>27.0</td>\n",
              "      <td>30.0</td>\n",
              "      <td>33.0</td>\n",
              "      <td>...</td>\n",
              "      <td>38.0</td>\n",
              "      <td>38.0</td>\n",
              "      <td>48.0</td>\n",
              "      <td>NaN</td>\n",
              "      <td>NaN</td>\n",
              "      <td>NaN</td>\n",
              "      <td>NaN</td>\n",
              "      <td>NaN</td>\n",
              "      <td>NaN</td>\n",
              "      <td>NaN</td>\n",
              "      <td>NaN</td>\n",
              "      <td>NaN</td>\n",
              "      <td>NaN</td>\n",
              "      <td>NaN</td>\n",
              "      <td>NaN</td>\n",
              "      <td>NaN</td>\n",
              "      <td>NaN</td>\n",
              "      <td>NaN</td>\n",
              "      <td>NaN</td>\n",
              "      <td>NaN</td>\n",
              "      <td>NaN</td>\n",
              "      <td>NaN</td>\n",
              "      <td>NaN</td>\n",
              "      <td>NaN</td>\n",
              "      <td>NaN</td>\n",
              "      <td>NaN</td>\n",
              "      <td>NaN</td>\n",
              "      <td>NaN</td>\n",
              "      <td>NaN</td>\n",
              "      <td>NaN</td>\n",
              "      <td>NaN</td>\n",
              "      <td>NaN</td>\n",
              "      <td>NaN</td>\n",
              "      <td>NaN</td>\n",
              "      <td>NaN</td>\n",
              "      <td>NaN</td>\n",
              "      <td>NaN</td>\n",
              "      <td>NaN</td>\n",
              "      <td>NaN</td>\n",
              "      <td>NaN</td>\n",
              "    </tr>\n",
              "  </tbody>\n",
              "</table>\n",
              "<p>317 rows × 81 columns</p>\n",
              "</div>"
            ],
            "text/plain": [
              "     year            artist                    track  ... wk74 wk75  wk76\n",
              "0    2000             2 Pac  Baby Don't Cry (Keep...  ...  NaN  NaN   NaN\n",
              "1    2000           2Ge+her  The Hardest Part Of ...  ...  NaN  NaN   NaN\n",
              "2    2000      3 Doors Down               Kryptonite  ...  NaN  NaN   NaN\n",
              "3    2000      3 Doors Down                    Loser  ...  NaN  NaN   NaN\n",
              "4    2000          504 Boyz            Wobble Wobble  ...  NaN  NaN   NaN\n",
              "..    ...               ...                      ...  ...  ...  ...   ...\n",
              "312  2000       Yankee Grey     Another Nine Minutes  ...  NaN  NaN   NaN\n",
              "313  2000  Yearwood, Trisha          Real Live Woman  ...  NaN  NaN   NaN\n",
              "314  2000   Ying Yang Twins  Whistle While You Tw...  ...  NaN  NaN   NaN\n",
              "315  2000     Zombie Nation            Kernkraft 400  ...  NaN  NaN   NaN\n",
              "316  2000   matchbox twenty                     Bent  ...  NaN  NaN   NaN\n",
              "\n",
              "[317 rows x 81 columns]"
            ]
          },
          "metadata": {
            "tags": []
          },
          "execution_count": 90
        }
      ]
    },
    {
      "cell_type": "code",
      "metadata": {
        "colab": {
          "base_uri": "https://localhost:8080/",
          "height": 402
        },
        "id": "qT-V3Bq2ruXP",
        "outputId": "27af5bc7-dbc5-4e7e-a55d-e0348fe36565"
      },
      "source": [
        "bill_long=pd.melt(billboard, id_vars=['year','artist','track', 'time','date.entered'],var_name='week',value_name='rating')\n",
        "bill_long"
      ],
      "execution_count": null,
      "outputs": [
        {
          "output_type": "execute_result",
          "data": {
            "text/html": [
              "<div>\n",
              "<style scoped>\n",
              "    .dataframe tbody tr th:only-of-type {\n",
              "        vertical-align: middle;\n",
              "    }\n",
              "\n",
              "    .dataframe tbody tr th {\n",
              "        vertical-align: top;\n",
              "    }\n",
              "\n",
              "    .dataframe thead th {\n",
              "        text-align: right;\n",
              "    }\n",
              "</style>\n",
              "<table border=\"1\" class=\"dataframe\">\n",
              "  <thead>\n",
              "    <tr style=\"text-align: right;\">\n",
              "      <th></th>\n",
              "      <th>year</th>\n",
              "      <th>artist</th>\n",
              "      <th>track</th>\n",
              "      <th>time</th>\n",
              "      <th>date.entered</th>\n",
              "      <th>week</th>\n",
              "      <th>rating</th>\n",
              "    </tr>\n",
              "  </thead>\n",
              "  <tbody>\n",
              "    <tr>\n",
              "      <th>0</th>\n",
              "      <td>2000</td>\n",
              "      <td>2 Pac</td>\n",
              "      <td>Baby Don't Cry (Keep...</td>\n",
              "      <td>4:22</td>\n",
              "      <td>2000-02-26</td>\n",
              "      <td>wk1</td>\n",
              "      <td>87.0</td>\n",
              "    </tr>\n",
              "    <tr>\n",
              "      <th>1</th>\n",
              "      <td>2000</td>\n",
              "      <td>2Ge+her</td>\n",
              "      <td>The Hardest Part Of ...</td>\n",
              "      <td>3:15</td>\n",
              "      <td>2000-09-02</td>\n",
              "      <td>wk1</td>\n",
              "      <td>91.0</td>\n",
              "    </tr>\n",
              "    <tr>\n",
              "      <th>2</th>\n",
              "      <td>2000</td>\n",
              "      <td>3 Doors Down</td>\n",
              "      <td>Kryptonite</td>\n",
              "      <td>3:53</td>\n",
              "      <td>2000-04-08</td>\n",
              "      <td>wk1</td>\n",
              "      <td>81.0</td>\n",
              "    </tr>\n",
              "    <tr>\n",
              "      <th>3</th>\n",
              "      <td>2000</td>\n",
              "      <td>3 Doors Down</td>\n",
              "      <td>Loser</td>\n",
              "      <td>4:24</td>\n",
              "      <td>2000-10-21</td>\n",
              "      <td>wk1</td>\n",
              "      <td>76.0</td>\n",
              "    </tr>\n",
              "    <tr>\n",
              "      <th>4</th>\n",
              "      <td>2000</td>\n",
              "      <td>504 Boyz</td>\n",
              "      <td>Wobble Wobble</td>\n",
              "      <td>3:35</td>\n",
              "      <td>2000-04-15</td>\n",
              "      <td>wk1</td>\n",
              "      <td>57.0</td>\n",
              "    </tr>\n",
              "    <tr>\n",
              "      <th>...</th>\n",
              "      <td>...</td>\n",
              "      <td>...</td>\n",
              "      <td>...</td>\n",
              "      <td>...</td>\n",
              "      <td>...</td>\n",
              "      <td>...</td>\n",
              "      <td>...</td>\n",
              "    </tr>\n",
              "    <tr>\n",
              "      <th>24087</th>\n",
              "      <td>2000</td>\n",
              "      <td>Yankee Grey</td>\n",
              "      <td>Another Nine Minutes</td>\n",
              "      <td>3:10</td>\n",
              "      <td>2000-04-29</td>\n",
              "      <td>wk76</td>\n",
              "      <td>NaN</td>\n",
              "    </tr>\n",
              "    <tr>\n",
              "      <th>24088</th>\n",
              "      <td>2000</td>\n",
              "      <td>Yearwood, Trisha</td>\n",
              "      <td>Real Live Woman</td>\n",
              "      <td>3:55</td>\n",
              "      <td>2000-04-01</td>\n",
              "      <td>wk76</td>\n",
              "      <td>NaN</td>\n",
              "    </tr>\n",
              "    <tr>\n",
              "      <th>24089</th>\n",
              "      <td>2000</td>\n",
              "      <td>Ying Yang Twins</td>\n",
              "      <td>Whistle While You Tw...</td>\n",
              "      <td>4:19</td>\n",
              "      <td>2000-03-18</td>\n",
              "      <td>wk76</td>\n",
              "      <td>NaN</td>\n",
              "    </tr>\n",
              "    <tr>\n",
              "      <th>24090</th>\n",
              "      <td>2000</td>\n",
              "      <td>Zombie Nation</td>\n",
              "      <td>Kernkraft 400</td>\n",
              "      <td>3:30</td>\n",
              "      <td>2000-09-02</td>\n",
              "      <td>wk76</td>\n",
              "      <td>NaN</td>\n",
              "    </tr>\n",
              "    <tr>\n",
              "      <th>24091</th>\n",
              "      <td>2000</td>\n",
              "      <td>matchbox twenty</td>\n",
              "      <td>Bent</td>\n",
              "      <td>4:12</td>\n",
              "      <td>2000-04-29</td>\n",
              "      <td>wk76</td>\n",
              "      <td>NaN</td>\n",
              "    </tr>\n",
              "  </tbody>\n",
              "</table>\n",
              "<p>24092 rows × 7 columns</p>\n",
              "</div>"
            ],
            "text/plain": [
              "       year            artist  ...  week rating\n",
              "0      2000             2 Pac  ...   wk1   87.0\n",
              "1      2000           2Ge+her  ...   wk1   91.0\n",
              "2      2000      3 Doors Down  ...   wk1   81.0\n",
              "3      2000      3 Doors Down  ...   wk1   76.0\n",
              "4      2000          504 Boyz  ...   wk1   57.0\n",
              "...     ...               ...  ...   ...    ...\n",
              "24087  2000       Yankee Grey  ...  wk76    NaN\n",
              "24088  2000  Yearwood, Trisha  ...  wk76    NaN\n",
              "24089  2000   Ying Yang Twins  ...  wk76    NaN\n",
              "24090  2000     Zombie Nation  ...  wk76    NaN\n",
              "24091  2000   matchbox twenty  ...  wk76    NaN\n",
              "\n",
              "[24092 rows x 7 columns]"
            ]
          },
          "metadata": {
            "tags": []
          },
          "execution_count": 91
        }
      ]
    },
    {
      "cell_type": "code",
      "metadata": {
        "colab": {
          "base_uri": "https://localhost:8080/"
        },
        "id": "VUO_mFOswikR",
        "outputId": "edd1cb4b-05d7-4bbc-89de-3614f429e39e"
      },
      "source": [
        "import re\n",
        "tel='+1 (123) 456 7890'\n",
        "m=re.match(pattern='\\+\\d \\(\\d\\d\\d\\) \\d\\d\\d \\d\\d\\d', string=tel)\n",
        "print(m)"
      ],
      "execution_count": null,
      "outputs": [
        {
          "output_type": "stream",
          "text": [
            "<_sre.SRE_Match object; span=(0, 16), match='+1 (123) 456 789'>\n"
          ],
          "name": "stdout"
        }
      ]
    },
    {
      "cell_type": "code",
      "metadata": {
        "id": "6eEtleKsxyiz"
      },
      "source": [
        ""
      ],
      "execution_count": null,
      "outputs": []
    }
  ]
}